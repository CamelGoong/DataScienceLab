{
  "nbformat": 4,
  "nbformat_minor": 0,
  "metadata": {
    "kernelspec": {
      "language": "python",
      "display_name": "Python 3",
      "name": "python3"
    },
    "language_info": {
      "name": "python",
      "version": "3.7.10",
      "mimetype": "text/x-python",
      "codemirror_mode": {
        "name": "ipython",
        "version": 3
      },
      "pygments_lexer": "ipython3",
      "nbconvert_exporter": "python",
      "file_extension": ".py"
    },
    "colab": {
      "name": "[박해균]210826_CNN3_세션과제.ipynb",
      "provenance": [],
      "collapsed_sections": [],
      "machine_shape": "hm",
      "include_colab_link": true
    },
    "accelerator": "GPU"
  },
  "cells": [
    {
      "cell_type": "markdown",
      "metadata": {
        "id": "view-in-github",
        "colab_type": "text"
      },
      "source": [
        "<a href=\"https://colab.research.google.com/github/CamelGoong/DataScienceLab/blob/main/%5B%EB%B0%95%ED%95%B4%EA%B7%A0%5D210826_CNN3_%EC%84%B8%EC%85%98%EA%B3%BC%EC%A0%9C.ipynb\" target=\"_parent\"><img src=\"https://colab.research.google.com/assets/colab-badge.svg\" alt=\"Open In Colab\"/></a>"
      ]
    },
    {
      "cell_type": "code",
      "metadata": {
        "_uuid": "8f2839f25d086af736a60e9eeb907d3b93b6e0e5",
        "_cell_guid": "b1076dfc-b9ad-4769-8c92-a6c4dae69d19",
        "execution": {
          "iopub.status.busy": "2021-08-19T07:08:37.610882Z",
          "iopub.execute_input": "2021-08-19T07:08:37.611217Z",
          "iopub.status.idle": "2021-08-19T07:08:37.619973Z",
          "shell.execute_reply.started": "2021-08-19T07:08:37.611187Z",
          "shell.execute_reply": "2021-08-19T07:08:37.618169Z"
        },
        "trusted": true,
        "colab": {
          "base_uri": "https://localhost:8080/"
        },
        "id": "TLZzq44ZC_IA",
        "outputId": "dd1f7ee5-67f4-4ace-f6ac-15388f9732da"
      },
      "source": [
        "import torch \n",
        "import torch.nn as nn #많은 neural network이 담겨있는 모듈입니다. \n",
        "import torch.optim as optim  # 많은 optimizer가 담겨있는 모듈입니다. \n",
        "import torch.nn.init as init # neural network를 초기화 하는 모듈을 담고 있습니다. \n",
        "from torch.utils.data import DataLoader # DataLoader는 데이터를 batch_size만큼 불러오는 역할 등을 수행합니다. \n",
        "import torchvision \n",
        "import torchvision.datasets as dset # 사진 등의 vision 데이터가 담겨있는 모듈입니다. \n",
        "import torchvision.transforms as transforms #이 모듈에는 데이터를 자르고, 반전시키고 tensor로 변환해주기 등의 데이터 변환 함수가 담겨있습니다.\n",
        "import numpy as np\n",
        "import os \n",
        "import matplotlib.pyplot as plt\n",
        "from torchvision.datasets import ImageFolder\n",
        "print(torch.__version__)\n"
      ],
      "execution_count": 1,
      "outputs": [
        {
          "output_type": "stream",
          "text": [
            "1.9.0+cu102\n"
          ],
          "name": "stdout"
        }
      ]
    },
    {
      "cell_type": "code",
      "metadata": {
        "colab": {
          "base_uri": "https://localhost:8080/"
        },
        "id": "MJuagFtQH68j",
        "outputId": "95b70131-ed0a-4f41-9c6a-919fdbe18f4b"
      },
      "source": [
        "from google.colab import drive\n",
        "drive.mount('/content/gdrive')"
      ],
      "execution_count": 2,
      "outputs": [
        {
          "output_type": "stream",
          "text": [
            "Mounted at /content/gdrive\n"
          ],
          "name": "stdout"
        }
      ]
    },
    {
      "cell_type": "code",
      "metadata": {
        "id": "zAcv_SbxH8R0",
        "colab": {
          "base_uri": "https://localhost:8080/"
        },
        "outputId": "02efde1e-495c-48ea-9353-466c34ffacdb"
      },
      "source": [
        "!unzip -qq \"/content/gdrive/MyDrive/DSL/20210819_CNN1/archive.zip\" -d \"/content/gdrive/MyDrive/DSL/20210819_CNN/\""
      ],
      "execution_count": 3,
      "outputs": [
        {
          "output_type": "stream",
          "text": [
            "replace /content/gdrive/MyDrive/DSL/20210819_CNN/chest_xray/__MACOSX/._chest_xray? [y]es, [n]o, [A]ll, [N]one, [r]ename: "
          ],
          "name": "stdout"
        }
      ]
    },
    {
      "cell_type": "code",
      "metadata": {
        "execution": {
          "iopub.status.busy": "2021-08-19T07:07:28.546681Z",
          "iopub.execute_input": "2021-08-19T07:07:28.547007Z",
          "iopub.status.idle": "2021-08-19T07:07:28.558937Z",
          "shell.execute_reply.started": "2021-08-19T07:07:28.546976Z",
          "shell.execute_reply": "2021-08-19T07:07:28.558071Z"
        },
        "trusted": true,
        "id": "ViEtqjQCC_Ib"
      },
      "source": [
        "path = '/content/gdrive/MyDrive/DSL/20210819_CNN/chest_xray'\n",
        "mean = torch.tensor([0.4822])\n",
        "std = torch.tensor([0.2328])\n",
        "transformations = transforms.Compose([transforms.Resize((64,64)), \n",
        "                              transforms.ToTensor(), \n",
        "                              transforms.Normalize(mean, std),\n",
        "                             ])"
      ],
      "execution_count": 47,
      "outputs": []
    },
    {
      "cell_type": "code",
      "metadata": {
        "execution": {
          "iopub.status.busy": "2021-08-19T07:08:50.150482Z",
          "iopub.execute_input": "2021-08-19T07:08:50.150858Z",
          "iopub.status.idle": "2021-08-19T07:08:54.576782Z",
          "shell.execute_reply.started": "2021-08-19T07:08:50.150822Z",
          "shell.execute_reply": "2021-08-19T07:08:54.575708Z"
        },
        "trusted": true,
        "id": "JU_IuzfLC_Ie"
      },
      "source": [
        "train = ImageFolder(os.path.join(path, 'train'), transform=transformations, target_transform=lambda x: np.reshape(np.float32(x),(1)))\n",
        "val = ImageFolder(os.path.join(path, 'val'), transform=transformations, target_transform=lambda x: np.reshape(np.float32(x),(1)))\n",
        "test = ImageFolder(os.path.join(path, 'test'), transform=transformations, target_transform=lambda x: np.reshape(np.float32(x),(1)))"
      ],
      "execution_count": 48,
      "outputs": []
    },
    {
      "cell_type": "code",
      "metadata": {
        "execution": {
          "iopub.status.busy": "2021-08-19T07:09:37.589263Z",
          "iopub.execute_input": "2021-08-19T07:09:37.589607Z",
          "iopub.status.idle": "2021-08-19T07:09:37.794532Z",
          "shell.execute_reply.started": "2021-08-19T07:09:37.589557Z",
          "shell.execute_reply": "2021-08-19T07:09:37.793126Z"
        },
        "trusted": true,
        "colab": {
          "base_uri": "https://localhost:8080/"
        },
        "id": "K3-uU-CtC_Ih",
        "outputId": "9d6cf11c-df04-4c5f-8c72-2286ba5aaa7d"
      },
      "source": [
        "print(train.__getitem__(0)[0].size(), train.__len__())\n",
        "print(test.__getitem__(0)[0].size(), test.__len__())\n",
        "\n",
        "print(len(train),len(test))\n",
        "#print(mnist_train[0])\n"
      ],
      "execution_count": 49,
      "outputs": [
        {
          "output_type": "stream",
          "text": [
            "torch.Size([3, 64, 64]) 5216\n",
            "torch.Size([3, 64, 64]) 624\n",
            "5216 624\n"
          ],
          "name": "stdout"
        }
      ]
    },
    {
      "cell_type": "code",
      "metadata": {
        "execution": {
          "iopub.status.busy": "2021-08-19T07:10:12.166180Z",
          "iopub.execute_input": "2021-08-19T07:10:12.166529Z",
          "iopub.status.idle": "2021-08-19T07:10:12.171117Z",
          "shell.execute_reply.started": "2021-08-19T07:10:12.166495Z",
          "shell.execute_reply": "2021-08-19T07:10:12.170186Z"
        },
        "trusted": true,
        "id": "OQzSDMUYC_Im"
      },
      "source": [
        "num_epoch=20\n",
        "batch_size=16\n",
        "learning_rate= 0.0003"
      ],
      "execution_count": 82,
      "outputs": []
    },
    {
      "cell_type": "code",
      "metadata": {
        "execution": {
          "iopub.status.busy": "2021-08-19T07:10:33.035008Z",
          "iopub.execute_input": "2021-08-19T07:10:33.035324Z",
          "iopub.status.idle": "2021-08-19T07:10:33.040197Z",
          "shell.execute_reply.started": "2021-08-19T07:10:33.035291Z",
          "shell.execute_reply": "2021-08-19T07:10:33.039237Z"
        },
        "trusted": true,
        "id": "DohHCgVMC_Ip"
      },
      "source": [
        "#데이터 쪼개기\n",
        "train_loader=DataLoader(dataset=train,batch_size=batch_size,shuffle=True,num_workers=3,drop_last=True)\n",
        "test_loader=DataLoader(dataset=test,batch_size=batch_size,shuffle=False,num_workers=3,drop_last=True)"
      ],
      "execution_count": 52,
      "outputs": []
    },
    {
      "cell_type": "markdown",
      "metadata": {
        "id": "nOe_b84B3sez"
      },
      "source": [
        "#1. GoogleNet(CNN)"
      ]
    },
    {
      "cell_type": "code",
      "metadata": {
        "id": "uTZ-DQV_XDh7"
      },
      "source": [
        "# 전이학습 모델 import(GoogleNet)\n",
        "import torchvision.models as models\n",
        "device=torch.device(\"cuda:0\" if torch.cuda.is_available() else 'cpu')\n",
        "criterion = torch.nn.BCELoss()\n",
        "optimizer=torch.optim.Adam(model.parameters(),lr=learning_rate, weight_decay=0.1)"
      ],
      "execution_count": 89,
      "outputs": []
    },
    {
      "cell_type": "code",
      "metadata": {
        "id": "W6m4wJ_KC_Is"
      },
      "source": [
        "# 1. GoogleNet(CNN)\n",
        "class CNN(nn.Module):\n",
        "    def __init__(self):\n",
        "        super(CNN, self).__init__()\n",
        "        self.googlenet = models.googlenet(pretrained=True)\n",
        "        self.FC = nn.Linear(1000,1)\n",
        "        \n",
        "    def forward(self,x):\n",
        "        x = nn.functional.relu(self.googlenet(x))\n",
        "        x = torch.sigmoid(self.FC(x))\n",
        "        return x"
      ],
      "execution_count": 90,
      "outputs": []
    },
    {
      "cell_type": "code",
      "metadata": {
        "colab": {
          "base_uri": "https://localhost:8080/"
        },
        "id": "j2PaW2fCuKOA",
        "outputId": "a03b3fa6-5340-40f6-ca33-bcbb0b5f497b"
      },
      "source": [
        "from torchsummary import summary\n",
        "model = CNN().to(device)\n",
        "summary(model, input_size = (3, 64, 64))"
      ],
      "execution_count": 91,
      "outputs": [
        {
          "output_type": "stream",
          "text": [
            "----------------------------------------------------------------\n",
            "        Layer (type)               Output Shape         Param #\n",
            "================================================================\n",
            "            Conv2d-1           [-1, 64, 32, 32]           9,408\n",
            "       BatchNorm2d-2           [-1, 64, 32, 32]             128\n",
            "       BasicConv2d-3           [-1, 64, 32, 32]               0\n",
            "         MaxPool2d-4           [-1, 64, 16, 16]               0\n",
            "            Conv2d-5           [-1, 64, 16, 16]           4,096\n",
            "       BatchNorm2d-6           [-1, 64, 16, 16]             128\n",
            "       BasicConv2d-7           [-1, 64, 16, 16]               0\n",
            "            Conv2d-8          [-1, 192, 16, 16]         110,592\n",
            "       BatchNorm2d-9          [-1, 192, 16, 16]             384\n",
            "      BasicConv2d-10          [-1, 192, 16, 16]               0\n",
            "        MaxPool2d-11            [-1, 192, 8, 8]               0\n",
            "           Conv2d-12             [-1, 64, 8, 8]          12,288\n",
            "      BatchNorm2d-13             [-1, 64, 8, 8]             128\n",
            "      BasicConv2d-14             [-1, 64, 8, 8]               0\n",
            "           Conv2d-15             [-1, 96, 8, 8]          18,432\n",
            "      BatchNorm2d-16             [-1, 96, 8, 8]             192\n",
            "      BasicConv2d-17             [-1, 96, 8, 8]               0\n",
            "           Conv2d-18            [-1, 128, 8, 8]         110,592\n",
            "      BatchNorm2d-19            [-1, 128, 8, 8]             256\n",
            "      BasicConv2d-20            [-1, 128, 8, 8]               0\n",
            "           Conv2d-21             [-1, 16, 8, 8]           3,072\n",
            "      BatchNorm2d-22             [-1, 16, 8, 8]              32\n",
            "      BasicConv2d-23             [-1, 16, 8, 8]               0\n",
            "           Conv2d-24             [-1, 32, 8, 8]           4,608\n",
            "      BatchNorm2d-25             [-1, 32, 8, 8]              64\n",
            "      BasicConv2d-26             [-1, 32, 8, 8]               0\n",
            "        MaxPool2d-27            [-1, 192, 8, 8]               0\n",
            "           Conv2d-28             [-1, 32, 8, 8]           6,144\n",
            "      BatchNorm2d-29             [-1, 32, 8, 8]              64\n",
            "      BasicConv2d-30             [-1, 32, 8, 8]               0\n",
            "        Inception-31            [-1, 256, 8, 8]               0\n",
            "           Conv2d-32            [-1, 128, 8, 8]          32,768\n",
            "      BatchNorm2d-33            [-1, 128, 8, 8]             256\n",
            "      BasicConv2d-34            [-1, 128, 8, 8]               0\n",
            "           Conv2d-35            [-1, 128, 8, 8]          32,768\n",
            "      BatchNorm2d-36            [-1, 128, 8, 8]             256\n",
            "      BasicConv2d-37            [-1, 128, 8, 8]               0\n",
            "           Conv2d-38            [-1, 192, 8, 8]         221,184\n",
            "      BatchNorm2d-39            [-1, 192, 8, 8]             384\n",
            "      BasicConv2d-40            [-1, 192, 8, 8]               0\n",
            "           Conv2d-41             [-1, 32, 8, 8]           8,192\n",
            "      BatchNorm2d-42             [-1, 32, 8, 8]              64\n",
            "      BasicConv2d-43             [-1, 32, 8, 8]               0\n",
            "           Conv2d-44             [-1, 96, 8, 8]          27,648\n",
            "      BatchNorm2d-45             [-1, 96, 8, 8]             192\n",
            "      BasicConv2d-46             [-1, 96, 8, 8]               0\n",
            "        MaxPool2d-47            [-1, 256, 8, 8]               0\n",
            "           Conv2d-48             [-1, 64, 8, 8]          16,384\n",
            "      BatchNorm2d-49             [-1, 64, 8, 8]             128\n",
            "      BasicConv2d-50             [-1, 64, 8, 8]               0\n",
            "        Inception-51            [-1, 480, 8, 8]               0\n",
            "        MaxPool2d-52            [-1, 480, 4, 4]               0\n",
            "           Conv2d-53            [-1, 192, 4, 4]          92,160\n",
            "      BatchNorm2d-54            [-1, 192, 4, 4]             384\n",
            "      BasicConv2d-55            [-1, 192, 4, 4]               0\n",
            "           Conv2d-56             [-1, 96, 4, 4]          46,080\n",
            "      BatchNorm2d-57             [-1, 96, 4, 4]             192\n",
            "      BasicConv2d-58             [-1, 96, 4, 4]               0\n",
            "           Conv2d-59            [-1, 208, 4, 4]         179,712\n",
            "      BatchNorm2d-60            [-1, 208, 4, 4]             416\n",
            "      BasicConv2d-61            [-1, 208, 4, 4]               0\n",
            "           Conv2d-62             [-1, 16, 4, 4]           7,680\n",
            "      BatchNorm2d-63             [-1, 16, 4, 4]              32\n",
            "      BasicConv2d-64             [-1, 16, 4, 4]               0\n",
            "           Conv2d-65             [-1, 48, 4, 4]           6,912\n",
            "      BatchNorm2d-66             [-1, 48, 4, 4]              96\n",
            "      BasicConv2d-67             [-1, 48, 4, 4]               0\n",
            "        MaxPool2d-68            [-1, 480, 4, 4]               0\n",
            "           Conv2d-69             [-1, 64, 4, 4]          30,720\n",
            "      BatchNorm2d-70             [-1, 64, 4, 4]             128\n",
            "      BasicConv2d-71             [-1, 64, 4, 4]               0\n",
            "        Inception-72            [-1, 512, 4, 4]               0\n",
            "           Conv2d-73            [-1, 160, 4, 4]          81,920\n",
            "      BatchNorm2d-74            [-1, 160, 4, 4]             320\n",
            "      BasicConv2d-75            [-1, 160, 4, 4]               0\n",
            "           Conv2d-76            [-1, 112, 4, 4]          57,344\n",
            "      BatchNorm2d-77            [-1, 112, 4, 4]             224\n",
            "      BasicConv2d-78            [-1, 112, 4, 4]               0\n",
            "           Conv2d-79            [-1, 224, 4, 4]         225,792\n",
            "      BatchNorm2d-80            [-1, 224, 4, 4]             448\n",
            "      BasicConv2d-81            [-1, 224, 4, 4]               0\n",
            "           Conv2d-82             [-1, 24, 4, 4]          12,288\n",
            "      BatchNorm2d-83             [-1, 24, 4, 4]              48\n",
            "      BasicConv2d-84             [-1, 24, 4, 4]               0\n",
            "           Conv2d-85             [-1, 64, 4, 4]          13,824\n",
            "      BatchNorm2d-86             [-1, 64, 4, 4]             128\n",
            "      BasicConv2d-87             [-1, 64, 4, 4]               0\n",
            "        MaxPool2d-88            [-1, 512, 4, 4]               0\n",
            "           Conv2d-89             [-1, 64, 4, 4]          32,768\n",
            "      BatchNorm2d-90             [-1, 64, 4, 4]             128\n",
            "      BasicConv2d-91             [-1, 64, 4, 4]               0\n",
            "        Inception-92            [-1, 512, 4, 4]               0\n",
            "           Conv2d-93            [-1, 128, 4, 4]          65,536\n",
            "      BatchNorm2d-94            [-1, 128, 4, 4]             256\n",
            "      BasicConv2d-95            [-1, 128, 4, 4]               0\n",
            "           Conv2d-96            [-1, 128, 4, 4]          65,536\n",
            "      BatchNorm2d-97            [-1, 128, 4, 4]             256\n",
            "      BasicConv2d-98            [-1, 128, 4, 4]               0\n",
            "           Conv2d-99            [-1, 256, 4, 4]         294,912\n",
            "     BatchNorm2d-100            [-1, 256, 4, 4]             512\n",
            "     BasicConv2d-101            [-1, 256, 4, 4]               0\n",
            "          Conv2d-102             [-1, 24, 4, 4]          12,288\n",
            "     BatchNorm2d-103             [-1, 24, 4, 4]              48\n",
            "     BasicConv2d-104             [-1, 24, 4, 4]               0\n",
            "          Conv2d-105             [-1, 64, 4, 4]          13,824\n",
            "     BatchNorm2d-106             [-1, 64, 4, 4]             128\n",
            "     BasicConv2d-107             [-1, 64, 4, 4]               0\n",
            "       MaxPool2d-108            [-1, 512, 4, 4]               0\n",
            "          Conv2d-109             [-1, 64, 4, 4]          32,768\n",
            "     BatchNorm2d-110             [-1, 64, 4, 4]             128\n",
            "     BasicConv2d-111             [-1, 64, 4, 4]               0\n",
            "       Inception-112            [-1, 512, 4, 4]               0\n",
            "          Conv2d-113            [-1, 112, 4, 4]          57,344\n",
            "     BatchNorm2d-114            [-1, 112, 4, 4]             224\n",
            "     BasicConv2d-115            [-1, 112, 4, 4]               0\n",
            "          Conv2d-116            [-1, 144, 4, 4]          73,728\n",
            "     BatchNorm2d-117            [-1, 144, 4, 4]             288\n",
            "     BasicConv2d-118            [-1, 144, 4, 4]               0\n",
            "          Conv2d-119            [-1, 288, 4, 4]         373,248\n",
            "     BatchNorm2d-120            [-1, 288, 4, 4]             576\n",
            "     BasicConv2d-121            [-1, 288, 4, 4]               0\n",
            "          Conv2d-122             [-1, 32, 4, 4]          16,384\n",
            "     BatchNorm2d-123             [-1, 32, 4, 4]              64\n",
            "     BasicConv2d-124             [-1, 32, 4, 4]               0\n",
            "          Conv2d-125             [-1, 64, 4, 4]          18,432\n",
            "     BatchNorm2d-126             [-1, 64, 4, 4]             128\n",
            "     BasicConv2d-127             [-1, 64, 4, 4]               0\n",
            "       MaxPool2d-128            [-1, 512, 4, 4]               0\n",
            "          Conv2d-129             [-1, 64, 4, 4]          32,768\n",
            "     BatchNorm2d-130             [-1, 64, 4, 4]             128\n",
            "     BasicConv2d-131             [-1, 64, 4, 4]               0\n",
            "       Inception-132            [-1, 528, 4, 4]               0\n",
            "          Conv2d-133            [-1, 256, 4, 4]         135,168\n",
            "     BatchNorm2d-134            [-1, 256, 4, 4]             512\n",
            "     BasicConv2d-135            [-1, 256, 4, 4]               0\n",
            "          Conv2d-136            [-1, 160, 4, 4]          84,480\n",
            "     BatchNorm2d-137            [-1, 160, 4, 4]             320\n",
            "     BasicConv2d-138            [-1, 160, 4, 4]               0\n",
            "          Conv2d-139            [-1, 320, 4, 4]         460,800\n",
            "     BatchNorm2d-140            [-1, 320, 4, 4]             640\n",
            "     BasicConv2d-141            [-1, 320, 4, 4]               0\n",
            "          Conv2d-142             [-1, 32, 4, 4]          16,896\n",
            "     BatchNorm2d-143             [-1, 32, 4, 4]              64\n",
            "     BasicConv2d-144             [-1, 32, 4, 4]               0\n",
            "          Conv2d-145            [-1, 128, 4, 4]          36,864\n",
            "     BatchNorm2d-146            [-1, 128, 4, 4]             256\n",
            "     BasicConv2d-147            [-1, 128, 4, 4]               0\n",
            "       MaxPool2d-148            [-1, 528, 4, 4]               0\n",
            "          Conv2d-149            [-1, 128, 4, 4]          67,584\n",
            "     BatchNorm2d-150            [-1, 128, 4, 4]             256\n",
            "     BasicConv2d-151            [-1, 128, 4, 4]               0\n",
            "       Inception-152            [-1, 832, 4, 4]               0\n",
            "       MaxPool2d-153            [-1, 832, 2, 2]               0\n",
            "          Conv2d-154            [-1, 256, 2, 2]         212,992\n",
            "     BatchNorm2d-155            [-1, 256, 2, 2]             512\n",
            "     BasicConv2d-156            [-1, 256, 2, 2]               0\n",
            "          Conv2d-157            [-1, 160, 2, 2]         133,120\n",
            "     BatchNorm2d-158            [-1, 160, 2, 2]             320\n",
            "     BasicConv2d-159            [-1, 160, 2, 2]               0\n",
            "          Conv2d-160            [-1, 320, 2, 2]         460,800\n",
            "     BatchNorm2d-161            [-1, 320, 2, 2]             640\n",
            "     BasicConv2d-162            [-1, 320, 2, 2]               0\n",
            "          Conv2d-163             [-1, 32, 2, 2]          26,624\n",
            "     BatchNorm2d-164             [-1, 32, 2, 2]              64\n",
            "     BasicConv2d-165             [-1, 32, 2, 2]               0\n",
            "          Conv2d-166            [-1, 128, 2, 2]          36,864\n",
            "     BatchNorm2d-167            [-1, 128, 2, 2]             256\n",
            "     BasicConv2d-168            [-1, 128, 2, 2]               0\n",
            "       MaxPool2d-169            [-1, 832, 2, 2]               0\n",
            "          Conv2d-170            [-1, 128, 2, 2]         106,496\n",
            "     BatchNorm2d-171            [-1, 128, 2, 2]             256\n",
            "     BasicConv2d-172            [-1, 128, 2, 2]               0\n",
            "       Inception-173            [-1, 832, 2, 2]               0\n",
            "          Conv2d-174            [-1, 384, 2, 2]         319,488\n",
            "     BatchNorm2d-175            [-1, 384, 2, 2]             768\n",
            "     BasicConv2d-176            [-1, 384, 2, 2]               0\n",
            "          Conv2d-177            [-1, 192, 2, 2]         159,744\n",
            "     BatchNorm2d-178            [-1, 192, 2, 2]             384\n",
            "     BasicConv2d-179            [-1, 192, 2, 2]               0\n",
            "          Conv2d-180            [-1, 384, 2, 2]         663,552\n",
            "     BatchNorm2d-181            [-1, 384, 2, 2]             768\n",
            "     BasicConv2d-182            [-1, 384, 2, 2]               0\n",
            "          Conv2d-183             [-1, 48, 2, 2]          39,936\n",
            "     BatchNorm2d-184             [-1, 48, 2, 2]              96\n",
            "     BasicConv2d-185             [-1, 48, 2, 2]               0\n",
            "          Conv2d-186            [-1, 128, 2, 2]          55,296\n",
            "     BatchNorm2d-187            [-1, 128, 2, 2]             256\n",
            "     BasicConv2d-188            [-1, 128, 2, 2]               0\n",
            "       MaxPool2d-189            [-1, 832, 2, 2]               0\n",
            "          Conv2d-190            [-1, 128, 2, 2]         106,496\n",
            "     BatchNorm2d-191            [-1, 128, 2, 2]             256\n",
            "     BasicConv2d-192            [-1, 128, 2, 2]               0\n",
            "       Inception-193           [-1, 1024, 2, 2]               0\n",
            "AdaptiveAvgPool2d-194           [-1, 1024, 1, 1]               0\n",
            "         Dropout-195                 [-1, 1024]               0\n",
            "          Linear-196                 [-1, 1000]       1,025,000\n",
            "       GoogLeNet-197                 [-1, 1000]               0\n",
            "          Linear-198                    [-1, 1]           1,001\n",
            "================================================================\n",
            "Total params: 6,625,905\n",
            "Trainable params: 6,625,905\n",
            "Non-trainable params: 0\n",
            "----------------------------------------------------------------\n",
            "Input size (MB): 0.05\n",
            "Forward/backward pass size (MB): 7.71\n",
            "Params size (MB): 25.28\n",
            "Estimated Total Size (MB): 33.03\n",
            "----------------------------------------------------------------\n"
          ],
          "name": "stdout"
        }
      ]
    },
    {
      "cell_type": "code",
      "metadata": {
        "colab": {
          "base_uri": "https://localhost:8080/"
        },
        "id": "1zYXamQOW80m",
        "outputId": "2359eb17-808a-42d3-9ebd-036fc22fbebc"
      },
      "source": [
        "loss_arr=[]\n",
        "for i in range(num_epoch):\n",
        "  for j, [image,label] in enumerate(train_loader):\n",
        "    x = image.to(device)\n",
        "    y = label.view(-1,1)\n",
        "    y = y.to(torch.float32)\n",
        "    y = y.to(device)\n",
        "    optimizer.zero_grad()\n",
        "    prob = model(x)\n",
        "\n",
        "    loss = criterion(prob, y)\n",
        "    # loss = loss_func(output, y_)     \n",
        "    #loss = loss_func(output, torch.max(y_, 1)[1])\n",
        "\n",
        "    loss.backward()\n",
        "    optimizer.step()    \n",
        "    \n",
        "    if j%1000==0:\n",
        "      print(loss)\n",
        "      loss_arr.append(loss.cpu().detach().numpy())"
      ],
      "execution_count": 92,
      "outputs": [
        {
          "output_type": "stream",
          "text": [
            "tensor(0.6908, device='cuda:0', grad_fn=<BinaryCrossEntropyBackward>)\n",
            "tensor(0.8008, device='cuda:0', grad_fn=<BinaryCrossEntropyBackward>)\n",
            "tensor(0.6985, device='cuda:0', grad_fn=<BinaryCrossEntropyBackward>)\n",
            "tensor(0.8737, device='cuda:0', grad_fn=<BinaryCrossEntropyBackward>)\n",
            "tensor(0.7107, device='cuda:0', grad_fn=<BinaryCrossEntropyBackward>)\n",
            "tensor(0.7753, device='cuda:0', grad_fn=<BinaryCrossEntropyBackward>)\n",
            "tensor(0.7296, device='cuda:0', grad_fn=<BinaryCrossEntropyBackward>)\n",
            "tensor(0.5986, device='cuda:0', grad_fn=<BinaryCrossEntropyBackward>)\n",
            "tensor(0.7579, device='cuda:0', grad_fn=<BinaryCrossEntropyBackward>)\n",
            "tensor(0.6744, device='cuda:0', grad_fn=<BinaryCrossEntropyBackward>)\n",
            "tensor(0.7732, device='cuda:0', grad_fn=<BinaryCrossEntropyBackward>)\n",
            "tensor(0.7427, device='cuda:0', grad_fn=<BinaryCrossEntropyBackward>)\n",
            "tensor(0.8017, device='cuda:0', grad_fn=<BinaryCrossEntropyBackward>)\n",
            "tensor(0.7540, device='cuda:0', grad_fn=<BinaryCrossEntropyBackward>)\n",
            "tensor(0.5317, device='cuda:0', grad_fn=<BinaryCrossEntropyBackward>)\n",
            "tensor(0.5993, device='cuda:0', grad_fn=<BinaryCrossEntropyBackward>)\n",
            "tensor(0.7606, device='cuda:0', grad_fn=<BinaryCrossEntropyBackward>)\n",
            "tensor(0.6131, device='cuda:0', grad_fn=<BinaryCrossEntropyBackward>)\n",
            "tensor(0.7544, device='cuda:0', grad_fn=<BinaryCrossEntropyBackward>)\n",
            "tensor(0.6966, device='cuda:0', grad_fn=<BinaryCrossEntropyBackward>)\n"
          ],
          "name": "stdout"
        }
      ]
    },
    {
      "cell_type": "code",
      "metadata": {
        "colab": {
          "base_uri": "https://localhost:8080/",
          "height": 264
        },
        "id": "0sdWprUEC_Iu",
        "outputId": "dea0be7f-9082-4694-b9d6-554889592168"
      },
      "source": [
        "plt.plot(loss_arr)\n",
        "plt.show()"
      ],
      "execution_count": 93,
      "outputs": [
        {
          "output_type": "display_data",
          "data": {
            "image/png": "[encoded data removed]",
            "text/plain": [
              "<Figure size 432x288 with 1 Axes>"
            ]
          },
          "metadata": {
            "needs_background": "light"
          }
        }
      ]
    },
    {
      "cell_type": "code",
      "metadata": {
        "colab": {
          "base_uri": "https://localhost:8080/"
        },
        "id": "ngUWwg_zC_Ix",
        "outputId": "56caf33c-1d04-404c-b4de-7e1c95f48a34"
      },
      "source": [
        "correct=0\n",
        "total=0\n",
        "model.eval()\n",
        "with torch.no_grad():\n",
        "  for image,label in test_loader:\n",
        "    x=image.to(device)\n",
        "    y_=label.to(device)\n",
        "    output=model(x)\n",
        "    pred = output[output.data>0.5]\n",
        "    correct +=pred.sum()\n",
        "    total+=label.size(0)\n",
        "\n",
        "print(\"Accuracy of Test Data: {}%\".format(100*correct/total))"
      ],
      "execution_count": 94,
      "outputs": [
        {
          "output_type": "stream",
          "text": [
            "Accuracy of Test Data: 44.359954833984375%\n"
          ],
          "name": "stdout"
        }
      ]
    },
    {
      "cell_type": "markdown",
      "metadata": {
        "id": "05neqw3L3-Ug"
      },
      "source": [
        "#2. ResNet(CNN2)"
      ]
    },
    {
      "cell_type": "code",
      "metadata": {
        "id": "Y-QFQtsp4CBB"
      },
      "source": [
        "# 전이학습 모델 import(ResNet)\n",
        "import torchvision.models as models\n",
        "device=torch.device(\"cuda:0\" if torch.cuda.is_available() else 'cpu')\n",
        "criterion = torch.nn.BCELoss()\n",
        "optimizer=torch.optim.Adam(model.parameters(),lr=learning_rate, weight_decay=0.1)"
      ],
      "execution_count": 96,
      "outputs": []
    },
    {
      "cell_type": "code",
      "metadata": {
        "id": "3rX_YJu_4FGD"
      },
      "source": [
        "# 1. ResNet(CNN2)\n",
        "class CNN2(nn.Module):\n",
        "    def __init__(self):\n",
        "        super(CNN2, self).__init__()\n",
        "        self.googlenet = models.resnet101(pretrained=True)\n",
        "        self.FC = nn.Linear(1000,1)\n",
        "        \n",
        "    def forward(self,x):\n",
        "        x = nn.functional.relu(self.googlenet(x))\n",
        "        x = torch.sigmoid(self.FC(x))\n",
        "        return x"
      ],
      "execution_count": 97,
      "outputs": []
    },
    {
      "cell_type": "code",
      "metadata": {
        "colab": {
          "base_uri": "https://localhost:8080/"
        },
        "id": "KXoCYEET4I7F",
        "outputId": "122b56ab-0065-442b-dc35-1f4130b56110"
      },
      "source": [
        "from torchsummary import summary\n",
        "model2 = CNN2().to(device)\n",
        "summary(model2, input_size = (3, 64, 64))"
      ],
      "execution_count": 98,
      "outputs": [
        {
          "output_type": "stream",
          "text": [
            "----------------------------------------------------------------\n",
            "        Layer (type)               Output Shape         Param #\n",
            "================================================================\n",
            "            Conv2d-1           [-1, 64, 32, 32]           9,408\n",
            "       BatchNorm2d-2           [-1, 64, 32, 32]             128\n",
            "              ReLU-3           [-1, 64, 32, 32]               0\n",
            "         MaxPool2d-4           [-1, 64, 16, 16]               0\n",
            "            Conv2d-5           [-1, 64, 16, 16]           4,096\n",
            "       BatchNorm2d-6           [-1, 64, 16, 16]             128\n",
            "              ReLU-7           [-1, 64, 16, 16]               0\n",
            "            Conv2d-8           [-1, 64, 16, 16]          36,864\n",
            "       BatchNorm2d-9           [-1, 64, 16, 16]             128\n",
            "             ReLU-10           [-1, 64, 16, 16]               0\n",
            "           Conv2d-11          [-1, 256, 16, 16]          16,384\n",
            "      BatchNorm2d-12          [-1, 256, 16, 16]             512\n",
            "           Conv2d-13          [-1, 256, 16, 16]          16,384\n",
            "      BatchNorm2d-14          [-1, 256, 16, 16]             512\n",
            "             ReLU-15          [-1, 256, 16, 16]               0\n",
            "       Bottleneck-16          [-1, 256, 16, 16]               0\n",
            "           Conv2d-17           [-1, 64, 16, 16]          16,384\n",
            "      BatchNorm2d-18           [-1, 64, 16, 16]             128\n",
            "             ReLU-19           [-1, 64, 16, 16]               0\n",
            "           Conv2d-20           [-1, 64, 16, 16]          36,864\n",
            "      BatchNorm2d-21           [-1, 64, 16, 16]             128\n",
            "             ReLU-22           [-1, 64, 16, 16]               0\n",
            "           Conv2d-23          [-1, 256, 16, 16]          16,384\n",
            "      BatchNorm2d-24          [-1, 256, 16, 16]             512\n",
            "             ReLU-25          [-1, 256, 16, 16]               0\n",
            "       Bottleneck-26          [-1, 256, 16, 16]               0\n",
            "           Conv2d-27           [-1, 64, 16, 16]          16,384\n",
            "      BatchNorm2d-28           [-1, 64, 16, 16]             128\n",
            "             ReLU-29           [-1, 64, 16, 16]               0\n",
            "           Conv2d-30           [-1, 64, 16, 16]          36,864\n",
            "      BatchNorm2d-31           [-1, 64, 16, 16]             128\n",
            "             ReLU-32           [-1, 64, 16, 16]               0\n",
            "           Conv2d-33          [-1, 256, 16, 16]          16,384\n",
            "      BatchNorm2d-34          [-1, 256, 16, 16]             512\n",
            "             ReLU-35          [-1, 256, 16, 16]               0\n",
            "       Bottleneck-36          [-1, 256, 16, 16]               0\n",
            "           Conv2d-37          [-1, 128, 16, 16]          32,768\n",
            "      BatchNorm2d-38          [-1, 128, 16, 16]             256\n",
            "             ReLU-39          [-1, 128, 16, 16]               0\n",
            "           Conv2d-40            [-1, 128, 8, 8]         147,456\n",
            "      BatchNorm2d-41            [-1, 128, 8, 8]             256\n",
            "             ReLU-42            [-1, 128, 8, 8]               0\n",
            "           Conv2d-43            [-1, 512, 8, 8]          65,536\n",
            "      BatchNorm2d-44            [-1, 512, 8, 8]           1,024\n",
            "           Conv2d-45            [-1, 512, 8, 8]         131,072\n",
            "      BatchNorm2d-46            [-1, 512, 8, 8]           1,024\n",
            "             ReLU-47            [-1, 512, 8, 8]               0\n",
            "       Bottleneck-48            [-1, 512, 8, 8]               0\n",
            "           Conv2d-49            [-1, 128, 8, 8]          65,536\n",
            "      BatchNorm2d-50            [-1, 128, 8, 8]             256\n",
            "             ReLU-51            [-1, 128, 8, 8]               0\n",
            "           Conv2d-52            [-1, 128, 8, 8]         147,456\n",
            "      BatchNorm2d-53            [-1, 128, 8, 8]             256\n",
            "             ReLU-54            [-1, 128, 8, 8]               0\n",
            "           Conv2d-55            [-1, 512, 8, 8]          65,536\n",
            "      BatchNorm2d-56            [-1, 512, 8, 8]           1,024\n",
            "             ReLU-57            [-1, 512, 8, 8]               0\n",
            "       Bottleneck-58            [-1, 512, 8, 8]               0\n",
            "           Conv2d-59            [-1, 128, 8, 8]          65,536\n",
            "      BatchNorm2d-60            [-1, 128, 8, 8]             256\n",
            "             ReLU-61            [-1, 128, 8, 8]               0\n",
            "           Conv2d-62            [-1, 128, 8, 8]         147,456\n",
            "      BatchNorm2d-63            [-1, 128, 8, 8]             256\n",
            "             ReLU-64            [-1, 128, 8, 8]               0\n",
            "           Conv2d-65            [-1, 512, 8, 8]          65,536\n",
            "      BatchNorm2d-66            [-1, 512, 8, 8]           1,024\n",
            "             ReLU-67            [-1, 512, 8, 8]               0\n",
            "       Bottleneck-68            [-1, 512, 8, 8]               0\n",
            "           Conv2d-69            [-1, 128, 8, 8]          65,536\n",
            "      BatchNorm2d-70            [-1, 128, 8, 8]             256\n",
            "             ReLU-71            [-1, 128, 8, 8]               0\n",
            "           Conv2d-72            [-1, 128, 8, 8]         147,456\n",
            "      BatchNorm2d-73            [-1, 128, 8, 8]             256\n",
            "             ReLU-74            [-1, 128, 8, 8]               0\n",
            "           Conv2d-75            [-1, 512, 8, 8]          65,536\n",
            "      BatchNorm2d-76            [-1, 512, 8, 8]           1,024\n",
            "             ReLU-77            [-1, 512, 8, 8]               0\n",
            "       Bottleneck-78            [-1, 512, 8, 8]               0\n",
            "           Conv2d-79            [-1, 256, 8, 8]         131,072\n",
            "      BatchNorm2d-80            [-1, 256, 8, 8]             512\n",
            "             ReLU-81            [-1, 256, 8, 8]               0\n",
            "           Conv2d-82            [-1, 256, 4, 4]         589,824\n",
            "      BatchNorm2d-83            [-1, 256, 4, 4]             512\n",
            "             ReLU-84            [-1, 256, 4, 4]               0\n",
            "           Conv2d-85           [-1, 1024, 4, 4]         262,144\n",
            "      BatchNorm2d-86           [-1, 1024, 4, 4]           2,048\n",
            "           Conv2d-87           [-1, 1024, 4, 4]         524,288\n",
            "      BatchNorm2d-88           [-1, 1024, 4, 4]           2,048\n",
            "             ReLU-89           [-1, 1024, 4, 4]               0\n",
            "       Bottleneck-90           [-1, 1024, 4, 4]               0\n",
            "           Conv2d-91            [-1, 256, 4, 4]         262,144\n",
            "      BatchNorm2d-92            [-1, 256, 4, 4]             512\n",
            "             ReLU-93            [-1, 256, 4, 4]               0\n",
            "           Conv2d-94            [-1, 256, 4, 4]         589,824\n",
            "      BatchNorm2d-95            [-1, 256, 4, 4]             512\n",
            "             ReLU-96            [-1, 256, 4, 4]               0\n",
            "           Conv2d-97           [-1, 1024, 4, 4]         262,144\n",
            "      BatchNorm2d-98           [-1, 1024, 4, 4]           2,048\n",
            "             ReLU-99           [-1, 1024, 4, 4]               0\n",
            "      Bottleneck-100           [-1, 1024, 4, 4]               0\n",
            "          Conv2d-101            [-1, 256, 4, 4]         262,144\n",
            "     BatchNorm2d-102            [-1, 256, 4, 4]             512\n",
            "            ReLU-103            [-1, 256, 4, 4]               0\n",
            "          Conv2d-104            [-1, 256, 4, 4]         589,824\n",
            "     BatchNorm2d-105            [-1, 256, 4, 4]             512\n",
            "            ReLU-106            [-1, 256, 4, 4]               0\n",
            "          Conv2d-107           [-1, 1024, 4, 4]         262,144\n",
            "     BatchNorm2d-108           [-1, 1024, 4, 4]           2,048\n",
            "            ReLU-109           [-1, 1024, 4, 4]               0\n",
            "      Bottleneck-110           [-1, 1024, 4, 4]               0\n",
            "          Conv2d-111            [-1, 256, 4, 4]         262,144\n",
            "     BatchNorm2d-112            [-1, 256, 4, 4]             512\n",
            "            ReLU-113            [-1, 256, 4, 4]               0\n",
            "          Conv2d-114            [-1, 256, 4, 4]         589,824\n",
            "     BatchNorm2d-115            [-1, 256, 4, 4]             512\n",
            "            ReLU-116            [-1, 256, 4, 4]               0\n",
            "          Conv2d-117           [-1, 1024, 4, 4]         262,144\n",
            "     BatchNorm2d-118           [-1, 1024, 4, 4]           2,048\n",
            "            ReLU-119           [-1, 1024, 4, 4]               0\n",
            "      Bottleneck-120           [-1, 1024, 4, 4]               0\n",
            "          Conv2d-121            [-1, 256, 4, 4]         262,144\n",
            "     BatchNorm2d-122            [-1, 256, 4, 4]             512\n",
            "            ReLU-123            [-1, 256, 4, 4]               0\n",
            "          Conv2d-124            [-1, 256, 4, 4]         589,824\n",
            "     BatchNorm2d-125            [-1, 256, 4, 4]             512\n",
            "            ReLU-126            [-1, 256, 4, 4]               0\n",
            "          Conv2d-127           [-1, 1024, 4, 4]         262,144\n",
            "     BatchNorm2d-128           [-1, 1024, 4, 4]           2,048\n",
            "            ReLU-129           [-1, 1024, 4, 4]               0\n",
            "      Bottleneck-130           [-1, 1024, 4, 4]               0\n",
            "          Conv2d-131            [-1, 256, 4, 4]         262,144\n",
            "     BatchNorm2d-132            [-1, 256, 4, 4]             512\n",
            "            ReLU-133            [-1, 256, 4, 4]               0\n",
            "          Conv2d-134            [-1, 256, 4, 4]         589,824\n",
            "     BatchNorm2d-135            [-1, 256, 4, 4]             512\n",
            "            ReLU-136            [-1, 256, 4, 4]               0\n",
            "          Conv2d-137           [-1, 1024, 4, 4]         262,144\n",
            "     BatchNorm2d-138           [-1, 1024, 4, 4]           2,048\n",
            "            ReLU-139           [-1, 1024, 4, 4]               0\n",
            "      Bottleneck-140           [-1, 1024, 4, 4]               0\n",
            "          Conv2d-141            [-1, 256, 4, 4]         262,144\n",
            "     BatchNorm2d-142            [-1, 256, 4, 4]             512\n",
            "            ReLU-143            [-1, 256, 4, 4]               0\n",
            "          Conv2d-144            [-1, 256, 4, 4]         589,824\n",
            "     BatchNorm2d-145            [-1, 256, 4, 4]             512\n",
            "            ReLU-146            [-1, 256, 4, 4]               0\n",
            "          Conv2d-147           [-1, 1024, 4, 4]         262,144\n",
            "     BatchNorm2d-148           [-1, 1024, 4, 4]           2,048\n",
            "            ReLU-149           [-1, 1024, 4, 4]               0\n",
            "      Bottleneck-150           [-1, 1024, 4, 4]               0\n",
            "          Conv2d-151            [-1, 256, 4, 4]         262,144\n",
            "     BatchNorm2d-152            [-1, 256, 4, 4]             512\n",
            "            ReLU-153            [-1, 256, 4, 4]               0\n",
            "          Conv2d-154            [-1, 256, 4, 4]         589,824\n",
            "     BatchNorm2d-155            [-1, 256, 4, 4]             512\n",
            "            ReLU-156            [-1, 256, 4, 4]               0\n",
            "          Conv2d-157           [-1, 1024, 4, 4]         262,144\n",
            "     BatchNorm2d-158           [-1, 1024, 4, 4]           2,048\n",
            "            ReLU-159           [-1, 1024, 4, 4]               0\n",
            "      Bottleneck-160           [-1, 1024, 4, 4]               0\n",
            "          Conv2d-161            [-1, 256, 4, 4]         262,144\n",
            "     BatchNorm2d-162            [-1, 256, 4, 4]             512\n",
            "            ReLU-163            [-1, 256, 4, 4]               0\n",
            "          Conv2d-164            [-1, 256, 4, 4]         589,824\n",
            "     BatchNorm2d-165            [-1, 256, 4, 4]             512\n",
            "            ReLU-166            [-1, 256, 4, 4]               0\n",
            "          Conv2d-167           [-1, 1024, 4, 4]         262,144\n",
            "     BatchNorm2d-168           [-1, 1024, 4, 4]           2,048\n",
            "            ReLU-169           [-1, 1024, 4, 4]               0\n",
            "      Bottleneck-170           [-1, 1024, 4, 4]               0\n",
            "          Conv2d-171            [-1, 256, 4, 4]         262,144\n",
            "     BatchNorm2d-172            [-1, 256, 4, 4]             512\n",
            "            ReLU-173            [-1, 256, 4, 4]               0\n",
            "          Conv2d-174            [-1, 256, 4, 4]         589,824\n",
            "     BatchNorm2d-175            [-1, 256, 4, 4]             512\n",
            "            ReLU-176            [-1, 256, 4, 4]               0\n",
            "          Conv2d-177           [-1, 1024, 4, 4]         262,144\n",
            "     BatchNorm2d-178           [-1, 1024, 4, 4]           2,048\n",
            "            ReLU-179           [-1, 1024, 4, 4]               0\n",
            "      Bottleneck-180           [-1, 1024, 4, 4]               0\n",
            "          Conv2d-181            [-1, 256, 4, 4]         262,144\n",
            "     BatchNorm2d-182            [-1, 256, 4, 4]             512\n",
            "            ReLU-183            [-1, 256, 4, 4]               0\n",
            "          Conv2d-184            [-1, 256, 4, 4]         589,824\n",
            "     BatchNorm2d-185            [-1, 256, 4, 4]             512\n",
            "            ReLU-186            [-1, 256, 4, 4]               0\n",
            "          Conv2d-187           [-1, 1024, 4, 4]         262,144\n",
            "     BatchNorm2d-188           [-1, 1024, 4, 4]           2,048\n",
            "            ReLU-189           [-1, 1024, 4, 4]               0\n",
            "      Bottleneck-190           [-1, 1024, 4, 4]               0\n",
            "          Conv2d-191            [-1, 256, 4, 4]         262,144\n",
            "     BatchNorm2d-192            [-1, 256, 4, 4]             512\n",
            "            ReLU-193            [-1, 256, 4, 4]               0\n",
            "          Conv2d-194            [-1, 256, 4, 4]         589,824\n",
            "     BatchNorm2d-195            [-1, 256, 4, 4]             512\n",
            "            ReLU-196            [-1, 256, 4, 4]               0\n",
            "          Conv2d-197           [-1, 1024, 4, 4]         262,144\n",
            "     BatchNorm2d-198           [-1, 1024, 4, 4]           2,048\n",
            "            ReLU-199           [-1, 1024, 4, 4]               0\n",
            "      Bottleneck-200           [-1, 1024, 4, 4]               0\n",
            "          Conv2d-201            [-1, 256, 4, 4]         262,144\n",
            "     BatchNorm2d-202            [-1, 256, 4, 4]             512\n",
            "            ReLU-203            [-1, 256, 4, 4]               0\n",
            "          Conv2d-204            [-1, 256, 4, 4]         589,824\n",
            "     BatchNorm2d-205            [-1, 256, 4, 4]             512\n",
            "            ReLU-206            [-1, 256, 4, 4]               0\n",
            "          Conv2d-207           [-1, 1024, 4, 4]         262,144\n",
            "     BatchNorm2d-208           [-1, 1024, 4, 4]           2,048\n",
            "            ReLU-209           [-1, 1024, 4, 4]               0\n",
            "      Bottleneck-210           [-1, 1024, 4, 4]               0\n",
            "          Conv2d-211            [-1, 256, 4, 4]         262,144\n",
            "     BatchNorm2d-212            [-1, 256, 4, 4]             512\n",
            "            ReLU-213            [-1, 256, 4, 4]               0\n",
            "          Conv2d-214            [-1, 256, 4, 4]         589,824\n",
            "     BatchNorm2d-215            [-1, 256, 4, 4]             512\n",
            "            ReLU-216            [-1, 256, 4, 4]               0\n",
            "          Conv2d-217           [-1, 1024, 4, 4]         262,144\n",
            "     BatchNorm2d-218           [-1, 1024, 4, 4]           2,048\n",
            "            ReLU-219           [-1, 1024, 4, 4]               0\n",
            "      Bottleneck-220           [-1, 1024, 4, 4]               0\n",
            "          Conv2d-221            [-1, 256, 4, 4]         262,144\n",
            "     BatchNorm2d-222            [-1, 256, 4, 4]             512\n",
            "            ReLU-223            [-1, 256, 4, 4]               0\n",
            "          Conv2d-224            [-1, 256, 4, 4]         589,824\n",
            "     BatchNorm2d-225            [-1, 256, 4, 4]             512\n",
            "            ReLU-226            [-1, 256, 4, 4]               0\n",
            "          Conv2d-227           [-1, 1024, 4, 4]         262,144\n",
            "     BatchNorm2d-228           [-1, 1024, 4, 4]           2,048\n",
            "            ReLU-229           [-1, 1024, 4, 4]               0\n",
            "      Bottleneck-230           [-1, 1024, 4, 4]               0\n",
            "          Conv2d-231            [-1, 256, 4, 4]         262,144\n",
            "     BatchNorm2d-232            [-1, 256, 4, 4]             512\n",
            "            ReLU-233            [-1, 256, 4, 4]               0\n",
            "          Conv2d-234            [-1, 256, 4, 4]         589,824\n",
            "     BatchNorm2d-235            [-1, 256, 4, 4]             512\n",
            "            ReLU-236            [-1, 256, 4, 4]               0\n",
            "          Conv2d-237           [-1, 1024, 4, 4]         262,144\n",
            "     BatchNorm2d-238           [-1, 1024, 4, 4]           2,048\n",
            "            ReLU-239           [-1, 1024, 4, 4]               0\n",
            "      Bottleneck-240           [-1, 1024, 4, 4]               0\n",
            "          Conv2d-241            [-1, 256, 4, 4]         262,144\n",
            "     BatchNorm2d-242            [-1, 256, 4, 4]             512\n",
            "            ReLU-243            [-1, 256, 4, 4]               0\n",
            "          Conv2d-244            [-1, 256, 4, 4]         589,824\n",
            "     BatchNorm2d-245            [-1, 256, 4, 4]             512\n",
            "            ReLU-246            [-1, 256, 4, 4]               0\n",
            "          Conv2d-247           [-1, 1024, 4, 4]         262,144\n",
            "     BatchNorm2d-248           [-1, 1024, 4, 4]           2,048\n",
            "            ReLU-249           [-1, 1024, 4, 4]               0\n",
            "      Bottleneck-250           [-1, 1024, 4, 4]               0\n",
            "          Conv2d-251            [-1, 256, 4, 4]         262,144\n",
            "     BatchNorm2d-252            [-1, 256, 4, 4]             512\n",
            "            ReLU-253            [-1, 256, 4, 4]               0\n",
            "          Conv2d-254            [-1, 256, 4, 4]         589,824\n",
            "     BatchNorm2d-255            [-1, 256, 4, 4]             512\n",
            "            ReLU-256            [-1, 256, 4, 4]               0\n",
            "          Conv2d-257           [-1, 1024, 4, 4]         262,144\n",
            "     BatchNorm2d-258           [-1, 1024, 4, 4]           2,048\n",
            "            ReLU-259           [-1, 1024, 4, 4]               0\n",
            "      Bottleneck-260           [-1, 1024, 4, 4]               0\n",
            "          Conv2d-261            [-1, 256, 4, 4]         262,144\n",
            "     BatchNorm2d-262            [-1, 256, 4, 4]             512\n",
            "            ReLU-263            [-1, 256, 4, 4]               0\n",
            "          Conv2d-264            [-1, 256, 4, 4]         589,824\n",
            "     BatchNorm2d-265            [-1, 256, 4, 4]             512\n",
            "            ReLU-266            [-1, 256, 4, 4]               0\n",
            "          Conv2d-267           [-1, 1024, 4, 4]         262,144\n",
            "     BatchNorm2d-268           [-1, 1024, 4, 4]           2,048\n",
            "            ReLU-269           [-1, 1024, 4, 4]               0\n",
            "      Bottleneck-270           [-1, 1024, 4, 4]               0\n",
            "          Conv2d-271            [-1, 256, 4, 4]         262,144\n",
            "     BatchNorm2d-272            [-1, 256, 4, 4]             512\n",
            "            ReLU-273            [-1, 256, 4, 4]               0\n",
            "          Conv2d-274            [-1, 256, 4, 4]         589,824\n",
            "     BatchNorm2d-275            [-1, 256, 4, 4]             512\n",
            "            ReLU-276            [-1, 256, 4, 4]               0\n",
            "          Conv2d-277           [-1, 1024, 4, 4]         262,144\n",
            "     BatchNorm2d-278           [-1, 1024, 4, 4]           2,048\n",
            "            ReLU-279           [-1, 1024, 4, 4]               0\n",
            "      Bottleneck-280           [-1, 1024, 4, 4]               0\n",
            "          Conv2d-281            [-1, 256, 4, 4]         262,144\n",
            "     BatchNorm2d-282            [-1, 256, 4, 4]             512\n",
            "            ReLU-283            [-1, 256, 4, 4]               0\n",
            "          Conv2d-284            [-1, 256, 4, 4]         589,824\n",
            "     BatchNorm2d-285            [-1, 256, 4, 4]             512\n",
            "            ReLU-286            [-1, 256, 4, 4]               0\n",
            "          Conv2d-287           [-1, 1024, 4, 4]         262,144\n",
            "     BatchNorm2d-288           [-1, 1024, 4, 4]           2,048\n",
            "            ReLU-289           [-1, 1024, 4, 4]               0\n",
            "      Bottleneck-290           [-1, 1024, 4, 4]               0\n",
            "          Conv2d-291            [-1, 256, 4, 4]         262,144\n",
            "     BatchNorm2d-292            [-1, 256, 4, 4]             512\n",
            "            ReLU-293            [-1, 256, 4, 4]               0\n",
            "          Conv2d-294            [-1, 256, 4, 4]         589,824\n",
            "     BatchNorm2d-295            [-1, 256, 4, 4]             512\n",
            "            ReLU-296            [-1, 256, 4, 4]               0\n",
            "          Conv2d-297           [-1, 1024, 4, 4]         262,144\n",
            "     BatchNorm2d-298           [-1, 1024, 4, 4]           2,048\n",
            "            ReLU-299           [-1, 1024, 4, 4]               0\n",
            "      Bottleneck-300           [-1, 1024, 4, 4]               0\n",
            "          Conv2d-301            [-1, 256, 4, 4]         262,144\n",
            "     BatchNorm2d-302            [-1, 256, 4, 4]             512\n",
            "            ReLU-303            [-1, 256, 4, 4]               0\n",
            "          Conv2d-304            [-1, 256, 4, 4]         589,824\n",
            "     BatchNorm2d-305            [-1, 256, 4, 4]             512\n",
            "            ReLU-306            [-1, 256, 4, 4]               0\n",
            "          Conv2d-307           [-1, 1024, 4, 4]         262,144\n",
            "     BatchNorm2d-308           [-1, 1024, 4, 4]           2,048\n",
            "            ReLU-309           [-1, 1024, 4, 4]               0\n",
            "      Bottleneck-310           [-1, 1024, 4, 4]               0\n",
            "          Conv2d-311            [-1, 512, 4, 4]         524,288\n",
            "     BatchNorm2d-312            [-1, 512, 4, 4]           1,024\n",
            "            ReLU-313            [-1, 512, 4, 4]               0\n",
            "          Conv2d-314            [-1, 512, 2, 2]       2,359,296\n",
            "     BatchNorm2d-315            [-1, 512, 2, 2]           1,024\n",
            "            ReLU-316            [-1, 512, 2, 2]               0\n",
            "          Conv2d-317           [-1, 2048, 2, 2]       1,048,576\n",
            "     BatchNorm2d-318           [-1, 2048, 2, 2]           4,096\n",
            "          Conv2d-319           [-1, 2048, 2, 2]       2,097,152\n",
            "     BatchNorm2d-320           [-1, 2048, 2, 2]           4,096\n",
            "            ReLU-321           [-1, 2048, 2, 2]               0\n",
            "      Bottleneck-322           [-1, 2048, 2, 2]               0\n",
            "          Conv2d-323            [-1, 512, 2, 2]       1,048,576\n",
            "     BatchNorm2d-324            [-1, 512, 2, 2]           1,024\n",
            "            ReLU-325            [-1, 512, 2, 2]               0\n",
            "          Conv2d-326            [-1, 512, 2, 2]       2,359,296\n",
            "     BatchNorm2d-327            [-1, 512, 2, 2]           1,024\n",
            "            ReLU-328            [-1, 512, 2, 2]               0\n",
            "          Conv2d-329           [-1, 2048, 2, 2]       1,048,576\n",
            "     BatchNorm2d-330           [-1, 2048, 2, 2]           4,096\n",
            "            ReLU-331           [-1, 2048, 2, 2]               0\n",
            "      Bottleneck-332           [-1, 2048, 2, 2]               0\n",
            "          Conv2d-333            [-1, 512, 2, 2]       1,048,576\n",
            "     BatchNorm2d-334            [-1, 512, 2, 2]           1,024\n",
            "            ReLU-335            [-1, 512, 2, 2]               0\n",
            "          Conv2d-336            [-1, 512, 2, 2]       2,359,296\n",
            "     BatchNorm2d-337            [-1, 512, 2, 2]           1,024\n",
            "            ReLU-338            [-1, 512, 2, 2]               0\n",
            "          Conv2d-339           [-1, 2048, 2, 2]       1,048,576\n",
            "     BatchNorm2d-340           [-1, 2048, 2, 2]           4,096\n",
            "            ReLU-341           [-1, 2048, 2, 2]               0\n",
            "      Bottleneck-342           [-1, 2048, 2, 2]               0\n",
            "AdaptiveAvgPool2d-343           [-1, 2048, 1, 1]               0\n",
            "          Linear-344                 [-1, 1000]       2,049,000\n",
            "          ResNet-345                 [-1, 1000]               0\n",
            "          Linear-346                    [-1, 1]           1,001\n",
            "================================================================\n",
            "Total params: 44,550,161\n",
            "Trainable params: 44,550,161\n",
            "Non-trainable params: 0\n",
            "----------------------------------------------------------------\n",
            "Input size (MB): 0.05\n",
            "Forward/backward pass size (MB): 35.11\n",
            "Params size (MB): 169.95\n",
            "Estimated Total Size (MB): 205.10\n",
            "----------------------------------------------------------------\n"
          ],
          "name": "stdout"
        }
      ]
    },
    {
      "cell_type": "code",
      "metadata": {
        "colab": {
          "base_uri": "https://localhost:8080/"
        },
        "id": "UAcWrsXC4OXF",
        "outputId": "ef3973ac-e6f1-4f02-8b36-ffdd9890a0dc"
      },
      "source": [
        "loss_arr=[]\n",
        "for i in range(10):\n",
        "  for j, [image,label] in enumerate(train_loader):\n",
        "    x = image.to(device)\n",
        "    y = label.view(-1,1)\n",
        "    y = y.to(torch.float32)\n",
        "    y = y.to(device)\n",
        "    optimizer.zero_grad()\n",
        "    prob = model2(x)\n",
        "\n",
        "    loss = criterion(prob, y)\n",
        "    # loss = loss_func(output, y_)     \n",
        "    #loss = loss_func(output, torch.max(y_, 1)[1])\n",
        "\n",
        "    loss.backward()\n",
        "    optimizer.step()    \n",
        "    \n",
        "    if j%1000==0:\n",
        "      print(loss)\n",
        "      loss_arr.append(loss.cpu().detach().numpy())"
      ],
      "execution_count": 99,
      "outputs": [
        {
          "output_type": "stream",
          "text": [
            "tensor(0.6635, device='cuda:0', grad_fn=<BinaryCrossEntropyBackward>)\n",
            "tensor(0.5749, device='cuda:0', grad_fn=<BinaryCrossEntropyBackward>)\n",
            "tensor(0.5525, device='cuda:0', grad_fn=<BinaryCrossEntropyBackward>)\n",
            "tensor(0.3893, device='cuda:0', grad_fn=<BinaryCrossEntropyBackward>)\n",
            "tensor(0.4982, device='cuda:0', grad_fn=<BinaryCrossEntropyBackward>)\n",
            "tensor(0.6918, device='cuda:0', grad_fn=<BinaryCrossEntropyBackward>)\n",
            "tensor(0.6204, device='cuda:0', grad_fn=<BinaryCrossEntropyBackward>)\n",
            "tensor(0.7005, device='cuda:0', grad_fn=<BinaryCrossEntropyBackward>)\n",
            "tensor(0.8403, device='cuda:0', grad_fn=<BinaryCrossEntropyBackward>)\n",
            "tensor(0.6652, device='cuda:0', grad_fn=<BinaryCrossEntropyBackward>)\n"
          ],
          "name": "stdout"
        }
      ]
    },
    {
      "cell_type": "code",
      "metadata": {
        "colab": {
          "base_uri": "https://localhost:8080/",
          "height": 264
        },
        "id": "VDMBPJ6Q4TaP",
        "outputId": "7fb051ab-5c6f-4c62-f9c2-662192231bb6"
      },
      "source": [
        "plt.plot(loss_arr)\n",
        "plt.show()"
      ],
      "execution_count": 100,
      "outputs": [
        {
          "output_type": "display_data",
          "data": {
            "image/png": "[encoded data removed]",
            "text/plain": [
              "<Figure size 432x288 with 1 Axes>"
            ]
          },
          "metadata": {
            "needs_background": "light"
          }
        }
      ]
    },
    {
      "cell_type": "code",
      "metadata": {
        "colab": {
          "base_uri": "https://localhost:8080/"
        },
        "id": "mxQiQzIb4QQM",
        "outputId": "5ae23de5-908f-4cd0-d0fb-d762f672b8e9"
      },
      "source": [
        "correct=0\n",
        "total=0\n",
        "model2.eval()\n",
        "with torch.no_grad():\n",
        "  for image,label in test_loader:\n",
        "    x=image.to(device)\n",
        "    y_=label.to(device)\n",
        "    output=model2(x)\n",
        "    pred = output[output.data>0.5]\n",
        "    correct +=pred.sum()\n",
        "    total+=label.size(0)\n",
        "\n",
        "print(\"Accuracy of Test Data: {}%\".format(100*correct/total))"
      ],
      "execution_count": 101,
      "outputs": [
        {
          "output_type": "stream",
          "text": [
            "Accuracy of Test Data: 65.6050033569336%\n"
          ],
          "name": "stdout"
        }
      ]
    }
  ]
}