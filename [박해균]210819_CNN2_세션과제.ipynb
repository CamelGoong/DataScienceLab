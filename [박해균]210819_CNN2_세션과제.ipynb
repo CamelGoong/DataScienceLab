{
  "nbformat": 4,
  "nbformat_minor": 0,
  "metadata": {
    "kernelspec": {
      "language": "python",
      "display_name": "Python 3",
      "name": "python3"
    },
    "language_info": {
      "name": "python",
      "version": "3.7.10",
      "mimetype": "text/x-python",
      "codemirror_mode": {
        "name": "ipython",
        "version": 3
      },
      "pygments_lexer": "ipython3",
      "nbconvert_exporter": "python",
      "file_extension": ".py"
    },
    "colab": {
      "name": "[박해균]210819_CNN_세션과제.ipynb",
      "provenance": [],
      "collapsed_sections": [],
      "include_colab_link": true
    },
    "accelerator": "GPU"
  },
  "cells": [
    {
      "cell_type": "markdown",
      "metadata": {
        "id": "view-in-github",
        "colab_type": "text"
      },
      "source": [
        "<a href=\"https://colab.research.google.com/github/CamelGoong/DataScienceLab/blob/main/%5B%EB%B0%95%ED%95%B4%EA%B7%A0%5D210819_CNN2_%EC%84%B8%EC%85%98%EA%B3%BC%EC%A0%9C.ipynb\" target=\"_parent\"><img src=\"https://colab.research.google.com/assets/colab-badge.svg\" alt=\"Open In Colab\"/></a>"
      ]
    },
    {
      "cell_type": "code",
      "metadata": {
        "_uuid": "8f2839f25d086af736a60e9eeb907d3b93b6e0e5",
        "_cell_guid": "b1076dfc-b9ad-4769-8c92-a6c4dae69d19",
        "execution": {
          "iopub.status.busy": "2021-08-19T07:08:37.610882Z",
          "iopub.execute_input": "2021-08-19T07:08:37.611217Z",
          "iopub.status.idle": "2021-08-19T07:08:37.619973Z",
          "shell.execute_reply.started": "2021-08-19T07:08:37.611187Z",
          "shell.execute_reply": "2021-08-19T07:08:37.618169Z"
        },
        "trusted": true,
        "colab": {
          "base_uri": "https://localhost:8080/"
        },
        "id": "TLZzq44ZC_IA",
        "outputId": "05c4825c-83a6-4203-fe11-3c41a00e451e"
      },
      "source": [
        "import torch \n",
        "import torch.nn as nn #많은 neural network이 담겨있는 모듈입니다. \n",
        "import torch.optim as optim  # 많은 optimizer가 담겨있는 모듈입니다. \n",
        "import torch.nn.init as init # neural network를 초기화 하는 모듈을 담고 있습니다. \n",
        "from torch.utils.data import DataLoader # DataLoader는 데이터를 batch_size만큼 불러오는 역할 등을 수행합니다. \n",
        "import torchvision \n",
        "import torchvision.datasets as dset # 사진 등의 vision 데이터가 담겨있는 모듈입니다. \n",
        "import torchvision.transforms as transforms #이 모듈에는 데이터를 자르고, 반전시키고 tensor로 변환해주기 등의 데이터 변환 함수가 담겨있습니다.\n",
        "import numpy as np\n",
        "import os \n",
        "import matplotlib.pyplot as plt\n",
        "from torchvision.datasets import ImageFolder\n",
        "print(torch.__version__)\n"
      ],
      "execution_count": 1,
      "outputs": [
        {
          "output_type": "stream",
          "text": [
            "1.9.0+cu102\n"
          ],
          "name": "stdout"
        }
      ]
    },
    {
      "cell_type": "code",
      "metadata": {
        "colab": {
          "base_uri": "https://localhost:8080/"
        },
        "id": "MJuagFtQH68j",
        "outputId": "31e683d4-58a5-4bce-c869-f214c6eca0e5"
      },
      "source": [
        "from google.colab import drive\n",
        "drive.mount('/content/gdrive')"
      ],
      "execution_count": 2,
      "outputs": [
        {
          "output_type": "stream",
          "text": [
            "Mounted at /content/gdrive\n"
          ],
          "name": "stdout"
        }
      ]
    },
    {
      "cell_type": "code",
      "metadata": {
        "id": "zAcv_SbxH8R0"
      },
      "source": [
        "!unzip -qq \"/content/gdrive/MyDrive/DSL/20210819_CNN1/archive.zip\" -d \"/content/gdrive/MyDrive/DSL/20210819_CNN/\""
      ],
      "execution_count": null,
      "outputs": []
    },
    {
      "cell_type": "code",
      "metadata": {
        "execution": {
          "iopub.status.busy": "2021-08-19T07:07:28.546681Z",
          "iopub.execute_input": "2021-08-19T07:07:28.547007Z",
          "iopub.status.idle": "2021-08-19T07:07:28.558937Z",
          "shell.execute_reply.started": "2021-08-19T07:07:28.546976Z",
          "shell.execute_reply": "2021-08-19T07:07:28.558071Z"
        },
        "trusted": true,
        "id": "ViEtqjQCC_Ib"
      },
      "source": [
        "path = '/content/gdrive/MyDrive/DSL/20210819_CNN/chest_xray'\n",
        "mean = torch.tensor([0.4822])\n",
        "std = torch.tensor([0.2328])\n",
        "transformations = transforms.Compose([transforms.Resize((64,64)), \n",
        "                              transforms.ToTensor(), \n",
        "                              transforms.Normalize(mean, std),\n",
        "                             ])"
      ],
      "execution_count": 3,
      "outputs": []
    },
    {
      "cell_type": "code",
      "metadata": {
        "execution": {
          "iopub.status.busy": "2021-08-19T07:08:50.150482Z",
          "iopub.execute_input": "2021-08-19T07:08:50.150858Z",
          "iopub.status.idle": "2021-08-19T07:08:54.576782Z",
          "shell.execute_reply.started": "2021-08-19T07:08:50.150822Z",
          "shell.execute_reply": "2021-08-19T07:08:54.575708Z"
        },
        "trusted": true,
        "id": "JU_IuzfLC_Ie"
      },
      "source": [
        "train = ImageFolder(os.path.join(path, 'train'), transform=transformations, target_transform=lambda x:np.reshape(np.float32(x),(-1,1)))\n",
        "val = ImageFolder(os.path.join(path, 'val'), transform=transformations, target_transform=lambda x:np.reshape(np.float32(x),(-1.1)))\n",
        "test = ImageFolder(os.path.join(path, 'test'), transform=transformations)"
      ],
      "execution_count": 67,
      "outputs": []
    },
    {
      "cell_type": "code",
      "metadata": {
        "execution": {
          "iopub.status.busy": "2021-08-19T07:09:37.589263Z",
          "iopub.execute_input": "2021-08-19T07:09:37.589607Z",
          "iopub.status.idle": "2021-08-19T07:09:37.794532Z",
          "shell.execute_reply.started": "2021-08-19T07:09:37.589557Z",
          "shell.execute_reply": "2021-08-19T07:09:37.793126Z"
        },
        "trusted": true,
        "colab": {
          "base_uri": "https://localhost:8080/"
        },
        "id": "K3-uU-CtC_Ih",
        "outputId": "fcea060e-47f6-473d-eb0d-3adaabd6f9eb"
      },
      "source": [
        "print(train.__getitem__(0)[0].size(), train.__len__())\n",
        "print(test.__getitem__(0)[0].size(), test.__len__())\n",
        "\n",
        "print(len(train),len(test))\n",
        "#print(mnist_train[0])\n"
      ],
      "execution_count": 68,
      "outputs": [
        {
          "output_type": "stream",
          "text": [
            "torch.Size([3, 64, 64]) 5216\n",
            "torch.Size([3, 64, 64]) 624\n",
            "5216 624\n"
          ],
          "name": "stdout"
        }
      ]
    },
    {
      "cell_type": "code",
      "metadata": {
        "execution": {
          "iopub.status.busy": "2021-08-19T07:10:12.166180Z",
          "iopub.execute_input": "2021-08-19T07:10:12.166529Z",
          "iopub.status.idle": "2021-08-19T07:10:12.171117Z",
          "shell.execute_reply.started": "2021-08-19T07:10:12.166495Z",
          "shell.execute_reply": "2021-08-19T07:10:12.170186Z"
        },
        "trusted": true,
        "id": "OQzSDMUYC_Im"
      },
      "source": [
        "num_epoch=16\n",
        "batch_size=326\n",
        "learning_rate= 0.0003"
      ],
      "execution_count": 69,
      "outputs": []
    },
    {
      "cell_type": "code",
      "metadata": {
        "execution": {
          "iopub.status.busy": "2021-08-19T07:10:33.035008Z",
          "iopub.execute_input": "2021-08-19T07:10:33.035324Z",
          "iopub.status.idle": "2021-08-19T07:10:33.040197Z",
          "shell.execute_reply.started": "2021-08-19T07:10:33.035291Z",
          "shell.execute_reply": "2021-08-19T07:10:33.039237Z"
        },
        "trusted": true,
        "id": "DohHCgVMC_Ip"
      },
      "source": [
        "#데이터 쪼개기\n",
        "train_loader=DataLoader(dataset=train,batch_size=batch_size,shuffle=True,num_workers=2,drop_last=True)\n",
        "test_loader=DataLoader(dataset=test,batch_size=batch_size,shuffle=False,num_workers=2,drop_last=True)"
      ],
      "execution_count": 70,
      "outputs": []
    },
    {
      "cell_type": "code",
      "metadata": {
        "id": "W6m4wJ_KC_Is"
      },
      "source": [
        "class CNN(nn.Module):\n",
        "    def __init__(self):\n",
        "        super(CNN,self).__init__()\n",
        "        self.layer = nn.Sequential(\n",
        "            nn.Conv2d(in_channels=3,out_channels=16,kernel_size=5, padding=2), # [batch_size,3,64,64] -> [batch_size,16,64,64]\n",
        "            nn.ReLU(),\n",
        "            nn.MaxPool2d(kernel_size=2,stride=2),                              # [batch_size,16,64,64] -> [batch_size,16,32,32]\n",
        "            nn.Conv2d(in_channels=16,out_channels=32,kernel_size=5, padding=2),# [batch_size,16,32,32] -> [batch_size,32,32,32]\n",
        "            nn.ReLU(),\n",
        "            nn.MaxPool2d(kernel_size=2,stride=2),                              # [batch_size,32,32,32] -> [batch_size,32,16,16]\n",
        "            nn.Conv2d(in_channels=32,out_channels=64,kernel_size=5, padding=2),# [batch_size,32,16,16] -> [batch_size,64,16,16]\n",
        "            nn.ReLU(),\n",
        "            nn.MaxPool2d(kernel_size=2,stride=2)                               # [batch_size,64,16,16] -> [batch_size,64,8,8]\n",
        "        )\n",
        "        self.fc_layer = nn.Sequential(                                          \n",
        "            nn.Linear(64*8*8,1000),                                            # [batch_size,64*13*13] -> [batch_size,1000]\n",
        "            nn.ReLU(),\n",
        "            nn.Dropout(0.5),\n",
        "            nn.Linear(1000, 100),                                                # [batch_size,1000] -> [batch_size,100]\n",
        "            nn.ReLU(),\n",
        "            nn.Linear(100, 10),   \n",
        "            nn.Linear(10,1),                                         # [batch_size,100] -> [batch_size,10]\n",
        "        )       \n",
        "        \n",
        "    def forward(self,x):\n",
        "        out = self.layer(x)\n",
        "        out = out.view(batch_size,-1)\n",
        "        out = self.fc_layer(out)\n",
        "        out = torch.sigmoid(out)\n",
        "        return out"
      ],
      "execution_count": 75,
      "outputs": []
    },
    {
      "cell_type": "code",
      "metadata": {
        "id": "uTZ-DQV_XDh7"
      },
      "source": [
        "device=torch.device(\"cuda:0\" if torch.cuda.is_available() else 'cpu')\n",
        "model=CNN().to(device)\n",
        "criterion = torch.nn.BCELoss()\n",
        "optimizer=torch.optim.Adam(model.parameters(),lr=learning_rate, weight_decay=0.1)"
      ],
      "execution_count": 78,
      "outputs": []
    },
    {
      "cell_type": "code",
      "metadata": {
        "colab": {
          "base_uri": "https://localhost:8080/"
        },
        "id": "1zYXamQOW80m",
        "outputId": "b424a5da-c422-4f4d-eb2d-6de23561ac1d"
      },
      "source": [
        "loss_arr=[]\n",
        "for i in range(num_epoch):\n",
        "  for image,label in train_loader:\n",
        "    x = image.to(device)\n",
        "    y = label.view(-1,1)\n",
        "    y = y.to(torch.float32)\n",
        "    y = y.to(device)\n",
        "    optimizer.zero_grad()\n",
        "    prob = model(x)\n",
        "\n",
        "    loss = criterion(prob, y)\n",
        "    # loss = loss_func(output, y_)     \n",
        "    #loss = loss_func(output, torch.max(y_, 1)[1])\n",
        "\n",
        "    loss.backward()\n",
        "    optimizer.step()    \n",
        "    \n",
        "    if j%1000==0:\n",
        "      print(loss)\n",
        "      loss_arr.append(loss.cpu().detach().numpy())"
      ],
      "execution_count": 79,
      "outputs": [
        {
          "output_type": "stream",
          "text": [
            "tensor(0.6701, device='cuda:0', grad_fn=<BinaryCrossEntropyBackward>)\n",
            "tensor(0.6655, device='cuda:0', grad_fn=<BinaryCrossEntropyBackward>)\n",
            "tensor(0.6627, device='cuda:0', grad_fn=<BinaryCrossEntropyBackward>)\n",
            "tensor(0.6634, device='cuda:0', grad_fn=<BinaryCrossEntropyBackward>)\n",
            "tensor(0.6576, device='cuda:0', grad_fn=<BinaryCrossEntropyBackward>)\n",
            "tensor(0.6597, device='cuda:0', grad_fn=<BinaryCrossEntropyBackward>)\n",
            "tensor(0.6609, device='cuda:0', grad_fn=<BinaryCrossEntropyBackward>)\n",
            "tensor(0.6633, device='cuda:0', grad_fn=<BinaryCrossEntropyBackward>)\n",
            "tensor(0.6539, device='cuda:0', grad_fn=<BinaryCrossEntropyBackward>)\n",
            "tensor(0.6548, device='cuda:0', grad_fn=<BinaryCrossEntropyBackward>)\n",
            "tensor(0.6556, device='cuda:0', grad_fn=<BinaryCrossEntropyBackward>)\n",
            "tensor(0.6611, device='cuda:0', grad_fn=<BinaryCrossEntropyBackward>)\n",
            "tensor(0.6640, device='cuda:0', grad_fn=<BinaryCrossEntropyBackward>)\n",
            "tensor(0.6521, device='cuda:0', grad_fn=<BinaryCrossEntropyBackward>)\n",
            "tensor(0.6534, device='cuda:0', grad_fn=<BinaryCrossEntropyBackward>)\n",
            "tensor(0.6543, device='cuda:0', grad_fn=<BinaryCrossEntropyBackward>)\n",
            "tensor(0.6588, device='cuda:0', grad_fn=<BinaryCrossEntropyBackward>)\n",
            "tensor(0.6462, device='cuda:0', grad_fn=<BinaryCrossEntropyBackward>)\n",
            "tensor(0.6536, device='cuda:0', grad_fn=<BinaryCrossEntropyBackward>)\n",
            "tensor(0.6553, device='cuda:0', grad_fn=<BinaryCrossEntropyBackward>)\n",
            "tensor(0.6554, device='cuda:0', grad_fn=<BinaryCrossEntropyBackward>)\n",
            "tensor(0.6592, device='cuda:0', grad_fn=<BinaryCrossEntropyBackward>)\n",
            "tensor(0.6527, device='cuda:0', grad_fn=<BinaryCrossEntropyBackward>)\n",
            "tensor(0.6505, device='cuda:0', grad_fn=<BinaryCrossEntropyBackward>)\n",
            "tensor(0.6542, device='cuda:0', grad_fn=<BinaryCrossEntropyBackward>)\n",
            "tensor(0.6457, device='cuda:0', grad_fn=<BinaryCrossEntropyBackward>)\n",
            "tensor(0.6494, device='cuda:0', grad_fn=<BinaryCrossEntropyBackward>)\n",
            "tensor(0.6413, device='cuda:0', grad_fn=<BinaryCrossEntropyBackward>)\n",
            "tensor(0.6578, device='cuda:0', grad_fn=<BinaryCrossEntropyBackward>)\n",
            "tensor(0.6404, device='cuda:0', grad_fn=<BinaryCrossEntropyBackward>)\n",
            "tensor(0.6426, device='cuda:0', grad_fn=<BinaryCrossEntropyBackward>)\n",
            "tensor(0.6423, device='cuda:0', grad_fn=<BinaryCrossEntropyBackward>)\n",
            "tensor(0.6415, device='cuda:0', grad_fn=<BinaryCrossEntropyBackward>)\n",
            "tensor(0.6338, device='cuda:0', grad_fn=<BinaryCrossEntropyBackward>)\n",
            "tensor(0.6267, device='cuda:0', grad_fn=<BinaryCrossEntropyBackward>)\n",
            "tensor(0.6380, device='cuda:0', grad_fn=<BinaryCrossEntropyBackward>)\n",
            "tensor(0.6198, device='cuda:0', grad_fn=<BinaryCrossEntropyBackward>)\n",
            "tensor(0.6144, device='cuda:0', grad_fn=<BinaryCrossEntropyBackward>)\n",
            "tensor(0.6213, device='cuda:0', grad_fn=<BinaryCrossEntropyBackward>)\n",
            "tensor(0.6132, device='cuda:0', grad_fn=<BinaryCrossEntropyBackward>)\n",
            "tensor(0.6115, device='cuda:0', grad_fn=<BinaryCrossEntropyBackward>)\n",
            "tensor(0.5785, device='cuda:0', grad_fn=<BinaryCrossEntropyBackward>)\n",
            "tensor(0.6094, device='cuda:0', grad_fn=<BinaryCrossEntropyBackward>)\n",
            "tensor(0.5787, device='cuda:0', grad_fn=<BinaryCrossEntropyBackward>)\n",
            "tensor(0.6150, device='cuda:0', grad_fn=<BinaryCrossEntropyBackward>)\n",
            "tensor(0.5773, device='cuda:0', grad_fn=<BinaryCrossEntropyBackward>)\n",
            "tensor(0.6108, device='cuda:0', grad_fn=<BinaryCrossEntropyBackward>)\n",
            "tensor(0.5643, device='cuda:0', grad_fn=<BinaryCrossEntropyBackward>)\n",
            "tensor(0.5768, device='cuda:0', grad_fn=<BinaryCrossEntropyBackward>)\n",
            "tensor(0.5914, device='cuda:0', grad_fn=<BinaryCrossEntropyBackward>)\n",
            "tensor(0.5979, device='cuda:0', grad_fn=<BinaryCrossEntropyBackward>)\n",
            "tensor(0.5791, device='cuda:0', grad_fn=<BinaryCrossEntropyBackward>)\n",
            "tensor(0.5816, device='cuda:0', grad_fn=<BinaryCrossEntropyBackward>)\n",
            "tensor(0.5933, device='cuda:0', grad_fn=<BinaryCrossEntropyBackward>)\n",
            "tensor(0.5901, device='cuda:0', grad_fn=<BinaryCrossEntropyBackward>)\n",
            "tensor(0.5579, device='cuda:0', grad_fn=<BinaryCrossEntropyBackward>)\n",
            "tensor(0.5887, device='cuda:0', grad_fn=<BinaryCrossEntropyBackward>)\n",
            "tensor(0.5694, device='cuda:0', grad_fn=<BinaryCrossEntropyBackward>)\n",
            "tensor(0.6188, device='cuda:0', grad_fn=<BinaryCrossEntropyBackward>)\n",
            "tensor(0.5626, device='cuda:0', grad_fn=<BinaryCrossEntropyBackward>)\n",
            "tensor(0.5777, device='cuda:0', grad_fn=<BinaryCrossEntropyBackward>)\n",
            "tensor(0.5563, device='cuda:0', grad_fn=<BinaryCrossEntropyBackward>)\n",
            "tensor(0.5724, device='cuda:0', grad_fn=<BinaryCrossEntropyBackward>)\n",
            "tensor(0.5434, device='cuda:0', grad_fn=<BinaryCrossEntropyBackward>)\n",
            "tensor(0.5744, device='cuda:0', grad_fn=<BinaryCrossEntropyBackward>)\n",
            "tensor(0.6190, device='cuda:0', grad_fn=<BinaryCrossEntropyBackward>)\n",
            "tensor(0.5752, device='cuda:0', grad_fn=<BinaryCrossEntropyBackward>)\n",
            "tensor(0.5480, device='cuda:0', grad_fn=<BinaryCrossEntropyBackward>)\n",
            "tensor(0.5592, device='cuda:0', grad_fn=<BinaryCrossEntropyBackward>)\n",
            "tensor(0.5504, device='cuda:0', grad_fn=<BinaryCrossEntropyBackward>)\n",
            "tensor(0.5697, device='cuda:0', grad_fn=<BinaryCrossEntropyBackward>)\n",
            "tensor(0.5627, device='cuda:0', grad_fn=<BinaryCrossEntropyBackward>)\n",
            "tensor(0.5744, device='cuda:0', grad_fn=<BinaryCrossEntropyBackward>)\n",
            "tensor(0.5484, device='cuda:0', grad_fn=<BinaryCrossEntropyBackward>)\n",
            "tensor(0.5732, device='cuda:0', grad_fn=<BinaryCrossEntropyBackward>)\n",
            "tensor(0.5810, device='cuda:0', grad_fn=<BinaryCrossEntropyBackward>)\n",
            "tensor(0.6083, device='cuda:0', grad_fn=<BinaryCrossEntropyBackward>)\n",
            "tensor(0.5588, device='cuda:0', grad_fn=<BinaryCrossEntropyBackward>)\n",
            "tensor(0.5582, device='cuda:0', grad_fn=<BinaryCrossEntropyBackward>)\n",
            "tensor(0.5833, device='cuda:0', grad_fn=<BinaryCrossEntropyBackward>)\n",
            "tensor(0.5921, device='cuda:0', grad_fn=<BinaryCrossEntropyBackward>)\n",
            "tensor(0.5591, device='cuda:0', grad_fn=<BinaryCrossEntropyBackward>)\n",
            "tensor(0.5746, device='cuda:0', grad_fn=<BinaryCrossEntropyBackward>)\n",
            "tensor(0.5783, device='cuda:0', grad_fn=<BinaryCrossEntropyBackward>)\n",
            "tensor(0.5459, device='cuda:0', grad_fn=<BinaryCrossEntropyBackward>)\n",
            "tensor(0.5214, device='cuda:0', grad_fn=<BinaryCrossEntropyBackward>)\n",
            "tensor(0.5618, device='cuda:0', grad_fn=<BinaryCrossEntropyBackward>)\n",
            "tensor(0.5749, device='cuda:0', grad_fn=<BinaryCrossEntropyBackward>)\n",
            "tensor(0.5497, device='cuda:0', grad_fn=<BinaryCrossEntropyBackward>)\n",
            "tensor(0.5463, device='cuda:0', grad_fn=<BinaryCrossEntropyBackward>)\n",
            "tensor(0.5864, device='cuda:0', grad_fn=<BinaryCrossEntropyBackward>)\n",
            "tensor(0.5647, device='cuda:0', grad_fn=<BinaryCrossEntropyBackward>)\n",
            "tensor(0.5754, device='cuda:0', grad_fn=<BinaryCrossEntropyBackward>)\n",
            "tensor(0.5804, device='cuda:0', grad_fn=<BinaryCrossEntropyBackward>)\n",
            "tensor(0.5593, device='cuda:0', grad_fn=<BinaryCrossEntropyBackward>)\n",
            "tensor(0.5697, device='cuda:0', grad_fn=<BinaryCrossEntropyBackward>)\n",
            "tensor(0.5676, device='cuda:0', grad_fn=<BinaryCrossEntropyBackward>)\n",
            "tensor(0.5589, device='cuda:0', grad_fn=<BinaryCrossEntropyBackward>)\n",
            "tensor(0.5347, device='cuda:0', grad_fn=<BinaryCrossEntropyBackward>)\n",
            "tensor(0.5283, device='cuda:0', grad_fn=<BinaryCrossEntropyBackward>)\n",
            "tensor(0.5783, device='cuda:0', grad_fn=<BinaryCrossEntropyBackward>)\n",
            "tensor(0.5245, device='cuda:0', grad_fn=<BinaryCrossEntropyBackward>)\n",
            "tensor(0.5593, device='cuda:0', grad_fn=<BinaryCrossEntropyBackward>)\n",
            "tensor(0.6020, device='cuda:0', grad_fn=<BinaryCrossEntropyBackward>)\n",
            "tensor(0.5777, device='cuda:0', grad_fn=<BinaryCrossEntropyBackward>)\n",
            "tensor(0.5316, device='cuda:0', grad_fn=<BinaryCrossEntropyBackward>)\n",
            "tensor(0.5511, device='cuda:0', grad_fn=<BinaryCrossEntropyBackward>)\n",
            "tensor(0.5316, device='cuda:0', grad_fn=<BinaryCrossEntropyBackward>)\n",
            "tensor(0.5443, device='cuda:0', grad_fn=<BinaryCrossEntropyBackward>)\n",
            "tensor(0.5444, device='cuda:0', grad_fn=<BinaryCrossEntropyBackward>)\n",
            "tensor(0.5078, device='cuda:0', grad_fn=<BinaryCrossEntropyBackward>)\n",
            "tensor(0.5505, device='cuda:0', grad_fn=<BinaryCrossEntropyBackward>)\n",
            "tensor(0.5505, device='cuda:0', grad_fn=<BinaryCrossEntropyBackward>)\n",
            "tensor(0.5143, device='cuda:0', grad_fn=<BinaryCrossEntropyBackward>)\n",
            "tensor(0.4926, device='cuda:0', grad_fn=<BinaryCrossEntropyBackward>)\n",
            "tensor(0.5229, device='cuda:0', grad_fn=<BinaryCrossEntropyBackward>)\n",
            "tensor(0.5180, device='cuda:0', grad_fn=<BinaryCrossEntropyBackward>)\n",
            "tensor(0.5160, device='cuda:0', grad_fn=<BinaryCrossEntropyBackward>)\n",
            "tensor(0.5042, device='cuda:0', grad_fn=<BinaryCrossEntropyBackward>)\n",
            "tensor(0.5237, device='cuda:0', grad_fn=<BinaryCrossEntropyBackward>)\n",
            "tensor(0.5213, device='cuda:0', grad_fn=<BinaryCrossEntropyBackward>)\n",
            "tensor(0.4593, device='cuda:0', grad_fn=<BinaryCrossEntropyBackward>)\n",
            "tensor(0.4935, device='cuda:0', grad_fn=<BinaryCrossEntropyBackward>)\n",
            "tensor(0.5371, device='cuda:0', grad_fn=<BinaryCrossEntropyBackward>)\n",
            "tensor(0.5035, device='cuda:0', grad_fn=<BinaryCrossEntropyBackward>)\n",
            "tensor(0.4778, device='cuda:0', grad_fn=<BinaryCrossEntropyBackward>)\n",
            "tensor(0.4656, device='cuda:0', grad_fn=<BinaryCrossEntropyBackward>)\n",
            "tensor(0.4125, device='cuda:0', grad_fn=<BinaryCrossEntropyBackward>)\n",
            "tensor(0.4174, device='cuda:0', grad_fn=<BinaryCrossEntropyBackward>)\n",
            "tensor(0.4007, device='cuda:0', grad_fn=<BinaryCrossEntropyBackward>)\n",
            "tensor(0.4335, device='cuda:0', grad_fn=<BinaryCrossEntropyBackward>)\n",
            "tensor(0.3580, device='cuda:0', grad_fn=<BinaryCrossEntropyBackward>)\n",
            "tensor(0.3746, device='cuda:0', grad_fn=<BinaryCrossEntropyBackward>)\n",
            "tensor(0.3285, device='cuda:0', grad_fn=<BinaryCrossEntropyBackward>)\n",
            "tensor(0.3274, device='cuda:0', grad_fn=<BinaryCrossEntropyBackward>)\n",
            "tensor(0.3332, device='cuda:0', grad_fn=<BinaryCrossEntropyBackward>)\n",
            "tensor(0.3428, device='cuda:0', grad_fn=<BinaryCrossEntropyBackward>)\n",
            "tensor(0.3420, device='cuda:0', grad_fn=<BinaryCrossEntropyBackward>)\n",
            "tensor(0.3245, device='cuda:0', grad_fn=<BinaryCrossEntropyBackward>)\n",
            "tensor(0.3380, device='cuda:0', grad_fn=<BinaryCrossEntropyBackward>)\n",
            "tensor(0.4713, device='cuda:0', grad_fn=<BinaryCrossEntropyBackward>)\n",
            "tensor(0.6887, device='cuda:0', grad_fn=<BinaryCrossEntropyBackward>)\n",
            "tensor(0.2949, device='cuda:0', grad_fn=<BinaryCrossEntropyBackward>)\n",
            "tensor(0.5777, device='cuda:0', grad_fn=<BinaryCrossEntropyBackward>)\n",
            "tensor(0.3587, device='cuda:0', grad_fn=<BinaryCrossEntropyBackward>)\n",
            "tensor(0.4776, device='cuda:0', grad_fn=<BinaryCrossEntropyBackward>)\n",
            "tensor(0.4285, device='cuda:0', grad_fn=<BinaryCrossEntropyBackward>)\n",
            "tensor(0.3804, device='cuda:0', grad_fn=<BinaryCrossEntropyBackward>)\n",
            "tensor(0.3576, device='cuda:0', grad_fn=<BinaryCrossEntropyBackward>)\n",
            "tensor(0.5221, device='cuda:0', grad_fn=<BinaryCrossEntropyBackward>)\n",
            "tensor(0.4198, device='cuda:0', grad_fn=<BinaryCrossEntropyBackward>)\n",
            "tensor(0.3591, device='cuda:0', grad_fn=<BinaryCrossEntropyBackward>)\n",
            "tensor(0.3807, device='cuda:0', grad_fn=<BinaryCrossEntropyBackward>)\n",
            "tensor(0.4294, device='cuda:0', grad_fn=<BinaryCrossEntropyBackward>)\n",
            "tensor(0.4115, device='cuda:0', grad_fn=<BinaryCrossEntropyBackward>)\n",
            "tensor(0.3587, device='cuda:0', grad_fn=<BinaryCrossEntropyBackward>)\n",
            "tensor(0.3698, device='cuda:0', grad_fn=<BinaryCrossEntropyBackward>)\n",
            "tensor(0.4122, device='cuda:0', grad_fn=<BinaryCrossEntropyBackward>)\n",
            "tensor(0.3676, device='cuda:0', grad_fn=<BinaryCrossEntropyBackward>)\n",
            "tensor(0.4127, device='cuda:0', grad_fn=<BinaryCrossEntropyBackward>)\n",
            "tensor(0.3728, device='cuda:0', grad_fn=<BinaryCrossEntropyBackward>)\n",
            "tensor(0.3919, device='cuda:0', grad_fn=<BinaryCrossEntropyBackward>)\n",
            "tensor(0.3658, device='cuda:0', grad_fn=<BinaryCrossEntropyBackward>)\n",
            "tensor(0.4311, device='cuda:0', grad_fn=<BinaryCrossEntropyBackward>)\n",
            "tensor(0.3441, device='cuda:0', grad_fn=<BinaryCrossEntropyBackward>)\n",
            "tensor(0.3468, device='cuda:0', grad_fn=<BinaryCrossEntropyBackward>)\n",
            "tensor(0.3284, device='cuda:0', grad_fn=<BinaryCrossEntropyBackward>)\n",
            "tensor(0.3095, device='cuda:0', grad_fn=<BinaryCrossEntropyBackward>)\n",
            "tensor(0.2500, device='cuda:0', grad_fn=<BinaryCrossEntropyBackward>)\n",
            "tensor(0.3509, device='cuda:0', grad_fn=<BinaryCrossEntropyBackward>)\n",
            "tensor(0.3239, device='cuda:0', grad_fn=<BinaryCrossEntropyBackward>)\n",
            "tensor(0.2474, device='cuda:0', grad_fn=<BinaryCrossEntropyBackward>)\n",
            "tensor(0.2961, device='cuda:0', grad_fn=<BinaryCrossEntropyBackward>)\n",
            "tensor(0.2716, device='cuda:0', grad_fn=<BinaryCrossEntropyBackward>)\n",
            "tensor(0.3094, device='cuda:0', grad_fn=<BinaryCrossEntropyBackward>)\n",
            "tensor(0.3088, device='cuda:0', grad_fn=<BinaryCrossEntropyBackward>)\n",
            "tensor(0.2774, device='cuda:0', grad_fn=<BinaryCrossEntropyBackward>)\n",
            "tensor(0.2550, device='cuda:0', grad_fn=<BinaryCrossEntropyBackward>)\n",
            "tensor(0.2771, device='cuda:0', grad_fn=<BinaryCrossEntropyBackward>)\n",
            "tensor(0.2633, device='cuda:0', grad_fn=<BinaryCrossEntropyBackward>)\n",
            "tensor(0.3045, device='cuda:0', grad_fn=<BinaryCrossEntropyBackward>)\n",
            "tensor(0.2347, device='cuda:0', grad_fn=<BinaryCrossEntropyBackward>)\n",
            "tensor(0.3251, device='cuda:0', grad_fn=<BinaryCrossEntropyBackward>)\n",
            "tensor(0.2745, device='cuda:0', grad_fn=<BinaryCrossEntropyBackward>)\n",
            "tensor(0.2943, device='cuda:0', grad_fn=<BinaryCrossEntropyBackward>)\n",
            "tensor(0.2379, device='cuda:0', grad_fn=<BinaryCrossEntropyBackward>)\n",
            "tensor(0.2482, device='cuda:0', grad_fn=<BinaryCrossEntropyBackward>)\n",
            "tensor(0.2686, device='cuda:0', grad_fn=<BinaryCrossEntropyBackward>)\n",
            "tensor(0.2557, device='cuda:0', grad_fn=<BinaryCrossEntropyBackward>)\n",
            "tensor(0.2673, device='cuda:0', grad_fn=<BinaryCrossEntropyBackward>)\n",
            "tensor(0.2531, device='cuda:0', grad_fn=<BinaryCrossEntropyBackward>)\n",
            "tensor(0.3040, device='cuda:0', grad_fn=<BinaryCrossEntropyBackward>)\n",
            "tensor(0.2447, device='cuda:0', grad_fn=<BinaryCrossEntropyBackward>)\n",
            "tensor(0.3145, device='cuda:0', grad_fn=<BinaryCrossEntropyBackward>)\n",
            "tensor(0.3220, device='cuda:0', grad_fn=<BinaryCrossEntropyBackward>)\n",
            "tensor(0.3059, device='cuda:0', grad_fn=<BinaryCrossEntropyBackward>)\n",
            "tensor(0.2978, device='cuda:0', grad_fn=<BinaryCrossEntropyBackward>)\n",
            "tensor(0.2900, device='cuda:0', grad_fn=<BinaryCrossEntropyBackward>)\n",
            "tensor(0.2528, device='cuda:0', grad_fn=<BinaryCrossEntropyBackward>)\n",
            "tensor(0.2828, device='cuda:0', grad_fn=<BinaryCrossEntropyBackward>)\n",
            "tensor(0.2342, device='cuda:0', grad_fn=<BinaryCrossEntropyBackward>)\n",
            "tensor(0.2380, device='cuda:0', grad_fn=<BinaryCrossEntropyBackward>)\n",
            "tensor(0.3097, device='cuda:0', grad_fn=<BinaryCrossEntropyBackward>)\n",
            "tensor(0.2250, device='cuda:0', grad_fn=<BinaryCrossEntropyBackward>)\n",
            "tensor(0.3054, device='cuda:0', grad_fn=<BinaryCrossEntropyBackward>)\n",
            "tensor(0.2414, device='cuda:0', grad_fn=<BinaryCrossEntropyBackward>)\n",
            "tensor(0.3377, device='cuda:0', grad_fn=<BinaryCrossEntropyBackward>)\n",
            "tensor(0.2673, device='cuda:0', grad_fn=<BinaryCrossEntropyBackward>)\n",
            "tensor(0.2456, device='cuda:0', grad_fn=<BinaryCrossEntropyBackward>)\n",
            "tensor(0.3457, device='cuda:0', grad_fn=<BinaryCrossEntropyBackward>)\n",
            "tensor(0.2664, device='cuda:0', grad_fn=<BinaryCrossEntropyBackward>)\n",
            "tensor(0.2647, device='cuda:0', grad_fn=<BinaryCrossEntropyBackward>)\n",
            "tensor(0.2763, device='cuda:0', grad_fn=<BinaryCrossEntropyBackward>)\n",
            "tensor(0.2429, device='cuda:0', grad_fn=<BinaryCrossEntropyBackward>)\n",
            "tensor(0.2890, device='cuda:0', grad_fn=<BinaryCrossEntropyBackward>)\n",
            "tensor(0.2681, device='cuda:0', grad_fn=<BinaryCrossEntropyBackward>)\n",
            "tensor(0.2273, device='cuda:0', grad_fn=<BinaryCrossEntropyBackward>)\n",
            "tensor(0.2352, device='cuda:0', grad_fn=<BinaryCrossEntropyBackward>)\n",
            "tensor(0.2755, device='cuda:0', grad_fn=<BinaryCrossEntropyBackward>)\n",
            "tensor(0.2893, device='cuda:0', grad_fn=<BinaryCrossEntropyBackward>)\n",
            "tensor(0.2574, device='cuda:0', grad_fn=<BinaryCrossEntropyBackward>)\n",
            "tensor(0.2336, device='cuda:0', grad_fn=<BinaryCrossEntropyBackward>)\n",
            "tensor(0.2383, device='cuda:0', grad_fn=<BinaryCrossEntropyBackward>)\n",
            "tensor(0.2211, device='cuda:0', grad_fn=<BinaryCrossEntropyBackward>)\n",
            "tensor(0.2395, device='cuda:0', grad_fn=<BinaryCrossEntropyBackward>)\n",
            "tensor(0.2929, device='cuda:0', grad_fn=<BinaryCrossEntropyBackward>)\n",
            "tensor(0.2761, device='cuda:0', grad_fn=<BinaryCrossEntropyBackward>)\n",
            "tensor(0.2652, device='cuda:0', grad_fn=<BinaryCrossEntropyBackward>)\n",
            "tensor(0.2672, device='cuda:0', grad_fn=<BinaryCrossEntropyBackward>)\n",
            "tensor(0.2176, device='cuda:0', grad_fn=<BinaryCrossEntropyBackward>)\n",
            "tensor(0.2385, device='cuda:0', grad_fn=<BinaryCrossEntropyBackward>)\n",
            "tensor(0.2392, device='cuda:0', grad_fn=<BinaryCrossEntropyBackward>)\n",
            "tensor(0.2666, device='cuda:0', grad_fn=<BinaryCrossEntropyBackward>)\n",
            "tensor(0.2880, device='cuda:0', grad_fn=<BinaryCrossEntropyBackward>)\n",
            "tensor(0.2258, device='cuda:0', grad_fn=<BinaryCrossEntropyBackward>)\n",
            "tensor(0.2672, device='cuda:0', grad_fn=<BinaryCrossEntropyBackward>)\n",
            "tensor(0.2000, device='cuda:0', grad_fn=<BinaryCrossEntropyBackward>)\n",
            "tensor(0.2255, device='cuda:0', grad_fn=<BinaryCrossEntropyBackward>)\n",
            "tensor(0.2776, device='cuda:0', grad_fn=<BinaryCrossEntropyBackward>)\n",
            "tensor(0.2588, device='cuda:0', grad_fn=<BinaryCrossEntropyBackward>)\n",
            "tensor(0.2347, device='cuda:0', grad_fn=<BinaryCrossEntropyBackward>)\n",
            "tensor(0.2424, device='cuda:0', grad_fn=<BinaryCrossEntropyBackward>)\n",
            "tensor(0.2143, device='cuda:0', grad_fn=<BinaryCrossEntropyBackward>)\n",
            "tensor(0.2408, device='cuda:0', grad_fn=<BinaryCrossEntropyBackward>)\n",
            "tensor(0.2485, device='cuda:0', grad_fn=<BinaryCrossEntropyBackward>)\n",
            "tensor(0.2866, device='cuda:0', grad_fn=<BinaryCrossEntropyBackward>)\n",
            "tensor(0.2259, device='cuda:0', grad_fn=<BinaryCrossEntropyBackward>)\n",
            "tensor(0.2144, device='cuda:0', grad_fn=<BinaryCrossEntropyBackward>)\n",
            "tensor(0.2600, device='cuda:0', grad_fn=<BinaryCrossEntropyBackward>)\n",
            "tensor(0.2045, device='cuda:0', grad_fn=<BinaryCrossEntropyBackward>)\n",
            "tensor(0.2090, device='cuda:0', grad_fn=<BinaryCrossEntropyBackward>)\n",
            "tensor(0.2372, device='cuda:0', grad_fn=<BinaryCrossEntropyBackward>)\n",
            "tensor(0.2278, device='cuda:0', grad_fn=<BinaryCrossEntropyBackward>)\n",
            "tensor(0.1806, device='cuda:0', grad_fn=<BinaryCrossEntropyBackward>)\n",
            "tensor(0.2662, device='cuda:0', grad_fn=<BinaryCrossEntropyBackward>)\n",
            "tensor(0.2327, device='cuda:0', grad_fn=<BinaryCrossEntropyBackward>)\n"
          ],
          "name": "stdout"
        }
      ]
    },
    {
      "cell_type": "code",
      "metadata": {
        "colab": {
          "base_uri": "https://localhost:8080/",
          "height": 264
        },
        "id": "0sdWprUEC_Iu",
        "outputId": "a605499f-355c-4713-dae8-04b4e36508a2"
      },
      "source": [
        "plt.plot(loss_arr)\n",
        "plt.show()"
      ],
      "execution_count": 80,
      "outputs": [
        {
          "output_type": "display_data",
          "data": {
            "image/png": "[encoded data removed]",
            "text/plain": [
              "<Figure size 432x288 with 1 Axes>"
            ]
          },
          "metadata": {
            "needs_background": "light"
          }
        }
      ]
    },
    {
      "cell_type": "code",
      "metadata": {
        "colab": {
          "base_uri": "https://localhost:8080/"
        },
        "id": "ngUWwg_zC_Ix",
        "outputId": "69ef21ee-a9be-48dc-e810-02977e8b0e5f"
      },
      "source": [
        "correct=0\n",
        "total=0\n",
        "\n",
        "with torch.no_grad():\n",
        "  for image,label in test_loader:\n",
        "    x=image.to(device)\n",
        "    y_=label.to(device)\n",
        "    output=model.forward(x)\n",
        "    _,output_index=torch.max(output,1)\n",
        "    total+=label.size(0)\n",
        "    correct += (output_index==y_).sum().float()\n",
        "\n",
        "print(\"Accuracy of Test Data: {}%\".format(100*correct/total))"
      ],
      "execution_count": 81,
      "outputs": [
        {
          "output_type": "stream",
          "text": [
            "Accuracy of Test Data: 71.77913665771484%\n"
          ],
          "name": "stdout"
        }
      ]
    }
  ]
}