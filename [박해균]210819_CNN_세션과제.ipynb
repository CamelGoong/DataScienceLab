{
  "nbformat": 4,
  "nbformat_minor": 0,
  "metadata": {
    "kernelspec": {
      "language": "python",
      "display_name": "Python 3",
      "name": "python3"
    },
    "language_info": {
      "name": "python",
      "version": "3.7.10",
      "mimetype": "text/x-python",
      "codemirror_mode": {
        "name": "ipython",
        "version": 3
      },
      "pygments_lexer": "ipython3",
      "nbconvert_exporter": "python",
      "file_extension": ".py"
    },
    "colab": {
      "name": "[박해균]210819_CNN_세션과제.ipynb",
      "provenance": [],
      "collapsed_sections": [],
      "include_colab_link": true
    },
    "accelerator": "GPU"
  },
  "cells": [
    {
      "cell_type": "markdown",
      "metadata": {
        "id": "view-in-github",
        "colab_type": "text"
      },
      "source": [
        "<a href=\"https://colab.research.google.com/github/CamelGoong/DataScienceLab/blob/main/%5B%EB%B0%95%ED%95%B4%EA%B7%A0%5D210819_CNN_%EC%84%B8%EC%85%98%EA%B3%BC%EC%A0%9C.ipynb\" target=\"_parent\"><img src=\"https://colab.research.google.com/assets/colab-badge.svg\" alt=\"Open In Colab\"/></a>"
      ]
    },
    {
      "cell_type": "code",
      "metadata": {
        "_uuid": "8f2839f25d086af736a60e9eeb907d3b93b6e0e5",
        "_cell_guid": "b1076dfc-b9ad-4769-8c92-a6c4dae69d19",
        "execution": {
          "iopub.status.busy": "2021-08-19T07:08:37.610882Z",
          "iopub.execute_input": "2021-08-19T07:08:37.611217Z",
          "iopub.status.idle": "2021-08-19T07:08:37.619973Z",
          "shell.execute_reply.started": "2021-08-19T07:08:37.611187Z",
          "shell.execute_reply": "2021-08-19T07:08:37.618169Z"
        },
        "trusted": true,
        "colab": {
          "base_uri": "https://localhost:8080/"
        },
        "id": "TLZzq44ZC_IA",
        "outputId": "e6c707dd-67b9-47a0-89f9-59055de2d740"
      },
      "source": [
        "import torch \n",
        "import torch.nn as nn #많은 neural network이 담겨있는 모듈입니다. \n",
        "import torch.optim as optim  # 많은 optimizer가 담겨있는 모듈입니다. \n",
        "import torch.nn.init as init # neural network를 초기화 하는 모듈을 담고 있습니다. \n",
        "from torch.utils.data import DataLoader # DataLoader는 데이터를 batch_size만큼 불러오는 역할 등을 수행합니다. \n",
        "import torchvision \n",
        "import torchvision.datasets as dset # 사진 등의 vision 데이터가 담겨있는 모듈입니다. \n",
        "import torchvision.transforms as transforms #이 모듈에는 데이터를 자르고, 반전시키고 tensor로 변환해주기 등의 데이터 변환 함수가 담겨있습니다.\n",
        "import numpy as np\n",
        "import os \n",
        "import matplotlib.pyplot as plt\n",
        "from torchvision.datasets import ImageFolder\n",
        "print(torch.__version__)\n"
      ],
      "execution_count": 1,
      "outputs": [
        {
          "output_type": "stream",
          "text": [
            "1.9.0+cu102\n"
          ],
          "name": "stdout"
        }
      ]
    },
    {
      "cell_type": "code",
      "metadata": {
        "colab": {
          "base_uri": "https://localhost:8080/"
        },
        "id": "MJuagFtQH68j",
        "outputId": "b35f05d1-9784-4233-eedc-ea96e167d4e2"
      },
      "source": [
        "from google.colab import drive\n",
        "drive.mount('/content/gdrive')"
      ],
      "execution_count": 2,
      "outputs": [
        {
          "output_type": "stream",
          "text": [
            "Mounted at /content/gdrive\n"
          ],
          "name": "stdout"
        }
      ]
    },
    {
      "cell_type": "code",
      "metadata": {
        "id": "zAcv_SbxH8R0"
      },
      "source": [
        "!unzip -qq \"/content/gdrive/MyDrive/DSL/20210819_CNN/archive.zip\" -d \"/content/gdrive/MyDrive/DSL/20210819_CNN/\""
      ],
      "execution_count": 3,
      "outputs": []
    },
    {
      "cell_type": "code",
      "metadata": {
        "execution": {
          "iopub.status.busy": "2021-08-19T07:07:28.546681Z",
          "iopub.execute_input": "2021-08-19T07:07:28.547007Z",
          "iopub.status.idle": "2021-08-19T07:07:28.558937Z",
          "shell.execute_reply.started": "2021-08-19T07:07:28.546976Z",
          "shell.execute_reply": "2021-08-19T07:07:28.558071Z"
        },
        "trusted": true,
        "id": "ViEtqjQCC_Ib"
      },
      "source": [
        "path = '/content/gdrive/MyDrive/DSL/20210819_CNN/chest_xray'\n",
        "mean = torch.tensor([0.4822])\n",
        "std = torch.tensor([0.2328])\n",
        "transformations = transforms.Compose([transforms.Resize((64,64)), \n",
        "                              transforms.ToTensor(), \n",
        "                              transforms.Normalize(mean, std),\n",
        "                             ])"
      ],
      "execution_count": 4,
      "outputs": []
    },
    {
      "cell_type": "code",
      "metadata": {
        "execution": {
          "iopub.status.busy": "2021-08-19T07:08:50.150482Z",
          "iopub.execute_input": "2021-08-19T07:08:50.150858Z",
          "iopub.status.idle": "2021-08-19T07:08:54.576782Z",
          "shell.execute_reply.started": "2021-08-19T07:08:50.150822Z",
          "shell.execute_reply": "2021-08-19T07:08:54.575708Z"
        },
        "trusted": true,
        "id": "JU_IuzfLC_Ie"
      },
      "source": [
        "train = ImageFolder(os.path.join(path, 'train'), transform=transformations, target_transform=lambda x:np.reshape(np.float32(x),(1)))\n",
        "val = ImageFolder(os.path.join(path, 'val'), transform=transformations, target_transform=lambda x:np.reshape(np.float32(x),(1)))\n",
        "test = ImageFolder(os.path.join(path, 'test'), transform=transformations)"
      ],
      "execution_count": 5,
      "outputs": []
    },
    {
      "cell_type": "code",
      "metadata": {
        "execution": {
          "iopub.status.busy": "2021-08-19T07:09:37.589263Z",
          "iopub.execute_input": "2021-08-19T07:09:37.589607Z",
          "iopub.status.idle": "2021-08-19T07:09:37.794532Z",
          "shell.execute_reply.started": "2021-08-19T07:09:37.589557Z",
          "shell.execute_reply": "2021-08-19T07:09:37.793126Z"
        },
        "trusted": true,
        "colab": {
          "base_uri": "https://localhost:8080/"
        },
        "id": "K3-uU-CtC_Ih",
        "outputId": "2e2fef5c-537c-4a5a-f09f-dd263145cd8c"
      },
      "source": [
        "print(train.__getitem__(0)[0].size(), train.__len__())\n",
        "print(test.__getitem__(0)[0].size(), test.__len__())\n",
        "\n",
        "print(len(train),len(test))\n",
        "#print(mnist_train[0])\n"
      ],
      "execution_count": 6,
      "outputs": [
        {
          "output_type": "stream",
          "text": [
            "torch.Size([3, 64, 64]) 5216\n",
            "torch.Size([3, 64, 64]) 624\n",
            "5216 624\n"
          ],
          "name": "stdout"
        }
      ]
    },
    {
      "cell_type": "code",
      "metadata": {
        "execution": {
          "iopub.status.busy": "2021-08-19T07:10:12.166180Z",
          "iopub.execute_input": "2021-08-19T07:10:12.166529Z",
          "iopub.status.idle": "2021-08-19T07:10:12.171117Z",
          "shell.execute_reply.started": "2021-08-19T07:10:12.166495Z",
          "shell.execute_reply": "2021-08-19T07:10:12.170186Z"
        },
        "trusted": true,
        "id": "OQzSDMUYC_Im"
      },
      "source": [
        "num_epoch=10\n",
        "batch_size=100\n",
        "learning_rate= 0.001"
      ],
      "execution_count": 7,
      "outputs": []
    },
    {
      "cell_type": "code",
      "metadata": {
        "execution": {
          "iopub.status.busy": "2021-08-19T07:10:33.035008Z",
          "iopub.execute_input": "2021-08-19T07:10:33.035324Z",
          "iopub.status.idle": "2021-08-19T07:10:33.040197Z",
          "shell.execute_reply.started": "2021-08-19T07:10:33.035291Z",
          "shell.execute_reply": "2021-08-19T07:10:33.039237Z"
        },
        "trusted": true,
        "id": "DohHCgVMC_Ip"
      },
      "source": [
        "#데이터 쪼개기\n",
        "train_loader=DataLoader(dataset=train,batch_size=batch_size,shuffle=True,num_workers=2,drop_last=True)\n",
        "test_loader=DataLoader(dataset=test,batch_size=batch_size,shuffle=False,num_workers=2,drop_last=True)"
      ],
      "execution_count": 8,
      "outputs": []
    },
    {
      "cell_type": "code",
      "metadata": {
        "id": "W6m4wJ_KC_Is"
      },
      "source": [
        "class CNN(nn.Module):\n",
        "    def __init__(self):\n",
        "        super(CNN,self).__init__()\n",
        "        self.layer = nn.Sequential(                                 # input_size = [batch_size, 3, 64, 64] # 컬러 이미지니까\n",
        "            nn.Conv2d(in_channels=3,out_channels=16,kernel_size=3), # [batch_size, 16, 62, 62]  \n",
        "            nn.ReLU(),                                                         \n",
        "            nn.Conv2d(in_channels=16,out_channels=32,kernel_size=3), # [batch_size, 32, 60, 60]\n",
        "            nn.ReLU(),\n",
        "            nn.MaxPool2d(kernel_size=2,stride=2),     # [batch_size, 32, 30, 30]\n",
        "            nn.Conv2d(in_channels=32,out_channels=32,kernel_size=3), # [batch_size, 32, 28, 28]\n",
        "            nn.ReLU(),                      \n",
        "            nn.Conv2d(in_channels=32, out_channels=64, kernel_size=3), # [batch_size, 64, 26, 26]         \n",
        "            nn.ReLU(),\n",
        "            nn.MaxPool2d(kernel_size=2,stride=2), # [batch_size, 64, 13, 13]   \n",
        "            nn.Conv2d(in_channels=64,out_channels=64,kernel_size=5), # [batch_size, 64, 9, 9]  \n",
        "            nn.ReLU(),                                                         \n",
        "            nn.Conv2d(in_channels=64,out_channels=64,kernel_size=5), # [batch_size, 64, 5, 5]\n",
        "            nn.ReLU(),\n",
        "            nn.Conv2d(in_channels=64,out_channels=64,kernel_size=3), # [batch_size, 64, 3, 3]\n",
        "            nn.ReLU(),\n",
        "                                      \n",
        "        )\n",
        "        self.fc_layer = nn.Sequential(                                          \n",
        "            nn.Linear(64*3*3,100),                                             \n",
        "            nn.ReLU(),\n",
        "            nn.Linear(100,2)                                                  \n",
        "        )       \n",
        "        \n",
        "    def forward(self,x):\n",
        "        out = self.layer(x)                                                     \n",
        "        out = out.view(out.shape[0],-1)                                       \n",
        "                                                                                \n",
        "                                                                                \n",
        "        out = self.fc_layer(out)\n",
        "        return out"
      ],
      "execution_count": 9,
      "outputs": []
    },
    {
      "cell_type": "code",
      "metadata": {
        "colab": {
          "base_uri": "https://localhost:8080/"
        },
        "id": "uTZ-DQV_XDh7",
        "outputId": "49d7ae1e-386d-41ab-d654-ff5194416a6e"
      },
      "source": [
        "device=torch.device(\"cuda:0\" if torch.cuda.is_available() else 'cpu')  \n",
        "\n",
        "print(device)\n",
        "\n",
        "model=CNN().to(device)\n",
        "\n",
        "loss_func = nn.CrossEntropyLoss().to(device)\n",
        "\n",
        "optimizer=torch.optim.Adam(model.parameters(),lr=learning_rate)"
      ],
      "execution_count": 10,
      "outputs": [
        {
          "output_type": "stream",
          "text": [
            "cuda:0\n"
          ],
          "name": "stdout"
        }
      ]
    },
    {
      "cell_type": "code",
      "metadata": {
        "colab": {
          "base_uri": "https://localhost:8080/"
        },
        "id": "1zYXamQOW80m",
        "outputId": "08532966-e233-48b6-b3a6-11ef14c1baf3"
      },
      "source": [
        "loss_arr=[]\n",
        "for i in range(num_epoch):\n",
        "  for j,[image,label] in enumerate(train_loader):\n",
        "    x=image.to(device)            \n",
        "    y_=label.to(device, dtype=torch.int64)           \n",
        "    output=model.forward(x)\n",
        "    # loss = loss_func(output, y_)     \n",
        "    loss = loss_func(output, torch.max(y_, 1)[1])\n",
        "    loss.backward()\n",
        "    optimizer.step()    \n",
        "    \n",
        "    if j%1000==0:\n",
        "      print(loss)\n",
        "      loss_arr.append(loss.cpu().detach().numpy())"
      ],
      "execution_count": 11,
      "outputs": [
        {
          "output_type": "stream",
          "text": [
            "/usr/local/lib/python3.7/dist-packages/torch/nn/functional.py:718: UserWarning: Named tensors and all their associated APIs are an experimental feature and subject to change. Please do not use them for anything important until they are released as stable. (Triggered internally at  /pytorch/c10/core/TensorImpl.h:1156.)\n",
            "  return torch.max_pool2d(input, kernel_size, stride, padding, dilation, ceil_mode)\n"
          ],
          "name": "stderr"
        },
        {
          "output_type": "stream",
          "text": [
            "tensor(0.6956, device='cuda:0', grad_fn=<NllLossBackward>)\n",
            "tensor(0., device='cuda:0', grad_fn=<NllLossBackward>)\n",
            "tensor(0., device='cuda:0', grad_fn=<NllLossBackward>)\n",
            "tensor(0., device='cuda:0', grad_fn=<NllLossBackward>)\n",
            "tensor(0., device='cuda:0', grad_fn=<NllLossBackward>)\n",
            "tensor(0., device='cuda:0', grad_fn=<NllLossBackward>)\n",
            "tensor(0., device='cuda:0', grad_fn=<NllLossBackward>)\n",
            "tensor(0., device='cuda:0', grad_fn=<NllLossBackward>)\n",
            "tensor(0., device='cuda:0', grad_fn=<NllLossBackward>)\n",
            "tensor(0., device='cuda:0', grad_fn=<NllLossBackward>)\n"
          ],
          "name": "stdout"
        }
      ]
    },
    {
      "cell_type": "code",
      "metadata": {
        "colab": {
          "base_uri": "https://localhost:8080/",
          "height": 264
        },
        "id": "0sdWprUEC_Iu",
        "outputId": "4c41c879-9f92-49e7-ccbc-15c36c8e1b0a"
      },
      "source": [
        "plt.plot(loss_arr)\n",
        "plt.show()"
      ],
      "execution_count": 12,
      "outputs": [
        {
          "output_type": "display_data",
          "data": {
            "image/png": "[encoded data removed]",
            "text/plain": [
              "<Figure size 432x288 with 1 Axes>"
            ]
          },
          "metadata": {
            "needs_background": "light"
          }
        }
      ]
    },
    {
      "cell_type": "code",
      "metadata": {
        "colab": {
          "base_uri": "https://localhost:8080/"
        },
        "id": "ngUWwg_zC_Ix",
        "outputId": "c55bdc56-3d69-45b3-dcd4-8beaca4ae903"
      },
      "source": [
        "correct=0\n",
        "total=0\n",
        "\n",
        "with torch.no_grad():\n",
        "  for image,label in test_loader:\n",
        "    x=image.to(device)\n",
        "    y_=label.to(device)\n",
        "    output=model.forward(x)\n",
        "     #https://pytorch.org/docs/stable/torch.html?highlight=max#torch.max\n",
        "    _,output_index=torch.max(output,1)  #max함수는 max value와 max value의 index를 도출합니다. 두 번째 인자 1은 결과의 dimension을 의미합니다. \n",
        "\n",
        "    total+=label.size(0)\n",
        "\n",
        "    correct += (output_index==y_).sum().float()\n",
        "\n",
        "print(\"Accuracy of Test Data: {}%\".format(100*correct/total))"
      ],
      "execution_count": 13,
      "outputs": [
        {
          "output_type": "stream",
          "text": [
            "Accuracy of Test Data: 39.0%\n"
          ],
          "name": "stdout"
        }
      ]
    }
  ]
}