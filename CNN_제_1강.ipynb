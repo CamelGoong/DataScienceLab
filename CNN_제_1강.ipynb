{
  "nbformat": 4,
  "nbformat_minor": 0,
  "metadata": {
    "colab": {
      "name": "CNN_제_1강.ipynb",
      "provenance": [],
      "collapsed_sections": [],
      "include_colab_link": true
    },
    "kernelspec": {
      "name": "python3",
      "display_name": "Python 3"
    },
    "language_info": {
      "name": "python"
    },
    "accelerator": "GPU",
    "widgets": {
      "application/vnd.jupyter.widget-state+json": {
        "e9927eb4e30f4b6396827045414346f7": {
          "model_module": "@jupyter-widgets/controls",
          "model_name": "HBoxModel",
          "model_module_version": "1.5.0",
          "state": {
            "_view_name": "HBoxView",
            "_dom_classes": [],
            "_model_name": "HBoxModel",
            "_view_module": "@jupyter-widgets/controls",
            "_model_module_version": "1.5.0",
            "_view_count": null,
            "_view_module_version": "1.5.0",
            "box_style": "",
            "layout": "IPY_MODEL_768a3443b6e0434aa5c67ab5e34f0d07",
            "_model_module": "@jupyter-widgets/controls",
            "children": [
              "IPY_MODEL_296e3eb45b644f84866086cfb15f2fe8",
              "IPY_MODEL_65de8fc13c184b2986347ab81604f33d",
              "IPY_MODEL_279c51492a1f42f69cc6d6321dbda10e"
            ]
          }
        },
        "768a3443b6e0434aa5c67ab5e34f0d07": {
          "model_module": "@jupyter-widgets/base",
          "model_name": "LayoutModel",
          "model_module_version": "1.2.0",
          "state": {
            "_view_name": "LayoutView",
            "grid_template_rows": null,
            "right": null,
            "justify_content": null,
            "_view_module": "@jupyter-widgets/base",
            "overflow": null,
            "_model_module_version": "1.2.0",
            "_view_count": null,
            "flex_flow": null,
            "width": null,
            "min_width": null,
            "border": null,
            "align_items": null,
            "bottom": null,
            "_model_module": "@jupyter-widgets/base",
            "top": null,
            "grid_column": null,
            "overflow_y": null,
            "overflow_x": null,
            "grid_auto_flow": null,
            "grid_area": null,
            "grid_template_columns": null,
            "flex": null,
            "_model_name": "LayoutModel",
            "justify_items": null,
            "grid_row": null,
            "max_height": null,
            "align_content": null,
            "visibility": null,
            "align_self": null,
            "height": null,
            "min_height": null,
            "padding": null,
            "grid_auto_rows": null,
            "grid_gap": null,
            "max_width": null,
            "order": null,
            "_view_module_version": "1.2.0",
            "grid_template_areas": null,
            "object_position": null,
            "object_fit": null,
            "grid_auto_columns": null,
            "margin": null,
            "display": null,
            "left": null
          }
        },
        "296e3eb45b644f84866086cfb15f2fe8": {
          "model_module": "@jupyter-widgets/controls",
          "model_name": "HTMLModel",
          "model_module_version": "1.5.0",
          "state": {
            "_view_name": "HTMLView",
            "style": "IPY_MODEL_6262431b6fd641cfa9c1e494d4ebbc72",
            "_dom_classes": [],
            "description": "",
            "_model_name": "HTMLModel",
            "placeholder": "​",
            "_view_module": "@jupyter-widgets/controls",
            "_model_module_version": "1.5.0",
            "value": "",
            "_view_count": null,
            "_view_module_version": "1.5.0",
            "description_tooltip": null,
            "_model_module": "@jupyter-widgets/controls",
            "layout": "IPY_MODEL_7a3278ef7fb34e2781744c29fd76bdb4"
          }
        },
        "65de8fc13c184b2986347ab81604f33d": {
          "model_module": "@jupyter-widgets/controls",
          "model_name": "FloatProgressModel",
          "model_module_version": "1.5.0",
          "state": {
            "_view_name": "ProgressView",
            "style": "IPY_MODEL_b22f1fc9645446bcb9495542b8ea2336",
            "_dom_classes": [],
            "description": "",
            "_model_name": "FloatProgressModel",
            "bar_style": "success",
            "max": 9912422,
            "_view_module": "@jupyter-widgets/controls",
            "_model_module_version": "1.5.0",
            "value": 9912422,
            "_view_count": null,
            "_view_module_version": "1.5.0",
            "orientation": "horizontal",
            "min": 0,
            "description_tooltip": null,
            "_model_module": "@jupyter-widgets/controls",
            "layout": "IPY_MODEL_5ff7e12d1d7d4db9b72022624d2fc65d"
          }
        },
        "279c51492a1f42f69cc6d6321dbda10e": {
          "model_module": "@jupyter-widgets/controls",
          "model_name": "HTMLModel",
          "model_module_version": "1.5.0",
          "state": {
            "_view_name": "HTMLView",
            "style": "IPY_MODEL_8ba540e9636a46b696aebd39b9650e18",
            "_dom_classes": [],
            "description": "",
            "_model_name": "HTMLModel",
            "placeholder": "​",
            "_view_module": "@jupyter-widgets/controls",
            "_model_module_version": "1.5.0",
            "value": " 9913344/? [00:00&lt;00:00, 18182934.44it/s]",
            "_view_count": null,
            "_view_module_version": "1.5.0",
            "description_tooltip": null,
            "_model_module": "@jupyter-widgets/controls",
            "layout": "IPY_MODEL_b46a35133d80427eb2161e3359ccd408"
          }
        },
        "6262431b6fd641cfa9c1e494d4ebbc72": {
          "model_module": "@jupyter-widgets/controls",
          "model_name": "DescriptionStyleModel",
          "model_module_version": "1.5.0",
          "state": {
            "_view_name": "StyleView",
            "_model_name": "DescriptionStyleModel",
            "description_width": "",
            "_view_module": "@jupyter-widgets/base",
            "_model_module_version": "1.5.0",
            "_view_count": null,
            "_view_module_version": "1.2.0",
            "_model_module": "@jupyter-widgets/controls"
          }
        },
        "7a3278ef7fb34e2781744c29fd76bdb4": {
          "model_module": "@jupyter-widgets/base",
          "model_name": "LayoutModel",
          "model_module_version": "1.2.0",
          "state": {
            "_view_name": "LayoutView",
            "grid_template_rows": null,
            "right": null,
            "justify_content": null,
            "_view_module": "@jupyter-widgets/base",
            "overflow": null,
            "_model_module_version": "1.2.0",
            "_view_count": null,
            "flex_flow": null,
            "width": null,
            "min_width": null,
            "border": null,
            "align_items": null,
            "bottom": null,
            "_model_module": "@jupyter-widgets/base",
            "top": null,
            "grid_column": null,
            "overflow_y": null,
            "overflow_x": null,
            "grid_auto_flow": null,
            "grid_area": null,
            "grid_template_columns": null,
            "flex": null,
            "_model_name": "LayoutModel",
            "justify_items": null,
            "grid_row": null,
            "max_height": null,
            "align_content": null,
            "visibility": null,
            "align_self": null,
            "height": null,
            "min_height": null,
            "padding": null,
            "grid_auto_rows": null,
            "grid_gap": null,
            "max_width": null,
            "order": null,
            "_view_module_version": "1.2.0",
            "grid_template_areas": null,
            "object_position": null,
            "object_fit": null,
            "grid_auto_columns": null,
            "margin": null,
            "display": null,
            "left": null
          }
        },
        "b22f1fc9645446bcb9495542b8ea2336": {
          "model_module": "@jupyter-widgets/controls",
          "model_name": "ProgressStyleModel",
          "model_module_version": "1.5.0",
          "state": {
            "_view_name": "StyleView",
            "_model_name": "ProgressStyleModel",
            "description_width": "",
            "_view_module": "@jupyter-widgets/base",
            "_model_module_version": "1.5.0",
            "_view_count": null,
            "_view_module_version": "1.2.0",
            "bar_color": null,
            "_model_module": "@jupyter-widgets/controls"
          }
        },
        "5ff7e12d1d7d4db9b72022624d2fc65d": {
          "model_module": "@jupyter-widgets/base",
          "model_name": "LayoutModel",
          "model_module_version": "1.2.0",
          "state": {
            "_view_name": "LayoutView",
            "grid_template_rows": null,
            "right": null,
            "justify_content": null,
            "_view_module": "@jupyter-widgets/base",
            "overflow": null,
            "_model_module_version": "1.2.0",
            "_view_count": null,
            "flex_flow": null,
            "width": null,
            "min_width": null,
            "border": null,
            "align_items": null,
            "bottom": null,
            "_model_module": "@jupyter-widgets/base",
            "top": null,
            "grid_column": null,
            "overflow_y": null,
            "overflow_x": null,
            "grid_auto_flow": null,
            "grid_area": null,
            "grid_template_columns": null,
            "flex": null,
            "_model_name": "LayoutModel",
            "justify_items": null,
            "grid_row": null,
            "max_height": null,
            "align_content": null,
            "visibility": null,
            "align_self": null,
            "height": null,
            "min_height": null,
            "padding": null,
            "grid_auto_rows": null,
            "grid_gap": null,
            "max_width": null,
            "order": null,
            "_view_module_version": "1.2.0",
            "grid_template_areas": null,
            "object_position": null,
            "object_fit": null,
            "grid_auto_columns": null,
            "margin": null,
            "display": null,
            "left": null
          }
        },
        "8ba540e9636a46b696aebd39b9650e18": {
          "model_module": "@jupyter-widgets/controls",
          "model_name": "DescriptionStyleModel",
          "model_module_version": "1.5.0",
          "state": {
            "_view_name": "StyleView",
            "_model_name": "DescriptionStyleModel",
            "description_width": "",
            "_view_module": "@jupyter-widgets/base",
            "_model_module_version": "1.5.0",
            "_view_count": null,
            "_view_module_version": "1.2.0",
            "_model_module": "@jupyter-widgets/controls"
          }
        },
        "b46a35133d80427eb2161e3359ccd408": {
          "model_module": "@jupyter-widgets/base",
          "model_name": "LayoutModel",
          "model_module_version": "1.2.0",
          "state": {
            "_view_name": "LayoutView",
            "grid_template_rows": null,
            "right": null,
            "justify_content": null,
            "_view_module": "@jupyter-widgets/base",
            "overflow": null,
            "_model_module_version": "1.2.0",
            "_view_count": null,
            "flex_flow": null,
            "width": null,
            "min_width": null,
            "border": null,
            "align_items": null,
            "bottom": null,
            "_model_module": "@jupyter-widgets/base",
            "top": null,
            "grid_column": null,
            "overflow_y": null,
            "overflow_x": null,
            "grid_auto_flow": null,
            "grid_area": null,
            "grid_template_columns": null,
            "flex": null,
            "_model_name": "LayoutModel",
            "justify_items": null,
            "grid_row": null,
            "max_height": null,
            "align_content": null,
            "visibility": null,
            "align_self": null,
            "height": null,
            "min_height": null,
            "padding": null,
            "grid_auto_rows": null,
            "grid_gap": null,
            "max_width": null,
            "order": null,
            "_view_module_version": "1.2.0",
            "grid_template_areas": null,
            "object_position": null,
            "object_fit": null,
            "grid_auto_columns": null,
            "margin": null,
            "display": null,
            "left": null
          }
        },
        "7b39c0a629cb4f08a160fd5660181ece": {
          "model_module": "@jupyter-widgets/controls",
          "model_name": "HBoxModel",
          "model_module_version": "1.5.0",
          "state": {
            "_view_name": "HBoxView",
            "_dom_classes": [],
            "_model_name": "HBoxModel",
            "_view_module": "@jupyter-widgets/controls",
            "_model_module_version": "1.5.0",
            "_view_count": null,
            "_view_module_version": "1.5.0",
            "box_style": "",
            "layout": "IPY_MODEL_f64c06f12b534e8ab3f27db208353a69",
            "_model_module": "@jupyter-widgets/controls",
            "children": [
              "IPY_MODEL_519e2aee581b40adb761b1264a31fdb0",
              "IPY_MODEL_c15d97c406b1426ca3e2faa2afd2065a",
              "IPY_MODEL_849087c85dbd4adda5c1f301e73bfe73"
            ]
          }
        },
        "f64c06f12b534e8ab3f27db208353a69": {
          "model_module": "@jupyter-widgets/base",
          "model_name": "LayoutModel",
          "model_module_version": "1.2.0",
          "state": {
            "_view_name": "LayoutView",
            "grid_template_rows": null,
            "right": null,
            "justify_content": null,
            "_view_module": "@jupyter-widgets/base",
            "overflow": null,
            "_model_module_version": "1.2.0",
            "_view_count": null,
            "flex_flow": null,
            "width": null,
            "min_width": null,
            "border": null,
            "align_items": null,
            "bottom": null,
            "_model_module": "@jupyter-widgets/base",
            "top": null,
            "grid_column": null,
            "overflow_y": null,
            "overflow_x": null,
            "grid_auto_flow": null,
            "grid_area": null,
            "grid_template_columns": null,
            "flex": null,
            "_model_name": "LayoutModel",
            "justify_items": null,
            "grid_row": null,
            "max_height": null,
            "align_content": null,
            "visibility": null,
            "align_self": null,
            "height": null,
            "min_height": null,
            "padding": null,
            "grid_auto_rows": null,
            "grid_gap": null,
            "max_width": null,
            "order": null,
            "_view_module_version": "1.2.0",
            "grid_template_areas": null,
            "object_position": null,
            "object_fit": null,
            "grid_auto_columns": null,
            "margin": null,
            "display": null,
            "left": null
          }
        },
        "519e2aee581b40adb761b1264a31fdb0": {
          "model_module": "@jupyter-widgets/controls",
          "model_name": "HTMLModel",
          "model_module_version": "1.5.0",
          "state": {
            "_view_name": "HTMLView",
            "style": "IPY_MODEL_dd5a434f72fb4864b5879ac2773970d9",
            "_dom_classes": [],
            "description": "",
            "_model_name": "HTMLModel",
            "placeholder": "​",
            "_view_module": "@jupyter-widgets/controls",
            "_model_module_version": "1.5.0",
            "value": "",
            "_view_count": null,
            "_view_module_version": "1.5.0",
            "description_tooltip": null,
            "_model_module": "@jupyter-widgets/controls",
            "layout": "IPY_MODEL_f6b96b71f70047819b5a7eb25d29a6a8"
          }
        },
        "c15d97c406b1426ca3e2faa2afd2065a": {
          "model_module": "@jupyter-widgets/controls",
          "model_name": "FloatProgressModel",
          "model_module_version": "1.5.0",
          "state": {
            "_view_name": "ProgressView",
            "style": "IPY_MODEL_fe9d348d258d4225b1d2847b09f137fe",
            "_dom_classes": [],
            "description": "",
            "_model_name": "FloatProgressModel",
            "bar_style": "success",
            "max": 28881,
            "_view_module": "@jupyter-widgets/controls",
            "_model_module_version": "1.5.0",
            "value": 28881,
            "_view_count": null,
            "_view_module_version": "1.5.0",
            "orientation": "horizontal",
            "min": 0,
            "description_tooltip": null,
            "_model_module": "@jupyter-widgets/controls",
            "layout": "IPY_MODEL_d9e62cd22d1d4f93ad1bede6efdd1ee2"
          }
        },
        "849087c85dbd4adda5c1f301e73bfe73": {
          "model_module": "@jupyter-widgets/controls",
          "model_name": "HTMLModel",
          "model_module_version": "1.5.0",
          "state": {
            "_view_name": "HTMLView",
            "style": "IPY_MODEL_c23db1904b174f3992c0da7733908b79",
            "_dom_classes": [],
            "description": "",
            "_model_name": "HTMLModel",
            "placeholder": "​",
            "_view_module": "@jupyter-widgets/controls",
            "_model_module_version": "1.5.0",
            "value": " 29696/? [00:00&lt;00:00, 451592.04it/s]",
            "_view_count": null,
            "_view_module_version": "1.5.0",
            "description_tooltip": null,
            "_model_module": "@jupyter-widgets/controls",
            "layout": "IPY_MODEL_d3fb522736144076a8f760093a904deb"
          }
        },
        "dd5a434f72fb4864b5879ac2773970d9": {
          "model_module": "@jupyter-widgets/controls",
          "model_name": "DescriptionStyleModel",
          "model_module_version": "1.5.0",
          "state": {
            "_view_name": "StyleView",
            "_model_name": "DescriptionStyleModel",
            "description_width": "",
            "_view_module": "@jupyter-widgets/base",
            "_model_module_version": "1.5.0",
            "_view_count": null,
            "_view_module_version": "1.2.0",
            "_model_module": "@jupyter-widgets/controls"
          }
        },
        "f6b96b71f70047819b5a7eb25d29a6a8": {
          "model_module": "@jupyter-widgets/base",
          "model_name": "LayoutModel",
          "model_module_version": "1.2.0",
          "state": {
            "_view_name": "LayoutView",
            "grid_template_rows": null,
            "right": null,
            "justify_content": null,
            "_view_module": "@jupyter-widgets/base",
            "overflow": null,
            "_model_module_version": "1.2.0",
            "_view_count": null,
            "flex_flow": null,
            "width": null,
            "min_width": null,
            "border": null,
            "align_items": null,
            "bottom": null,
            "_model_module": "@jupyter-widgets/base",
            "top": null,
            "grid_column": null,
            "overflow_y": null,
            "overflow_x": null,
            "grid_auto_flow": null,
            "grid_area": null,
            "grid_template_columns": null,
            "flex": null,
            "_model_name": "LayoutModel",
            "justify_items": null,
            "grid_row": null,
            "max_height": null,
            "align_content": null,
            "visibility": null,
            "align_self": null,
            "height": null,
            "min_height": null,
            "padding": null,
            "grid_auto_rows": null,
            "grid_gap": null,
            "max_width": null,
            "order": null,
            "_view_module_version": "1.2.0",
            "grid_template_areas": null,
            "object_position": null,
            "object_fit": null,
            "grid_auto_columns": null,
            "margin": null,
            "display": null,
            "left": null
          }
        },
        "fe9d348d258d4225b1d2847b09f137fe": {
          "model_module": "@jupyter-widgets/controls",
          "model_name": "ProgressStyleModel",
          "model_module_version": "1.5.0",
          "state": {
            "_view_name": "StyleView",
            "_model_name": "ProgressStyleModel",
            "description_width": "",
            "_view_module": "@jupyter-widgets/base",
            "_model_module_version": "1.5.0",
            "_view_count": null,
            "_view_module_version": "1.2.0",
            "bar_color": null,
            "_model_module": "@jupyter-widgets/controls"
          }
        },
        "d9e62cd22d1d4f93ad1bede6efdd1ee2": {
          "model_module": "@jupyter-widgets/base",
          "model_name": "LayoutModel",
          "model_module_version": "1.2.0",
          "state": {
            "_view_name": "LayoutView",
            "grid_template_rows": null,
            "right": null,
            "justify_content": null,
            "_view_module": "@jupyter-widgets/base",
            "overflow": null,
            "_model_module_version": "1.2.0",
            "_view_count": null,
            "flex_flow": null,
            "width": null,
            "min_width": null,
            "border": null,
            "align_items": null,
            "bottom": null,
            "_model_module": "@jupyter-widgets/base",
            "top": null,
            "grid_column": null,
            "overflow_y": null,
            "overflow_x": null,
            "grid_auto_flow": null,
            "grid_area": null,
            "grid_template_columns": null,
            "flex": null,
            "_model_name": "LayoutModel",
            "justify_items": null,
            "grid_row": null,
            "max_height": null,
            "align_content": null,
            "visibility": null,
            "align_self": null,
            "height": null,
            "min_height": null,
            "padding": null,
            "grid_auto_rows": null,
            "grid_gap": null,
            "max_width": null,
            "order": null,
            "_view_module_version": "1.2.0",
            "grid_template_areas": null,
            "object_position": null,
            "object_fit": null,
            "grid_auto_columns": null,
            "margin": null,
            "display": null,
            "left": null
          }
        },
        "c23db1904b174f3992c0da7733908b79": {
          "model_module": "@jupyter-widgets/controls",
          "model_name": "DescriptionStyleModel",
          "model_module_version": "1.5.0",
          "state": {
            "_view_name": "StyleView",
            "_model_name": "DescriptionStyleModel",
            "description_width": "",
            "_view_module": "@jupyter-widgets/base",
            "_model_module_version": "1.5.0",
            "_view_count": null,
            "_view_module_version": "1.2.0",
            "_model_module": "@jupyter-widgets/controls"
          }
        },
        "d3fb522736144076a8f760093a904deb": {
          "model_module": "@jupyter-widgets/base",
          "model_name": "LayoutModel",
          "model_module_version": "1.2.0",
          "state": {
            "_view_name": "LayoutView",
            "grid_template_rows": null,
            "right": null,
            "justify_content": null,
            "_view_module": "@jupyter-widgets/base",
            "overflow": null,
            "_model_module_version": "1.2.0",
            "_view_count": null,
            "flex_flow": null,
            "width": null,
            "min_width": null,
            "border": null,
            "align_items": null,
            "bottom": null,
            "_model_module": "@jupyter-widgets/base",
            "top": null,
            "grid_column": null,
            "overflow_y": null,
            "overflow_x": null,
            "grid_auto_flow": null,
            "grid_area": null,
            "grid_template_columns": null,
            "flex": null,
            "_model_name": "LayoutModel",
            "justify_items": null,
            "grid_row": null,
            "max_height": null,
            "align_content": null,
            "visibility": null,
            "align_self": null,
            "height": null,
            "min_height": null,
            "padding": null,
            "grid_auto_rows": null,
            "grid_gap": null,
            "max_width": null,
            "order": null,
            "_view_module_version": "1.2.0",
            "grid_template_areas": null,
            "object_position": null,
            "object_fit": null,
            "grid_auto_columns": null,
            "margin": null,
            "display": null,
            "left": null
          }
        },
        "851e3481dfca4d7abb4d29c371f32763": {
          "model_module": "@jupyter-widgets/controls",
          "model_name": "HBoxModel",
          "model_module_version": "1.5.0",
          "state": {
            "_view_name": "HBoxView",
            "_dom_classes": [],
            "_model_name": "HBoxModel",
            "_view_module": "@jupyter-widgets/controls",
            "_model_module_version": "1.5.0",
            "_view_count": null,
            "_view_module_version": "1.5.0",
            "box_style": "",
            "layout": "IPY_MODEL_4cb5dfac90cb45de9a6bdc0d0a3d244d",
            "_model_module": "@jupyter-widgets/controls",
            "children": [
              "IPY_MODEL_07f3709b096f45a7a62280fe393ab932",
              "IPY_MODEL_2612f3830f2b4db7bde300daf3b3bd6d",
              "IPY_MODEL_a7c2fdfe26ea400bae9404fa6671feef"
            ]
          }
        },
        "4cb5dfac90cb45de9a6bdc0d0a3d244d": {
          "model_module": "@jupyter-widgets/base",
          "model_name": "LayoutModel",
          "model_module_version": "1.2.0",
          "state": {
            "_view_name": "LayoutView",
            "grid_template_rows": null,
            "right": null,
            "justify_content": null,
            "_view_module": "@jupyter-widgets/base",
            "overflow": null,
            "_model_module_version": "1.2.0",
            "_view_count": null,
            "flex_flow": null,
            "width": null,
            "min_width": null,
            "border": null,
            "align_items": null,
            "bottom": null,
            "_model_module": "@jupyter-widgets/base",
            "top": null,
            "grid_column": null,
            "overflow_y": null,
            "overflow_x": null,
            "grid_auto_flow": null,
            "grid_area": null,
            "grid_template_columns": null,
            "flex": null,
            "_model_name": "LayoutModel",
            "justify_items": null,
            "grid_row": null,
            "max_height": null,
            "align_content": null,
            "visibility": null,
            "align_self": null,
            "height": null,
            "min_height": null,
            "padding": null,
            "grid_auto_rows": null,
            "grid_gap": null,
            "max_width": null,
            "order": null,
            "_view_module_version": "1.2.0",
            "grid_template_areas": null,
            "object_position": null,
            "object_fit": null,
            "grid_auto_columns": null,
            "margin": null,
            "display": null,
            "left": null
          }
        },
        "07f3709b096f45a7a62280fe393ab932": {
          "model_module": "@jupyter-widgets/controls",
          "model_name": "HTMLModel",
          "model_module_version": "1.5.0",
          "state": {
            "_view_name": "HTMLView",
            "style": "IPY_MODEL_7345e44eff8d4d1285749e473c18008f",
            "_dom_classes": [],
            "description": "",
            "_model_name": "HTMLModel",
            "placeholder": "​",
            "_view_module": "@jupyter-widgets/controls",
            "_model_module_version": "1.5.0",
            "value": "",
            "_view_count": null,
            "_view_module_version": "1.5.0",
            "description_tooltip": null,
            "_model_module": "@jupyter-widgets/controls",
            "layout": "IPY_MODEL_0542edecf99140f78fbc02b17d155233"
          }
        },
        "2612f3830f2b4db7bde300daf3b3bd6d": {
          "model_module": "@jupyter-widgets/controls",
          "model_name": "FloatProgressModel",
          "model_module_version": "1.5.0",
          "state": {
            "_view_name": "ProgressView",
            "style": "IPY_MODEL_0f516af3d9db43ae933cb323873fb239",
            "_dom_classes": [],
            "description": "",
            "_model_name": "FloatProgressModel",
            "bar_style": "success",
            "max": 1648877,
            "_view_module": "@jupyter-widgets/controls",
            "_model_module_version": "1.5.0",
            "value": 1648877,
            "_view_count": null,
            "_view_module_version": "1.5.0",
            "orientation": "horizontal",
            "min": 0,
            "description_tooltip": null,
            "_model_module": "@jupyter-widgets/controls",
            "layout": "IPY_MODEL_f92665e6814048f2aa77d0c3cf602035"
          }
        },
        "a7c2fdfe26ea400bae9404fa6671feef": {
          "model_module": "@jupyter-widgets/controls",
          "model_name": "HTMLModel",
          "model_module_version": "1.5.0",
          "state": {
            "_view_name": "HTMLView",
            "style": "IPY_MODEL_2b05fd4e86ac4ed7913bf8218836cc7e",
            "_dom_classes": [],
            "description": "",
            "_model_name": "HTMLModel",
            "placeholder": "​",
            "_view_module": "@jupyter-widgets/controls",
            "_model_module_version": "1.5.0",
            "value": " 1649664/? [00:00&lt;00:00, 2028615.81it/s]",
            "_view_count": null,
            "_view_module_version": "1.5.0",
            "description_tooltip": null,
            "_model_module": "@jupyter-widgets/controls",
            "layout": "IPY_MODEL_a3c094c933314c018497101a1eb89cd6"
          }
        },
        "7345e44eff8d4d1285749e473c18008f": {
          "model_module": "@jupyter-widgets/controls",
          "model_name": "DescriptionStyleModel",
          "model_module_version": "1.5.0",
          "state": {
            "_view_name": "StyleView",
            "_model_name": "DescriptionStyleModel",
            "description_width": "",
            "_view_module": "@jupyter-widgets/base",
            "_model_module_version": "1.5.0",
            "_view_count": null,
            "_view_module_version": "1.2.0",
            "_model_module": "@jupyter-widgets/controls"
          }
        },
        "0542edecf99140f78fbc02b17d155233": {
          "model_module": "@jupyter-widgets/base",
          "model_name": "LayoutModel",
          "model_module_version": "1.2.0",
          "state": {
            "_view_name": "LayoutView",
            "grid_template_rows": null,
            "right": null,
            "justify_content": null,
            "_view_module": "@jupyter-widgets/base",
            "overflow": null,
            "_model_module_version": "1.2.0",
            "_view_count": null,
            "flex_flow": null,
            "width": null,
            "min_width": null,
            "border": null,
            "align_items": null,
            "bottom": null,
            "_model_module": "@jupyter-widgets/base",
            "top": null,
            "grid_column": null,
            "overflow_y": null,
            "overflow_x": null,
            "grid_auto_flow": null,
            "grid_area": null,
            "grid_template_columns": null,
            "flex": null,
            "_model_name": "LayoutModel",
            "justify_items": null,
            "grid_row": null,
            "max_height": null,
            "align_content": null,
            "visibility": null,
            "align_self": null,
            "height": null,
            "min_height": null,
            "padding": null,
            "grid_auto_rows": null,
            "grid_gap": null,
            "max_width": null,
            "order": null,
            "_view_module_version": "1.2.0",
            "grid_template_areas": null,
            "object_position": null,
            "object_fit": null,
            "grid_auto_columns": null,
            "margin": null,
            "display": null,
            "left": null
          }
        },
        "0f516af3d9db43ae933cb323873fb239": {
          "model_module": "@jupyter-widgets/controls",
          "model_name": "ProgressStyleModel",
          "model_module_version": "1.5.0",
          "state": {
            "_view_name": "StyleView",
            "_model_name": "ProgressStyleModel",
            "description_width": "",
            "_view_module": "@jupyter-widgets/base",
            "_model_module_version": "1.5.0",
            "_view_count": null,
            "_view_module_version": "1.2.0",
            "bar_color": null,
            "_model_module": "@jupyter-widgets/controls"
          }
        },
        "f92665e6814048f2aa77d0c3cf602035": {
          "model_module": "@jupyter-widgets/base",
          "model_name": "LayoutModel",
          "model_module_version": "1.2.0",
          "state": {
            "_view_name": "LayoutView",
            "grid_template_rows": null,
            "right": null,
            "justify_content": null,
            "_view_module": "@jupyter-widgets/base",
            "overflow": null,
            "_model_module_version": "1.2.0",
            "_view_count": null,
            "flex_flow": null,
            "width": null,
            "min_width": null,
            "border": null,
            "align_items": null,
            "bottom": null,
            "_model_module": "@jupyter-widgets/base",
            "top": null,
            "grid_column": null,
            "overflow_y": null,
            "overflow_x": null,
            "grid_auto_flow": null,
            "grid_area": null,
            "grid_template_columns": null,
            "flex": null,
            "_model_name": "LayoutModel",
            "justify_items": null,
            "grid_row": null,
            "max_height": null,
            "align_content": null,
            "visibility": null,
            "align_self": null,
            "height": null,
            "min_height": null,
            "padding": null,
            "grid_auto_rows": null,
            "grid_gap": null,
            "max_width": null,
            "order": null,
            "_view_module_version": "1.2.0",
            "grid_template_areas": null,
            "object_position": null,
            "object_fit": null,
            "grid_auto_columns": null,
            "margin": null,
            "display": null,
            "left": null
          }
        },
        "2b05fd4e86ac4ed7913bf8218836cc7e": {
          "model_module": "@jupyter-widgets/controls",
          "model_name": "DescriptionStyleModel",
          "model_module_version": "1.5.0",
          "state": {
            "_view_name": "StyleView",
            "_model_name": "DescriptionStyleModel",
            "description_width": "",
            "_view_module": "@jupyter-widgets/base",
            "_model_module_version": "1.5.0",
            "_view_count": null,
            "_view_module_version": "1.2.0",
            "_model_module": "@jupyter-widgets/controls"
          }
        },
        "a3c094c933314c018497101a1eb89cd6": {
          "model_module": "@jupyter-widgets/base",
          "model_name": "LayoutModel",
          "model_module_version": "1.2.0",
          "state": {
            "_view_name": "LayoutView",
            "grid_template_rows": null,
            "right": null,
            "justify_content": null,
            "_view_module": "@jupyter-widgets/base",
            "overflow": null,
            "_model_module_version": "1.2.0",
            "_view_count": null,
            "flex_flow": null,
            "width": null,
            "min_width": null,
            "border": null,
            "align_items": null,
            "bottom": null,
            "_model_module": "@jupyter-widgets/base",
            "top": null,
            "grid_column": null,
            "overflow_y": null,
            "overflow_x": null,
            "grid_auto_flow": null,
            "grid_area": null,
            "grid_template_columns": null,
            "flex": null,
            "_model_name": "LayoutModel",
            "justify_items": null,
            "grid_row": null,
            "max_height": null,
            "align_content": null,
            "visibility": null,
            "align_self": null,
            "height": null,
            "min_height": null,
            "padding": null,
            "grid_auto_rows": null,
            "grid_gap": null,
            "max_width": null,
            "order": null,
            "_view_module_version": "1.2.0",
            "grid_template_areas": null,
            "object_position": null,
            "object_fit": null,
            "grid_auto_columns": null,
            "margin": null,
            "display": null,
            "left": null
          }
        },
        "4f356402e85149e6828e72795ecc3b64": {
          "model_module": "@jupyter-widgets/controls",
          "model_name": "HBoxModel",
          "model_module_version": "1.5.0",
          "state": {
            "_view_name": "HBoxView",
            "_dom_classes": [],
            "_model_name": "HBoxModel",
            "_view_module": "@jupyter-widgets/controls",
            "_model_module_version": "1.5.0",
            "_view_count": null,
            "_view_module_version": "1.5.0",
            "box_style": "",
            "layout": "IPY_MODEL_35bf664e1473481ea2851076a922ab41",
            "_model_module": "@jupyter-widgets/controls",
            "children": [
              "IPY_MODEL_52d099549d644cb2b34785d270eca446",
              "IPY_MODEL_75e443b7142c4764b47c08bbee82c2e9",
              "IPY_MODEL_1897ef1114b6428990dfc48d587da8eb"
            ]
          }
        },
        "35bf664e1473481ea2851076a922ab41": {
          "model_module": "@jupyter-widgets/base",
          "model_name": "LayoutModel",
          "model_module_version": "1.2.0",
          "state": {
            "_view_name": "LayoutView",
            "grid_template_rows": null,
            "right": null,
            "justify_content": null,
            "_view_module": "@jupyter-widgets/base",
            "overflow": null,
            "_model_module_version": "1.2.0",
            "_view_count": null,
            "flex_flow": null,
            "width": null,
            "min_width": null,
            "border": null,
            "align_items": null,
            "bottom": null,
            "_model_module": "@jupyter-widgets/base",
            "top": null,
            "grid_column": null,
            "overflow_y": null,
            "overflow_x": null,
            "grid_auto_flow": null,
            "grid_area": null,
            "grid_template_columns": null,
            "flex": null,
            "_model_name": "LayoutModel",
            "justify_items": null,
            "grid_row": null,
            "max_height": null,
            "align_content": null,
            "visibility": null,
            "align_self": null,
            "height": null,
            "min_height": null,
            "padding": null,
            "grid_auto_rows": null,
            "grid_gap": null,
            "max_width": null,
            "order": null,
            "_view_module_version": "1.2.0",
            "grid_template_areas": null,
            "object_position": null,
            "object_fit": null,
            "grid_auto_columns": null,
            "margin": null,
            "display": null,
            "left": null
          }
        },
        "52d099549d644cb2b34785d270eca446": {
          "model_module": "@jupyter-widgets/controls",
          "model_name": "HTMLModel",
          "model_module_version": "1.5.0",
          "state": {
            "_view_name": "HTMLView",
            "style": "IPY_MODEL_139734838cf74359b17320c1e817ffeb",
            "_dom_classes": [],
            "description": "",
            "_model_name": "HTMLModel",
            "placeholder": "​",
            "_view_module": "@jupyter-widgets/controls",
            "_model_module_version": "1.5.0",
            "value": "",
            "_view_count": null,
            "_view_module_version": "1.5.0",
            "description_tooltip": null,
            "_model_module": "@jupyter-widgets/controls",
            "layout": "IPY_MODEL_3e40c23d8857422eb884191eba6272a0"
          }
        },
        "75e443b7142c4764b47c08bbee82c2e9": {
          "model_module": "@jupyter-widgets/controls",
          "model_name": "FloatProgressModel",
          "model_module_version": "1.5.0",
          "state": {
            "_view_name": "ProgressView",
            "style": "IPY_MODEL_2fa1da748fb44e91b4d8faef7059111f",
            "_dom_classes": [],
            "description": "",
            "_model_name": "FloatProgressModel",
            "bar_style": "success",
            "max": 4542,
            "_view_module": "@jupyter-widgets/controls",
            "_model_module_version": "1.5.0",
            "value": 4542,
            "_view_count": null,
            "_view_module_version": "1.5.0",
            "orientation": "horizontal",
            "min": 0,
            "description_tooltip": null,
            "_model_module": "@jupyter-widgets/controls",
            "layout": "IPY_MODEL_f09275c32c5145a4be7a6aacec99ad99"
          }
        },
        "1897ef1114b6428990dfc48d587da8eb": {
          "model_module": "@jupyter-widgets/controls",
          "model_name": "HTMLModel",
          "model_module_version": "1.5.0",
          "state": {
            "_view_name": "HTMLView",
            "style": "IPY_MODEL_8e74fb12d9be4e38b5f582188870c767",
            "_dom_classes": [],
            "description": "",
            "_model_name": "HTMLModel",
            "placeholder": "​",
            "_view_module": "@jupyter-widgets/controls",
            "_model_module_version": "1.5.0",
            "value": " 5120/? [00:00&lt;00:00, 150898.63it/s]",
            "_view_count": null,
            "_view_module_version": "1.5.0",
            "description_tooltip": null,
            "_model_module": "@jupyter-widgets/controls",
            "layout": "IPY_MODEL_0b3028fd8530463c89b090c02f7f6f05"
          }
        },
        "139734838cf74359b17320c1e817ffeb": {
          "model_module": "@jupyter-widgets/controls",
          "model_name": "DescriptionStyleModel",
          "model_module_version": "1.5.0",
          "state": {
            "_view_name": "StyleView",
            "_model_name": "DescriptionStyleModel",
            "description_width": "",
            "_view_module": "@jupyter-widgets/base",
            "_model_module_version": "1.5.0",
            "_view_count": null,
            "_view_module_version": "1.2.0",
            "_model_module": "@jupyter-widgets/controls"
          }
        },
        "3e40c23d8857422eb884191eba6272a0": {
          "model_module": "@jupyter-widgets/base",
          "model_name": "LayoutModel",
          "model_module_version": "1.2.0",
          "state": {
            "_view_name": "LayoutView",
            "grid_template_rows": null,
            "right": null,
            "justify_content": null,
            "_view_module": "@jupyter-widgets/base",
            "overflow": null,
            "_model_module_version": "1.2.0",
            "_view_count": null,
            "flex_flow": null,
            "width": null,
            "min_width": null,
            "border": null,
            "align_items": null,
            "bottom": null,
            "_model_module": "@jupyter-widgets/base",
            "top": null,
            "grid_column": null,
            "overflow_y": null,
            "overflow_x": null,
            "grid_auto_flow": null,
            "grid_area": null,
            "grid_template_columns": null,
            "flex": null,
            "_model_name": "LayoutModel",
            "justify_items": null,
            "grid_row": null,
            "max_height": null,
            "align_content": null,
            "visibility": null,
            "align_self": null,
            "height": null,
            "min_height": null,
            "padding": null,
            "grid_auto_rows": null,
            "grid_gap": null,
            "max_width": null,
            "order": null,
            "_view_module_version": "1.2.0",
            "grid_template_areas": null,
            "object_position": null,
            "object_fit": null,
            "grid_auto_columns": null,
            "margin": null,
            "display": null,
            "left": null
          }
        },
        "2fa1da748fb44e91b4d8faef7059111f": {
          "model_module": "@jupyter-widgets/controls",
          "model_name": "ProgressStyleModel",
          "model_module_version": "1.5.0",
          "state": {
            "_view_name": "StyleView",
            "_model_name": "ProgressStyleModel",
            "description_width": "",
            "_view_module": "@jupyter-widgets/base",
            "_model_module_version": "1.5.0",
            "_view_count": null,
            "_view_module_version": "1.2.0",
            "bar_color": null,
            "_model_module": "@jupyter-widgets/controls"
          }
        },
        "f09275c32c5145a4be7a6aacec99ad99": {
          "model_module": "@jupyter-widgets/base",
          "model_name": "LayoutModel",
          "model_module_version": "1.2.0",
          "state": {
            "_view_name": "LayoutView",
            "grid_template_rows": null,
            "right": null,
            "justify_content": null,
            "_view_module": "@jupyter-widgets/base",
            "overflow": null,
            "_model_module_version": "1.2.0",
            "_view_count": null,
            "flex_flow": null,
            "width": null,
            "min_width": null,
            "border": null,
            "align_items": null,
            "bottom": null,
            "_model_module": "@jupyter-widgets/base",
            "top": null,
            "grid_column": null,
            "overflow_y": null,
            "overflow_x": null,
            "grid_auto_flow": null,
            "grid_area": null,
            "grid_template_columns": null,
            "flex": null,
            "_model_name": "LayoutModel",
            "justify_items": null,
            "grid_row": null,
            "max_height": null,
            "align_content": null,
            "visibility": null,
            "align_self": null,
            "height": null,
            "min_height": null,
            "padding": null,
            "grid_auto_rows": null,
            "grid_gap": null,
            "max_width": null,
            "order": null,
            "_view_module_version": "1.2.0",
            "grid_template_areas": null,
            "object_position": null,
            "object_fit": null,
            "grid_auto_columns": null,
            "margin": null,
            "display": null,
            "left": null
          }
        },
        "8e74fb12d9be4e38b5f582188870c767": {
          "model_module": "@jupyter-widgets/controls",
          "model_name": "DescriptionStyleModel",
          "model_module_version": "1.5.0",
          "state": {
            "_view_name": "StyleView",
            "_model_name": "DescriptionStyleModel",
            "description_width": "",
            "_view_module": "@jupyter-widgets/base",
            "_model_module_version": "1.5.0",
            "_view_count": null,
            "_view_module_version": "1.2.0",
            "_model_module": "@jupyter-widgets/controls"
          }
        },
        "0b3028fd8530463c89b090c02f7f6f05": {
          "model_module": "@jupyter-widgets/base",
          "model_name": "LayoutModel",
          "model_module_version": "1.2.0",
          "state": {
            "_view_name": "LayoutView",
            "grid_template_rows": null,
            "right": null,
            "justify_content": null,
            "_view_module": "@jupyter-widgets/base",
            "overflow": null,
            "_model_module_version": "1.2.0",
            "_view_count": null,
            "flex_flow": null,
            "width": null,
            "min_width": null,
            "border": null,
            "align_items": null,
            "bottom": null,
            "_model_module": "@jupyter-widgets/base",
            "top": null,
            "grid_column": null,
            "overflow_y": null,
            "overflow_x": null,
            "grid_auto_flow": null,
            "grid_area": null,
            "grid_template_columns": null,
            "flex": null,
            "_model_name": "LayoutModel",
            "justify_items": null,
            "grid_row": null,
            "max_height": null,
            "align_content": null,
            "visibility": null,
            "align_self": null,
            "height": null,
            "min_height": null,
            "padding": null,
            "grid_auto_rows": null,
            "grid_gap": null,
            "max_width": null,
            "order": null,
            "_view_module_version": "1.2.0",
            "grid_template_areas": null,
            "object_position": null,
            "object_fit": null,
            "grid_auto_columns": null,
            "margin": null,
            "display": null,
            "left": null
          }
        }
      }
    }
  },
  "cells": [
    {
      "cell_type": "markdown",
      "metadata": {
        "id": "view-in-github",
        "colab_type": "text"
      },
      "source": [
        "<a href=\"https://colab.research.google.com/github/CamelGoong/DataScienceLab/blob/main/CNN_%EC%A0%9C_1%EA%B0%95.ipynb\" target=\"_parent\"><img src=\"https://colab.research.google.com/assets/colab-badge.svg\" alt=\"Open In Colab\"/></a>"
      ]
    },
    {
      "cell_type": "markdown",
      "metadata": {
        "id": "xIqvhvTOM1m4"
      },
      "source": [
        "이 노트북은 최건호, 파이토치 첫걸음 , 한빛미디어 ,2019 를 참고하였습니다. "
      ]
    },
    {
      "cell_type": "markdown",
      "metadata": {
        "id": "SEplwfV2eh2x"
      },
      "source": [
        "## 1. 모듈 불러오기"
      ]
    },
    {
      "cell_type": "code",
      "metadata": {
        "colab": {
          "base_uri": "https://localhost:8080/"
        },
        "id": "PUAoW-0PemWc",
        "outputId": "d85f0b15-866b-47c4-8a80-a30443aec994"
      },
      "source": [
        "import torch \n",
        "import torch.nn as nn #많은 neural network이 담겨있는 모듈입니다. \n",
        "import torch.optim as optim  # 많은 optimizer가 담겨있는 모듈입니다. \n",
        "import torch.nn.init as init # neural network를 초기화 하는 모듈을 담고 있습니다. \n",
        "from torch.utils.data import DataLoader # DataLoader는 내가 가진 데이터(Dataset에서)를 batch_size만큼 불러오는 역할 등을 수행합니다. \n",
        "\n",
        "import torchvision # 이미지를 처리하는데 사용 \n",
        "import torchvision.datasets as dset # 사진 등의 vision 데이터가 담겨있는 모듈입니다. \n",
        "import torchvision.transforms as transforms #이 모듈에는 데이터를 자르고, 반전시키고 tensor로 변환해주기 등의 데이터 변환 함수가 담겨있습니다.\n",
        "import numpy as np\n",
        "\n",
        "import matplotlib.pyplot as plt\n",
        "\n",
        "print(torch.__version__)\n"
      ],
      "execution_count": 1,
      "outputs": [
        {
          "output_type": "stream",
          "text": [
            "1.9.0+cu102\n"
          ],
          "name": "stdout"
        }
      ]
    },
    {
      "cell_type": "markdown",
      "metadata": {
        "id": "MH4mk5jEgAX4"
      },
      "source": [
        "## 2. 데이터 다운 "
      ]
    },
    {
      "cell_type": "code",
      "metadata": {
        "colab": {
          "base_uri": "https://localhost:8080/",
          "height": 644,
          "referenced_widgets": [
            "e9927eb4e30f4b6396827045414346f7",
            "768a3443b6e0434aa5c67ab5e34f0d07",
            "296e3eb45b644f84866086cfb15f2fe8",
            "65de8fc13c184b2986347ab81604f33d",
            "279c51492a1f42f69cc6d6321dbda10e",
            "6262431b6fd641cfa9c1e494d4ebbc72",
            "7a3278ef7fb34e2781744c29fd76bdb4",
            "b22f1fc9645446bcb9495542b8ea2336",
            "5ff7e12d1d7d4db9b72022624d2fc65d",
            "8ba540e9636a46b696aebd39b9650e18",
            "b46a35133d80427eb2161e3359ccd408",
            "7b39c0a629cb4f08a160fd5660181ece",
            "f64c06f12b534e8ab3f27db208353a69",
            "519e2aee581b40adb761b1264a31fdb0",
            "c15d97c406b1426ca3e2faa2afd2065a",
            "849087c85dbd4adda5c1f301e73bfe73",
            "dd5a434f72fb4864b5879ac2773970d9",
            "f6b96b71f70047819b5a7eb25d29a6a8",
            "fe9d348d258d4225b1d2847b09f137fe",
            "d9e62cd22d1d4f93ad1bede6efdd1ee2",
            "c23db1904b174f3992c0da7733908b79",
            "d3fb522736144076a8f760093a904deb",
            "851e3481dfca4d7abb4d29c371f32763",
            "4cb5dfac90cb45de9a6bdc0d0a3d244d",
            "07f3709b096f45a7a62280fe393ab932",
            "2612f3830f2b4db7bde300daf3b3bd6d",
            "a7c2fdfe26ea400bae9404fa6671feef",
            "7345e44eff8d4d1285749e473c18008f",
            "0542edecf99140f78fbc02b17d155233",
            "0f516af3d9db43ae933cb323873fb239",
            "f92665e6814048f2aa77d0c3cf602035",
            "2b05fd4e86ac4ed7913bf8218836cc7e",
            "a3c094c933314c018497101a1eb89cd6",
            "4f356402e85149e6828e72795ecc3b64",
            "35bf664e1473481ea2851076a922ab41",
            "52d099549d644cb2b34785d270eca446",
            "75e443b7142c4764b47c08bbee82c2e9",
            "1897ef1114b6428990dfc48d587da8eb",
            "139734838cf74359b17320c1e817ffeb",
            "3e40c23d8857422eb884191eba6272a0",
            "2fa1da748fb44e91b4d8faef7059111f",
            "f09275c32c5145a4be7a6aacec99ad99",
            "8e74fb12d9be4e38b5f582188870c767",
            "0b3028fd8530463c89b090c02f7f6f05"
          ]
        },
        "id": "q70XVvuLgNhu",
        "outputId": "ac56e614-fdb3-4399-e421-0d1c30793ab0"
      },
      "source": [
        "#모듈을 통해 torchvision.datasets에서 제공하는 데이터를 쉽게 다운받을 수 있습니다. \n",
        "#root는 불러들인 데이터가 저장되는 곳, train은 학습데이터인지에 대한 여부, transform은 데이터 변환함수를 넣는 인자, \n",
        "#target_transform은 label(정답)데이터 또한 변환할 것인지에 대한 여부 \n",
        "#download는 지정된 경로에 데이터가 없다면 다운받을 것인지에 대한 여부를 묻습니다. \n",
        "mnist_train=dset.MNIST(root='../',train=True, transform=transforms.ToTensor(),target_transform=None,download=True)\n",
        "mnist_test=dset.MNIST(root='../',train=False,transform=transforms.ToTensor(),target_transform=None,download=True)\n"
      ],
      "execution_count": 2,
      "outputs": [
        {
          "output_type": "stream",
          "text": [
            "Downloading http://yann.lecun.com/exdb/mnist/train-images-idx3-ubyte.gz\n",
            "Failed to download (trying next):\n",
            "HTTP Error 503: Service Unavailable\n",
            "\n",
            "Downloading https://ossci-datasets.s3.amazonaws.com/mnist/train-images-idx3-ubyte.gz\n",
            "Downloading https://ossci-datasets.s3.amazonaws.com/mnist/train-images-idx3-ubyte.gz to ../MNIST/raw/train-images-idx3-ubyte.gz\n"
          ],
          "name": "stdout"
        },
        {
          "output_type": "display_data",
          "data": {
            "application/vnd.jupyter.widget-view+json": {
              "model_id": "e9927eb4e30f4b6396827045414346f7",
              "version_minor": 0,
              "version_major": 2
            },
            "text/plain": [
              "  0%|          | 0/9912422 [00:00<?, ?it/s]"
            ]
          },
          "metadata": {}
        },
        {
          "output_type": "stream",
          "text": [
            "Extracting ../MNIST/raw/train-images-idx3-ubyte.gz to ../MNIST/raw\n",
            "\n",
            "Downloading http://yann.lecun.com/exdb/mnist/train-labels-idx1-ubyte.gz\n",
            "Downloading http://yann.lecun.com/exdb/mnist/train-labels-idx1-ubyte.gz to ../MNIST/raw/train-labels-idx1-ubyte.gz\n"
          ],
          "name": "stdout"
        },
        {
          "output_type": "display_data",
          "data": {
            "application/vnd.jupyter.widget-view+json": {
              "model_id": "7b39c0a629cb4f08a160fd5660181ece",
              "version_minor": 0,
              "version_major": 2
            },
            "text/plain": [
              "  0%|          | 0/28881 [00:00<?, ?it/s]"
            ]
          },
          "metadata": {}
        },
        {
          "output_type": "stream",
          "text": [
            "Extracting ../MNIST/raw/train-labels-idx1-ubyte.gz to ../MNIST/raw\n",
            "\n",
            "Downloading http://yann.lecun.com/exdb/mnist/t10k-images-idx3-ubyte.gz\n",
            "Downloading http://yann.lecun.com/exdb/mnist/t10k-images-idx3-ubyte.gz to ../MNIST/raw/t10k-images-idx3-ubyte.gz\n",
            "Failed to download (trying next):\n",
            "HTTP Error 503: Service Unavailable\n",
            "\n",
            "Downloading https://ossci-datasets.s3.amazonaws.com/mnist/t10k-images-idx3-ubyte.gz\n",
            "Downloading https://ossci-datasets.s3.amazonaws.com/mnist/t10k-images-idx3-ubyte.gz to ../MNIST/raw/t10k-images-idx3-ubyte.gz\n"
          ],
          "name": "stdout"
        },
        {
          "output_type": "display_data",
          "data": {
            "application/vnd.jupyter.widget-view+json": {
              "model_id": "851e3481dfca4d7abb4d29c371f32763",
              "version_minor": 0,
              "version_major": 2
            },
            "text/plain": [
              "  0%|          | 0/1648877 [00:00<?, ?it/s]"
            ]
          },
          "metadata": {}
        },
        {
          "output_type": "stream",
          "text": [
            "Extracting ../MNIST/raw/t10k-images-idx3-ubyte.gz to ../MNIST/raw\n",
            "\n",
            "Downloading http://yann.lecun.com/exdb/mnist/t10k-labels-idx1-ubyte.gz\n",
            "Downloading http://yann.lecun.com/exdb/mnist/t10k-labels-idx1-ubyte.gz to ../MNIST/raw/t10k-labels-idx1-ubyte.gz\n"
          ],
          "name": "stdout"
        },
        {
          "output_type": "display_data",
          "data": {
            "application/vnd.jupyter.widget-view+json": {
              "model_id": "4f356402e85149e6828e72795ecc3b64",
              "version_minor": 0,
              "version_major": 2
            },
            "text/plain": [
              "  0%|          | 0/4542 [00:00<?, ?it/s]"
            ]
          },
          "metadata": {}
        },
        {
          "output_type": "stream",
          "text": [
            "Extracting ../MNIST/raw/t10k-labels-idx1-ubyte.gz to ../MNIST/raw\n",
            "\n"
          ],
          "name": "stdout"
        },
        {
          "output_type": "stream",
          "text": [
            "/usr/local/lib/python3.7/dist-packages/torchvision/datasets/mnist.py:498: UserWarning: The given NumPy array is not writeable, and PyTorch does not support non-writeable tensors. This means you can write to the underlying (supposedly non-writeable) NumPy array using the tensor. You may want to copy the array to protect its data or make it writeable before converting it to a tensor. This type of warning will be suppressed for the rest of this program. (Triggered internally at  /pytorch/torch/csrc/utils/tensor_numpy.cpp:180.)\n",
            "  return torch.from_numpy(parsed.astype(m[2], copy=False)).view(*s)\n"
          ],
          "name": "stderr"
        }
      ]
    },
    {
      "cell_type": "code",
      "metadata": {
        "colab": {
          "base_uri": "https://localhost:8080/"
        },
        "id": "bwuITE6Xhdqf",
        "outputId": "420aa9ff-a2fe-4c95-d2d3-4139afbdd7de"
      },
      "source": [
        "\n",
        "#데이터 셋 체크 getitem을 써도 되고, 인덱싱을 통해서 해도 괜찮습니다. \n",
        "#데이터 하나가 가진 크기를 유심히 봐야합니다. \n",
        "print(mnist_train.__getitem__(0)[0].size(), mnist_train.__len__())\n",
        "print(mnist_test.__getitem__(0)[0].size(), mnist_test.__len__())\n",
        "\n",
        "print(len(mnist_train),len(mnist_test))\n",
        "#print(mnist_train[0])\n"
      ],
      "execution_count": 3,
      "outputs": [
        {
          "output_type": "stream",
          "text": [
            "torch.Size([1, 28, 28]) 60000\n",
            "torch.Size([1, 28, 28]) 10000\n",
            "60000 10000\n"
          ],
          "name": "stdout"
        }
      ]
    },
    {
      "cell_type": "markdown",
      "metadata": {
        "id": "w_Q6-cabhwsP"
      },
      "source": [
        "## 3. 하이퍼 파라미터 "
      ]
    },
    {
      "cell_type": "code",
      "metadata": {
        "id": "lmlwfoYyhz6f"
      },
      "source": [
        "#CNN에서 대표적인 하이퍼 파라미터로는  num_epoch, batch_size, learnin_rate가 있습니다. 이는 모델에 따라 가감될 수 있습니다. \n",
        "num_epoch=10\n",
        "batch_size=256\n",
        "learning_rate= 0.0002"
      ],
      "execution_count": 4,
      "outputs": []
    },
    {
      "cell_type": "markdown",
      "metadata": {
        "id": "HlEXO2ntiD2L"
      },
      "source": [
        "## 4. 데이터 로더 정의하기 "
      ]
    },
    {
      "cell_type": "markdown",
      "metadata": {
        "id": "MY-vzNXMiKnA"
      },
      "source": [
        "- 사용할 데이터\n",
        "- 배치 사이즈 (batch_size)\n",
        "- 섞을지 여부 (shuffle)\n",
        "- 사용할 프로세스 개수 (num_workers)\n",
        "- 마지막에 남는 데이터의 처리 여부 (drop_last)"
      ]
    },
    {
      "cell_type": "code",
      "metadata": {
        "id": "wavj9j6OiDZs"
      },
      "source": [
        "#위에서 데이터를 정의했는데 왜 또 데이터를 정의하나요? 라는 의문이 생길 것 같습니다. \n",
        "#위에서는 데이터 전부를 정의했습니다. mnist_train에는 모든 학습 데이터가 들어있습니다.\n",
        "#모든 학습 데이터를 한 번에 학습하면 과부하가 발생할 것입니다. \n",
        "#그래서 데이터를 '조금씩 조금씩 쪼개서 학습'할 필요가 있습니다. 그 역할을 수행하는 것이 'DataLodaer'이고 때문에 여기서 train_loader,text_loader를 정의하는 것입니다. \n",
        "train_loader=DataLoader(dataset=mnist_train,batch_size=batch_size,shuffle=True,num_workers=2,drop_last=True)\n",
        "test_loader=DataLoader(dataset=mnist_test,batch_size=batch_size,shuffle=False,num_workers=2,drop_last=True)\n"
      ],
      "execution_count": 5,
      "outputs": []
    },
    {
      "cell_type": "markdown",
      "metadata": {
        "id": "7_BVY0-gjIW5"
      },
      "source": [
        "## 5. 모델 정의하기 "
      ]
    },
    {
      "cell_type": "code",
      "metadata": {
        "id": "u07CLv7wjBFZ"
      },
      "source": [
        "#모델을 정의할 때 유념해야할 건 각 층의 결과물의 사이즈입니다. \n",
        "#이 층에서 어떤 size를 가진 데이터를 몇 개 도출하는지 정확하게 알고 있어야 정확한 모델을 정의할 수 있습니다. \n",
        "#모델이 복잡해지면 복잡해질수록 이는 더욱 중요해집니다. 때문에 모델을 정의할 때 옆에 각 모델이 도출하는 데이터의 크기를 써넣는 것을 추천드립니다. \n",
        "#해당 모델은 임의로 만든 모델입니다. 이 모델이 다른 모델보다 뛰어나다는 보장이 없습니다. \n",
        "class CNN(nn.Module):   \n",
        "  def __init__(self):\n",
        "    super(CNN,self).__init__()                                      #처음에 채널의 수가 1인 이유: 흑백이미지이기 때문입니다. \n",
        "    self.layer=nn.Sequential(                                      #input_size=[batch_size, 1,28,28]  #4차원 tensor\n",
        "        nn.Conv2d(in_channels=1,out_channels=16, kernel_size=5),   #[batch_size, 16,24,24]\n",
        "        nn.ReLU(),                                                 #activation function은 데이터의 크기를 바꾸지 않습니다. \n",
        "        nn.Conv2d(in_channels=16,out_channels=32,kernel_size=5),   #[batch_size, 32,20,20]\n",
        "        nn.ReLU(),\n",
        "        nn.MaxPool2d(kernel_size=2,stride=2),                      #[batch_size,32, 10,10]\n",
        "        nn.Conv2d(in_channels=32,out_channels=64,kernel_size=5),   #[batch_size,64, 6,6]\n",
        "        nn.ReLU(), \n",
        "        nn.MaxPool2d(kernel_size=2,stride=2)                       #[batch_size,64,3,3]\n",
        "    )\n",
        "    self.fc_layer=nn.Sequential(\n",
        "        nn.Linear(64*3*3,100),                                     #[batch_size,100]\n",
        "        nn.ReLU(),\n",
        "        nn.Linear(100,10)                                          #[batch_size,10]\n",
        "    )\n",
        "  def forward(self,x):\n",
        "    out=self.layer(x)\n",
        "    out=out.view(batch_size,-1)\n",
        "    out=self.fc_layer(out)\n",
        "    return out \n",
        "\n",
        "\n",
        "# https://pytorch.org/docs/stable/nn.html?highlight=conv2d#torch.nn.Conv2d\n",
        "# https://pytorch.org/docs/stable/tensors.html?highlight=view#torch.Tensor.view\n",
        "\n",
        "\n",
        "\n",
        "\n",
        "  "
      ],
      "execution_count": 9,
      "outputs": []
    },
    {
      "cell_type": "code",
      "metadata": {
        "id": "Gnb3aES4IVWn"
      },
      "source": [
        "# 강의 때 직접 만들면서 강의하기\n",
        "class CNN(nn.Module): # 부모 클래스를 상속해서 가져오는 것.\n",
        "  def __init__():\n",
        "    super(CNN,self).__init__()\n",
        "    self.layer = nn.sequential( #[batch_size, 1(채널수),28, 28]\n",
        "      nn.Conv2d(1,16,kernel_size = 5), # 이것을 거치게 되면 [batch_size, 16, 24,24] 아까 외웠던 공식 적용\n",
        "      nn.ReLu(),\n",
        "      nn.Conv2d(16,32,kernel_size=5), # [batch_size,32,20, 20]\n",
        "      nn.ReLu(),\n",
        "      nn.MaxPool2d(2,2), # [batch_size, 32, 10, 10] #크기가 2분의1로 작아짐\n",
        "      nn.Conv2d(32,64,5), # [batch_size, 64, 3, 3]\n",
        "      nn.ReLu(),\n",
        "      MaxPool2d(2,2),\n",
        "\n",
        "\n",
        "        \n",
        "    )\n",
        "    self.fc_layer = nn.sequential(\n",
        "        nn.Linear(64*3*3, 100),\n",
        "        nn.ReLu(),\n",
        "        nn.Linear(100,10)\n",
        "    )\n",
        "\n",
        "    # backward는 굳이 정의안해도, 그냥 .backward로 사용하면 됨.\n",
        "  def forward(self,x):\n",
        "    out = layer(x)\n",
        "    out = out.view(batch_size, -1) # batch_size별로 다 64*3*3 사이즈가 됨.\n",
        "    out = self.fc_layer(out)\n",
        "    return out"
      ],
      "execution_count": 7,
      "outputs": []
    },
    {
      "cell_type": "markdown",
      "metadata": {
        "id": "gFI_EbhklAJE"
      },
      "source": [
        "## 6.손실함수와 최적화 함수 정의하기 "
      ]
    },
    {
      "cell_type": "code",
      "metadata": {
        "colab": {
          "base_uri": "https://localhost:8080/"
        },
        "id": "yyAD69AflC24",
        "outputId": "15569268-c9aa-4ed5-a713-af38e4b440ba"
      },
      "source": [
        "#gpu나 cpu를 device로 불러들입니다. 그리고 device에서 학습이 진행되게끔 모델을 device에 올려놓습니다.\n",
        "#loss function과 optimizer를 정의하는 것도 잊지 마세요! \n",
        "#우리는 torch가 제공하는 걸 가져다 쓰면 됩니당 ~ ^_^  \n",
        "device=torch.device(\"cuda:0\" if torch.cuda.is_available() else 'cpu')  \n",
        "print(device)\n",
        "\n",
        "model=CNN().to(device) # device에서 학습이 진행되게끔.\n",
        "\n",
        "loss_func=nn.CrossEntropyLoss()\n",
        "\n",
        "optimizer=torch.optim.Adam(model.parameters(),lr=learning_rate)"
      ],
      "execution_count": 10,
      "outputs": [
        {
          "output_type": "stream",
          "text": [
            "cuda:0\n"
          ],
          "name": "stdout"
        }
      ]
    },
    {
      "cell_type": "markdown",
      "metadata": {
        "id": "_DPFr5TZl_6I"
      },
      "source": [
        "## 7.학습하기 "
      ]
    },
    {
      "cell_type": "code",
      "metadata": {
        "colab": {
          "base_uri": "https://localhost:8080/"
        },
        "id": "4Am3C_jDlcvf",
        "outputId": "21b372a6-70a2-4aaf-b6fe-bd7b2b3528ca"
      },
      "source": [
        "loss_arr=[]\n",
        "for i in range(num_epoch):\n",
        "  for j,[image,label] in enumerate(train_loader):  #아래에서 j를 이용해서 loss를 모으기 위해 이렇게 코드를 짰습니다. \n",
        "    x=image.to(device)            #학습이미지와 \n",
        "    y_=label.to(device)           #정답을 device에 올려놓습니다. \n",
        "    output=model.forward(x)       #학습이미지를 모델에 돌린 결과를 가져옵니다. \n",
        "    loss=loss_func(output,y_)     #결과와 정답을 loss function에 넣고 loss를 추출합니다. \n",
        "    loss.backward()               #추출된 loss를 통해 역전파 ! \n",
        "    optimizer.step()              #역전파를 했다면 optimizer.step()를 통해 파라미터를 이동시켜줍시다. 이것까지 해야지 값이 바뀜.\n",
        "    \n",
        "    if j%1000==0:\n",
        "      print(loss)\n",
        "      loss_arr.append(loss.cpu().detach().numpy())\n",
        "\n",
        "        \n",
        "        \n",
        "    "
      ],
      "execution_count": 11,
      "outputs": [
        {
          "output_type": "stream",
          "text": [
            "/usr/local/lib/python3.7/dist-packages/torch/nn/functional.py:718: UserWarning: Named tensors and all their associated APIs are an experimental feature and subject to change. Please do not use them for anything important until they are released as stable. (Triggered internally at  /pytorch/c10/core/TensorImpl.h:1156.)\n",
            "  return torch.max_pool2d(input, kernel_size, stride, padding, dilation, ceil_mode)\n"
          ],
          "name": "stderr"
        },
        {
          "output_type": "stream",
          "text": [
            "tensor(2.3076, device='cuda:0', grad_fn=<NllLossBackward>)\n",
            "tensor(0.7974, device='cuda:0', grad_fn=<NllLossBackward>)\n",
            "tensor(0.7553, device='cuda:0', grad_fn=<NllLossBackward>)\n",
            "tensor(0.4657, device='cuda:0', grad_fn=<NllLossBackward>)\n",
            "tensor(0.4910, device='cuda:0', grad_fn=<NllLossBackward>)\n",
            "tensor(0.2995, device='cuda:0', grad_fn=<NllLossBackward>)\n",
            "tensor(0.3708, device='cuda:0', grad_fn=<NllLossBackward>)\n",
            "tensor(0.4100, device='cuda:0', grad_fn=<NllLossBackward>)\n",
            "tensor(0.2316, device='cuda:0', grad_fn=<NllLossBackward>)\n",
            "tensor(0.2966, device='cuda:0', grad_fn=<NllLossBackward>)\n"
          ],
          "name": "stdout"
        }
      ]
    },
    {
      "cell_type": "markdown",
      "metadata": {
        "id": "Z0XBGIpgDvMK"
      },
      "source": [
        "## 8.손실 시각화 "
      ]
    },
    {
      "cell_type": "code",
      "metadata": {
        "colab": {
          "base_uri": "https://localhost:8080/",
          "height": 264
        },
        "id": "8mJdMonFDu9a",
        "outputId": "e4cbc313-753f-4bad-97db-bd852e8ff71f"
      },
      "source": [
        "plt.plot(loss_arr)\n",
        "plt.show()"
      ],
      "execution_count": 12,
      "outputs": [
        {
          "output_type": "display_data",
          "data": {
            "image/png": "[encoded data removed]",
            "text/plain": [
              "<Figure size 432x288 with 1 Axes>"
            ]
          },
          "metadata": {
            "needs_background": "light"
          }
        }
      ]
    },
    {
      "cell_type": "markdown",
      "metadata": {
        "id": "YJNZDgOpDpTI"
      },
      "source": [
        "## 9.테스트 하기 "
      ]
    },
    {
      "cell_type": "code",
      "metadata": {
        "colab": {
          "base_uri": "https://localhost:8080/"
        },
        "id": "vHylngGCDpE0",
        "outputId": "365881f1-5c27-44bb-c669-d362b82c0661"
      },
      "source": [
        "correct=0\n",
        "total=0\n",
        "\n",
        "with torch.no_grad():\n",
        "  for image,label in test_loader:\n",
        "    x=image.to(device)\n",
        "    y_=label.to(device)\n",
        "    output=model.forward(x)\n",
        "     #https://pytorch.org/docs/stable/torch.html?highlight=max#torch.max\n",
        "    _,output_index=torch.max(output,1)  #max함수는 max value와 max value의 index를 도출합니다. 두 번째 인자 1은 결과의 dimension을 의미합니다. \n",
        "\n",
        "    total+=label.size(0)\n",
        "\n",
        "    correct += (output_index==y_).sum().float()\n",
        "\n",
        "print(\"Accuracy of Test Data: {}%\".format(100*correct/total))\n"
      ],
      "execution_count": null,
      "outputs": [
        {
          "output_type": "stream",
          "text": [
            "Accuracy of Test Data: 94.29086303710938%\n"
          ],
          "name": "stdout"
        }
      ]
    },
    {
      "cell_type": "markdown",
      "metadata": {
        "id": "6TXDraUEMbMH"
      },
      "source": [
        "# 추가 섹션! cnn2d의 여러 파라미터를 알아봅시다 "
      ]
    },
    {
      "cell_type": "markdown",
      "metadata": {
        "id": "tofEaVHAMx_W"
      },
      "source": [
        "- https://pytorch.org/docs/stable/nn.html?highlight=conv2d#torch.nn.Conv2d\n",
        "- in_channels: 입력의 채널 수\n",
        "- out_channels: 출력의 채널 수\n",
        "- kernel_size: 필터 혹은 커널의 크기 \n",
        "- stride: 필터 적용의 간격 (stride: 걸음걸이)\n",
        "- padding: 입력 데이터를 추가적으로 둘러싸는 층의 두께\n",
        "- padding_mode: 패딩 적용 방식 (ex. zero padding은 0으로 채우는 경우)\n",
        "\n"
      ]
    },
    {
      "cell_type": "markdown",
      "metadata": {
        "id": "4DnImd0yNeWD"
      },
      "source": [
        "데이터는 위에서 불러들인 mnist_test를 그대로 이용합니다. "
      ]
    },
    {
      "cell_type": "code",
      "metadata": {
        "colab": {
          "base_uri": "https://localhost:8080/"
        },
        "id": "gFKeYadYMg_g",
        "outputId": "fac504d6-b9a3-4fa7-fc69-52bf760d6829"
      },
      "source": [
        "print(mnist_train)\n",
        "\n",
        "# dataset.__getitem__(idx)\n",
        "image,label = mnist_train.__getitem__(0)\n",
        "print(image.size(),label)\n",
        "\n",
        "#위 아래 모두 동일한 결과물을 도출합니다. \n",
        "\n",
        "# dataset[idx]\n",
        "image,label = mnist_train[0]\n",
        "print(image.size(),label)\n",
        "\n",
        "# dataset.__len__()\n",
        "print(mnist_train.__len__())\n",
        "\n",
        "#위 아래 모두 동일한 결과물을 도출합니다. \n",
        "\n",
        "# len(dataset)\n",
        "len(mnist_train)"
      ],
      "execution_count": null,
      "outputs": [
        {
          "output_type": "stream",
          "text": [
            "Dataset MNIST\n",
            "    Number of datapoints: 60000\n",
            "    Root location: ../\n",
            "    Split: Train\n",
            "    StandardTransform\n",
            "Transform: ToTensor()\n",
            "torch.Size([1, 28, 28]) 5\n",
            "torch.Size([1, 28, 28]) 5\n",
            "60000\n"
          ],
          "name": "stdout"
        },
        {
          "output_type": "execute_result",
          "data": {
            "text/plain": [
              "60000"
            ]
          },
          "metadata": {
            "tags": []
          },
          "execution_count": 24
        }
      ]
    },
    {
      "cell_type": "markdown",
      "metadata": {
        "id": "wDzqddLtN-43"
      },
      "source": [
        "## 데이터 시각화 "
      ]
    },
    {
      "cell_type": "code",
      "metadata": {
        "colab": {
          "base_uri": "https://localhost:8080/",
          "height": 761
        },
        "id": "yeZHZ2pgNqKU",
        "outputId": "9c8cb69d-3dd0-49c9-baac-ffd18e33d15a"
      },
      "source": [
        "for i in range(3):\n",
        "    img= mnist_train[i][0].numpy()\n",
        "    plt.imshow(img[0],cmap='gray')\n",
        "    plt.show()"
      ],
      "execution_count": null,
      "outputs": [
        {
          "output_type": "display_data",
          "data": {
            "image/png": "[encoded data removed]",
            "text/plain": [
              "<Figure size 432x288 with 1 Axes>"
            ]
          },
          "metadata": {
            "tags": [],
            "needs_background": "light"
          }
        },
        {
          "output_type": "display_data",
          "data": {
            "image/png": "[encoded data removed]",
            "text/plain": [
              "<Figure size 432x288 with 1 Axes>"
            ]
          },
          "metadata": {
            "tags": [],
            "needs_background": "light"
          }
        },
        {
          "output_type": "display_data",
          "data": {
            "image/png": "[encoded data removed]",
            "text/plain": [
              "<Figure size 432x288 with 1 Axes>"
            ]
          },
          "metadata": {
            "tags": [],
            "needs_background": "light"
          }
        }
      ]
    },
    {
      "cell_type": "markdown",
      "metadata": {
        "id": "O01Wl3zROaMf"
      },
      "source": [
        "- 파이토치 텐서 사이즈는 다음과 같은 형태를 가지고 있습니다 -> [Batch,Channel,Height,Width]\n",
        "\n",
        "\n",
        "## 1) Channels\n",
        "\n"
      ]
    },
    {
      "cell_type": "code",
      "metadata": {
        "colab": {
          "base_uri": "https://localhost:8080/",
          "height": 778
        },
        "id": "XEtUZlKXObsX",
        "outputId": "3efa0cd8-bd29-4cea-e7bd-6635928e6846"
      },
      "source": [
        "# 먼저 트레이닝 데이터의 첫번째 이미지-라벨 쌍을 불러옵니다.\n",
        "image,label = mnist_train[0]\n",
        "\n",
        "# nn.Conv2d 연산을 적용할 수 있도록 이미지 데이터의 형태를 [1,1,28,28]로 만들어줍니다.\n",
        "# 이 데이터의 경우 데이터 하나가 원래 [1,28,28]의 크기를 가진 흑백데이터입니다.  \n",
        "# [batch,channel,h,w]의 크기를 가져야 하기 때문에 이렇게 바꾸어줬습니다. \n",
        "# 이는 view 말고도 unsqueeze 함수로도 구현할 수 있습니다.\n",
        "image = image.view(-1,image.size()[0],image.size()[1],image.size()[2])\n",
        "\n",
        "# 1개의 채널을 입력으로 받아서 3개의 채널이 나오는 컨볼루션 연산을 정의합니다.\n",
        "conv_layer = nn.Conv2d(in_channels=1,out_channels=3,kernel_size=1)\n",
        "\n",
        "#3개의 채널이 나온다는 것은 3개의 feature map이 나온다는 것과 동일합니다. \n",
        "\n",
        "# 연산에 입력 이미지를 넣습니다.\n",
        "output = conv_layer(image)\n",
        "\n",
        "# 결과의 형태를 확인합니다. \n",
        "# 연산에서 정의한대로 결과값의 형태는 [1,3,28,28]이 나옵니다. \n",
        "\n",
        "print(output.size())\n",
        "\n",
        "# 출력의 각 채널별 이미지를 띄워봅니다. \n",
        "for i in range(output.size()[1]):\n",
        "    plt.imshow(output[0,i,:,:].data.numpy(),cmap='gray',vmin=-1,vmax=1)\n",
        "    plt.show()"
      ],
      "execution_count": null,
      "outputs": [
        {
          "output_type": "stream",
          "text": [
            "torch.Size([1, 3, 28, 28])\n"
          ],
          "name": "stdout"
        },
        {
          "output_type": "display_data",
          "data": {
            "image/png": "[encoded data removed]",
            "text/plain": [
              "<Figure size 432x288 with 1 Axes>"
            ]
          },
          "metadata": {
            "tags": [],
            "needs_background": "light"
          }
        },
        {
          "output_type": "display_data",
          "data": {
            "image/png": "[encoded data removed]",
            "text/plain": [
              "<Figure size 432x288 with 1 Axes>"
            ]
          },
          "metadata": {
            "tags": [],
            "needs_background": "light"
          }
        },
        {
          "output_type": "display_data",
          "data": {
            "image/png": "[encoded data removed]",
            "text/plain": [
              "<Figure size 432x288 with 1 Axes>"
            ]
          },
          "metadata": {
            "tags": [],
            "needs_background": "light"
          }
        }
      ]
    },
    {
      "cell_type": "markdown",
      "metadata": {
        "id": "J3IkAqVaQQBr"
      },
      "source": [
        "### 2) Kernel Size\n"
      ]
    },
    {
      "cell_type": "code",
      "metadata": {
        "colab": {
          "base_uri": "https://localhost:8080/",
          "height": 812
        },
        "id": "ntWDfmbXQWXK",
        "outputId": "715e3287-9962-4142-b039-508c737813e3"
      },
      "source": [
        "# 커널 사이즈를 1로 하는 경우\n",
        "conv_layer = nn.Conv2d(in_channels=1,out_channels=1,kernel_size=1)\n",
        "output = conv_layer(image)\n",
        "plt.imshow(output[0,0,:,:].data.numpy(),cmap='gray')\n",
        "plt.show()\n",
        "print(\"커널 사이즈가 1인 경우 결과값의 크기:{}\".format(output.size()))\n",
        "\n",
        "\n",
        "# 커널 사이즈를 3로 하는 경우\n",
        "conv_layer = nn.Conv2d(in_channels=1,out_channels=1,kernel_size=3)\n",
        "output = conv_layer(image)\n",
        "plt.imshow(output[0,0,:,:].data.numpy(),cmap='gray')\n",
        "plt.show()\n",
        "print(\"커널 사이즈가 3인 경우 결과값의 크기:{}\".format(output.size()))\n",
        "\n",
        "\n",
        "# 커널 사이즈를 5로 하는 경우\n",
        "conv_layer = nn.Conv2d(in_channels=1,out_channels=1,kernel_size=5)\n",
        "output = conv_layer(image)\n",
        "plt.imshow(output[0,0,:,:].data.numpy(),cmap='gray')\n",
        "plt.show()\n",
        "print(\"커널 사이즈가 5인 경우 결과값의 크기:{}\".format(output.size()))"
      ],
      "execution_count": null,
      "outputs": [
        {
          "output_type": "display_data",
          "data": {
            "image/png": "[encoded data removed]",
            "text/plain": [
              "<Figure size 432x288 with 1 Axes>"
            ]
          },
          "metadata": {
            "tags": [],
            "needs_background": "light"
          }
        },
        {
          "output_type": "stream",
          "text": [
            "커널 사이즈가 1인 경우 결과값의 크기:torch.Size([1, 1, 28, 28])\n"
          ],
          "name": "stdout"
        },
        {
          "output_type": "display_data",
          "data": {
            "image/png": "[encoded data removed]",
            "text/plain": [
              "<Figure size 432x288 with 1 Axes>"
            ]
          },
          "metadata": {
            "tags": [],
            "needs_background": "light"
          }
        },
        {
          "output_type": "stream",
          "text": [
            "커널 사이즈가 3인 경우 결과값의 크기:torch.Size([1, 1, 26, 26])\n"
          ],
          "name": "stdout"
        },
        {
          "output_type": "display_data",
          "data": {
            "image/png": "[encoded data removed]",
            "text/plain": [
              "<Figure size 432x288 with 1 Axes>"
            ]
          },
          "metadata": {
            "tags": [],
            "needs_background": "light"
          }
        },
        {
          "output_type": "stream",
          "text": [
            "커널 사이즈가 5인 경우 결과값의 크기:torch.Size([1, 1, 24, 24])\n"
          ],
          "name": "stdout"
        }
      ]
    },
    {
      "cell_type": "markdown",
      "metadata": {
        "id": "dn1N2iUZQ093"
      },
      "source": [
        "## 3) Stride"
      ]
    },
    {
      "cell_type": "code",
      "metadata": {
        "colab": {
          "base_uri": "https://localhost:8080/",
          "height": 812
        },
        "id": "pHnEu4vPQ4k-",
        "outputId": "3d6f0e23-eccb-426f-ea81-057f9b906ad1"
      },
      "source": [
        "# 스트라이드가 1인 경우\n",
        "conv_layer = nn.Conv2d(in_channels=1,out_channels=1,kernel_size=1,stride=1)\n",
        "output = conv_layer(image)\n",
        "plt.imshow(output[0,0,:,:].data.numpy(),cmap='gray')\n",
        "plt.show()\n",
        "print(\"스트라이드가 1인 경우 결과값의 크기:{}\".format(output.size()))\n",
        "\n",
        "\n",
        "# 스트라이드가 3인 경우\n",
        "conv_layer = nn.Conv2d(in_channels=1,out_channels=1,kernel_size=1,stride=3)\n",
        "output = conv_layer(image)\n",
        "plt.imshow(output[0,0,:,:].data.numpy(),cmap='gray')\n",
        "plt.show()\n",
        "print(\"스트라이드가 3인 경우 결과값의 크기:{}\".format(output.size()))\n",
        "\n",
        "\n",
        "# 스트라이드가 5인 경우\n",
        "conv_layer = nn.Conv2d(in_channels=1,out_channels=1,kernel_size=1,stride=5)\n",
        "output = conv_layer(image)\n",
        "plt.imshow(output[0,0,:,:].data.numpy(),cmap='gray')\n",
        "plt.show()\n",
        "print(\"스트라이드가 5인 경우 결과값의 크기:{}\".format(output.size()))"
      ],
      "execution_count": null,
      "outputs": [
        {
          "output_type": "display_data",
          "data": {
            "image/png": "[encoded data removed]",
            "text/plain": [
              "<Figure size 432x288 with 1 Axes>"
            ]
          },
          "metadata": {
            "tags": [],
            "needs_background": "light"
          }
        },
        {
          "output_type": "stream",
          "text": [
            "스트라이드가 1인 경우 결과값의 크기:torch.Size([1, 1, 28, 28])\n"
          ],
          "name": "stdout"
        },
        {
          "output_type": "display_data",
          "data": {
            "image/png": "[encoded data removed]",
            "text/plain": [
              "<Figure size 432x288 with 1 Axes>"
            ]
          },
          "metadata": {
            "tags": [],
            "needs_background": "light"
          }
        },
        {
          "output_type": "stream",
          "text": [
            "스트라이드가 3인 경우 결과값의 크기:torch.Size([1, 1, 10, 10])\n"
          ],
          "name": "stdout"
        },
        {
          "output_type": "display_data",
          "data": {
            "image/png": "[encoded data removed]",
            "text/plain": [
              "<Figure size 432x288 with 1 Axes>"
            ]
          },
          "metadata": {
            "tags": [],
            "needs_background": "light"
          }
        },
        {
          "output_type": "stream",
          "text": [
            "스트라이드가 5인 경우 결과값의 크기:torch.Size([1, 1, 6, 6])\n"
          ],
          "name": "stdout"
        }
      ]
    },
    {
      "cell_type": "markdown",
      "metadata": {
        "id": "rSL_SMjlQ750"
      },
      "source": [
        "## 4) Padding"
      ]
    },
    {
      "cell_type": "code",
      "metadata": {
        "colab": {
          "base_uri": "https://localhost:8080/",
          "height": 814
        },
        "id": "_Bu9zb25RBQL",
        "outputId": "2cbf3de3-1ca3-4dab-b6a6-8f401f8d03fb"
      },
      "source": [
        "# 패딩이 없는 경우\n",
        "conv_layer = nn.Conv2d(in_channels=1,out_channels=1,kernel_size=1,padding=0)\n",
        "output = conv_layer(image)\n",
        "plt.imshow(output[0,0,:,:].data.numpy(),cmap='gray')\n",
        "plt.show()\n",
        "print(\"패딩이 0인 경우 결과값의 크기:{}\".format(output.size()))\n",
        "\n",
        "# 패딩이 1인 경우\n",
        "conv_layer = nn.Conv2d(in_channels=1,out_channels=1,kernel_size=1,padding=1)\n",
        "output = conv_layer(image)\n",
        "plt.imshow(output[0,0,:,:].data.numpy(),cmap='gray')\n",
        "plt.show()\n",
        "print(\"패딩이 1인 경우 결과값의 크기:{}\".format(output.size()))\n",
        "\n",
        "# 패딩이 2인 경우\n",
        "conv_layer = nn.Conv2d(in_channels=1,out_channels=1,kernel_size=1,padding=2)\n",
        "output = conv_layer(image)\n",
        "plt.imshow(output[0,0,:,:].data.numpy(),cmap='gray')\n",
        "plt.show()\n",
        "print(\"패딩이 2인 경우 결과값의 크기:{}\".format(output.size()))"
      ],
      "execution_count": null,
      "outputs": [
        {
          "output_type": "display_data",
          "data": {
            "image/png": "[encoded data removed]",
            "text/plain": [
              "<Figure size 432x288 with 1 Axes>"
            ]
          },
          "metadata": {
            "tags": [],
            "needs_background": "light"
          }
        },
        {
          "output_type": "stream",
          "text": [
            "패딩이 0인 경우 결과값의 크기:torch.Size([1, 1, 28, 28])\n"
          ],
          "name": "stdout"
        },
        {
          "output_type": "display_data",
          "data": {
            "image/png": "[encoded data removed]",
            "text/plain": [
              "<Figure size 432x288 with 1 Axes>"
            ]
          },
          "metadata": {
            "tags": [],
            "needs_background": "light"
          }
        },
        {
          "output_type": "stream",
          "text": [
            "패딩이 1인 경우 결과값의 크기:torch.Size([1, 1, 30, 30])\n"
          ],
          "name": "stdout"
        },
        {
          "output_type": "display_data",
          "data": {
            "image/png": "[encoded data removed]",
            "text/plain": [
              "<Figure size 432x288 with 1 Axes>"
            ]
          },
          "metadata": {
            "tags": [],
            "needs_background": "light"
          }
        },
        {
          "output_type": "stream",
          "text": [
            "패딩이 2인 경우 결과값의 크기:torch.Size([1, 1, 32, 32])\n"
          ],
          "name": "stdout"
        }
      ]
    },
    {
      "cell_type": "code",
      "metadata": {
        "id": "JBlt08K_RDe1"
      },
      "source": [
        ""
      ],
      "execution_count": null,
      "outputs": []
    }
  ]
}